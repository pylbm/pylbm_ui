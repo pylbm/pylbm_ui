{
 "cells": [
  {
   "cell_type": "markdown",
   "id": "median-democracy",
   "metadata": {},
   "source": [
    "# pylbm demonstrator"
   ]
  },
  {
   "cell_type": "code",
   "execution_count": 1,
   "id": "dramatic-trauma",
   "metadata": {},
   "outputs": [],
   "source": [
    "from pylbm_ui import main"
   ]
  },
  {
   "cell_type": "code",
   "execution_count": 2,
   "id": "guided-noise",
   "metadata": {},
   "outputs": [
    {
     "data": {
      "application/vnd.jupyter.widget-view+json": {
       "model_id": "f38c1f7fbf27473b8b206b7f717d4f40",
       "version_major": 2,
       "version_minor": 0
      },
      "text/plain": [
       "Tab(children=(GridspecLayout(children=(VBox(children=(HTML(value='<u><b>Select the test case</u></b>'), Dropdo…"
      ]
     },
     "metadata": {},
     "output_type": "display_data"
    }
   ],
   "source": [
    "main()"
   ]
  },
  {
   "cell_type": "code",
   "execution_count": 3,
   "id": "capable-transparency",
   "metadata": {},
   "outputs": [
    {
     "ename": "NameError",
     "evalue": "name 'm' is not defined",
     "output_type": "error",
     "traceback": [
      "\u001b[0;31m---------------------------------------------------------------------------\u001b[0m",
      "\u001b[0;31mNameError\u001b[0m                                 Traceback (most recent call last)",
      "\u001b[0;32m<ipython-input-3-f356ccc62dc0>\u001b[0m in \u001b[0;36m<module>\u001b[0;34m\u001b[0m\n\u001b[0;32m----> 1\u001b[0;31m \u001b[0mm\u001b[0m\u001b[0;34m.\u001b[0m\u001b[0mtab\u001b[0m\u001b[0;34m\u001b[0m\u001b[0;34m\u001b[0m\u001b[0m\n\u001b[0m",
      "\u001b[0;31mNameError\u001b[0m: name 'm' is not defined"
     ]
    }
   ],
   "source": [
    "m.tab"
   ]
  },
  {
   "cell_type": "code",
   "execution_count": null,
   "id": "postal-smoke",
   "metadata": {},
   "outputs": [],
   "source": [
    "import pylbm\n",
    "s = pylbm.Stencil({'dim': 1,\n",
    "             'schemes':[{'velocities': list(range(9))},],\n",
    "            })"
   ]
  },
  {
   "cell_type": "code",
   "execution_count": null,
   "id": "bizarre-style",
   "metadata": {},
   "outputs": [],
   "source": [
    "s.visualize()"
   ]
  },
  {
   "cell_type": "code",
   "execution_count": null,
   "id": "popular-toilet",
   "metadata": {},
   "outputs": [],
   "source": [
    "from pydantic import BaseModel"
   ]
  },
  {
   "cell_type": "code",
   "execution_count": null,
   "id": "ecological-nylon",
   "metadata": {},
   "outputs": [],
   "source": [
    "class toto(BaseModel):\n",
    "    dx: float\n",
    "    la: float"
   ]
  },
  {
   "cell_type": "code",
   "execution_count": null,
   "id": "editorial-deviation",
   "metadata": {},
   "outputs": [],
   "source": [
    "t = toto(dx=1, la=2)"
   ]
  },
  {
   "cell_type": "code",
   "execution_count": null,
   "id": "successful-february",
   "metadata": {},
   "outputs": [],
   "source": [
    "t.dx"
   ]
  }
 ],
 "metadata": {
  "kernelspec": {
   "display_name": "Python 3",
   "language": "python",
   "name": "python3"
  },
  "language_info": {
   "codemirror_mode": {
    "name": "ipython",
    "version": 3
   },
   "file_extension": ".py",
   "mimetype": "text/x-python",
   "name": "python",
   "nbconvert_exporter": "python",
   "pygments_lexer": "ipython3",
   "version": "3.6.12"
  }
 },
 "nbformat": 4,
 "nbformat_minor": 5
}
