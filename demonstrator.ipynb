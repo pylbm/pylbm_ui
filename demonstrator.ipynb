{
 "cells": [
  {
   "cell_type": "markdown",
   "id": "suited-creation",
   "metadata": {},
   "source": [
    "# pylbm demonstrator"
   ]
  },
  {
   "cell_type": "code",
   "execution_count": 1,
   "id": "colonial-plumbing",
   "metadata": {},
   "outputs": [],
   "source": [
    "%matplotlib widget"
   ]
  },
  {
   "cell_type": "code",
   "execution_count": 2,
   "id": "functioning-lecture",
   "metadata": {},
   "outputs": [],
   "source": [
    "from pylbm_ui import main"
   ]
  },
  {
   "cell_type": "code",
   "execution_count": 3,
   "id": "bigger-kennedy",
   "metadata": {},
   "outputs": [
    {
     "name": "stderr",
     "output_type": "stream",
     "text": [
      "/home/loic/Work/pylbm/pylbm_ui/schema/exact_solvers/euler_solver.py:154: RuntimeWarning: invalid value encountered in power\n",
      "  p_star**exposant2 - p_left**exposant2\n",
      "/home/loic/Work/pylbm/pylbm_ui/schema/exact_solvers/euler_solver.py:157: RuntimeWarning: invalid value encountered in power\n",
      "  exposant2 * p_star**(exposant2-1)\n",
      "/home/loic/Work/pylbm/pylbm_ui/schema/exact_solvers/euler_solver.py:184: RuntimeWarning: invalid value encountered in power\n",
      "  p_star**exposant2 - p_right**exposant2\n",
      "/home/loic/Work/pylbm/pylbm_ui/schema/exact_solvers/euler_solver.py:187: RuntimeWarning: invalid value encountered in power\n",
      "  exposant2 * p_star**(exposant2-1)\n"
     ]
    },
    {
     "data": {
      "application/vnd.jupyter.widget-view+json": {
       "model_id": "fc0f4c219e214d978f22df81aa94e4fc",
       "version_major": 2,
       "version_minor": 0
      },
      "text/plain": [
       "Tabs(center_active=True, children=[Tab(children=['Test case']), Tab(children=['Scheme']), Tab(children=['Linea…"
      ]
     },
     "metadata": {},
     "output_type": "display_data"
    }
   ],
   "source": [
    "main()"
   ]
  },
  {
   "cell_type": "code",
   "execution_count": null,
   "id": "partial-miracle",
   "metadata": {},
   "outputs": [],
   "source": []
  }
 ],
 "metadata": {
  "kernelspec": {
   "display_name": "Python 3",
   "language": "python",
   "name": "python3"
  },
  "language_info": {
   "codemirror_mode": {
    "name": "ipython",
    "version": 3
   },
   "file_extension": ".py",
   "mimetype": "text/x-python",
   "name": "python",
   "nbconvert_exporter": "python",
   "pygments_lexer": "ipython3",
   "version": "3.6.12"
  }
 },
 "nbformat": 4,
 "nbformat_minor": 5
}
