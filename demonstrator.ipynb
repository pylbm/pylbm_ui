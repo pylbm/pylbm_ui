{
 "cells": [
  {
   "cell_type": "markdown",
   "id": "suited-creation",
   "metadata": {},
   "source": [
    "# pylbm demonstrator"
   ]
  },
  {
   "cell_type": "code",
   "execution_count": 1,
   "id": "colonial-plumbing",
   "metadata": {},
   "outputs": [],
   "source": [
    "%matplotlib widget"
   ]
  },
  {
   "cell_type": "code",
   "execution_count": 2,
   "id": "functioning-lecture",
   "metadata": {},
   "outputs": [],
   "source": [
    "from pylbm_ui import main"
   ]
  },
  {
   "cell_type": "code",
   "execution_count": 3,
   "id": "bigger-kennedy",
   "metadata": {},
   "outputs": [
    {
     "name": "stderr",
     "output_type": "stream",
     "text": [
      "/home/loic/Work/pylbm/pylbm_ui/schema/exact_solvers/euler_solver.py:154: RuntimeWarning: invalid value encountered in power\n",
      "  p_star**exposant2 - p_left**exposant2\n",
      "/home/loic/Work/pylbm/pylbm_ui/schema/exact_solvers/euler_solver.py:157: RuntimeWarning: invalid value encountered in power\n",
      "  exposant2 * p_star**(exposant2-1)\n",
      "/home/loic/Work/pylbm/pylbm_ui/schema/exact_solvers/euler_solver.py:184: RuntimeWarning: invalid value encountered in power\n",
      "  p_star**exposant2 - p_right**exposant2\n",
      "/home/loic/Work/pylbm/pylbm_ui/schema/exact_solvers/euler_solver.py:187: RuntimeWarning: invalid value encountered in power\n",
      "  exposant2 * p_star**(exposant2-1)\n"
     ]
    },
    {
     "data": {
      "application/vnd.jupyter.widget-view+json": {
       "model_id": "34b5caac93a04f4f816d9e7c07b41237",
       "version_major": 2,
       "version_minor": 0
      },
      "text/plain": [
       "Tabs(center_active=True, children=[Tab(children=['Test case']), Tab(children=['Scheme']), Tab(children=['Linea…"
      ]
     },
     "metadata": {},
     "output_type": "display_data"
    },
    {
     "ename": "TypeError",
     "evalue": "__init__() takes 2 positional arguments but 3 were given",
     "output_type": "error",
     "traceback": [
      "\u001b[0;31m---------------------------------------------------------------------------\u001b[0m",
      "\u001b[0;31mTypeError\u001b[0m                                 Traceback (most recent call last)",
      "\u001b[0;32m~/Work/pylbm/pylbm_ui/pylbm_ui/tab_widgets/stability_widget.py\u001b[0m in \u001b[0;36mon_click\u001b[0;34m(widget, event, data)\u001b[0m\n\u001b[1;32m     81\u001b[0m                 \u001b[0malert\u001b[0m\u001b[0;34m.\u001b[0m\u001b[0mchildren\u001b[0m \u001b[0;34m=\u001b[0m \u001b[0;34m[\u001b[0m\u001b[0;34m'Check the stability for this state...'\u001b[0m\u001b[0;34m]\u001b[0m\u001b[0;34m\u001b[0m\u001b[0;34m\u001b[0m\u001b[0m\n\u001b[1;32m     82\u001b[0m                 \u001b[0mcase\u001b[0m \u001b[0;34m=\u001b[0m \u001b[0mLB_scheme_widget\u001b[0m\u001b[0;34m.\u001b[0m\u001b[0mget_case\u001b[0m\u001b[0;34m(\u001b[0m\u001b[0;34m)\u001b[0m\u001b[0;34m\u001b[0m\u001b[0;34m\u001b[0m\u001b[0m\n\u001b[0;32m---> 83\u001b[0;31m                 \u001b[0mstability\u001b[0m \u001b[0;34m=\u001b[0m \u001b[0mcase\u001b[0m\u001b[0;34m.\u001b[0m\u001b[0mget_stability\u001b[0m\u001b[0;34m(\u001b[0m\u001b[0mtest_case\u001b[0m\u001b[0;34m.\u001b[0m\u001b[0mstate\u001b[0m\u001b[0;34m(\u001b[0m\u001b[0;34m)\u001b[0m\u001b[0;34m[\u001b[0m\u001b[0mstate\u001b[0m\u001b[0;34m.\u001b[0m\u001b[0mv_model\u001b[0m\u001b[0;34m]\u001b[0m\u001b[0;34m,\u001b[0m \u001b[0mmarkers1\u001b[0m\u001b[0;34m,\u001b[0m \u001b[0mmarkers2\u001b[0m\u001b[0;34m)\u001b[0m\u001b[0;34m\u001b[0m\u001b[0;34m\u001b[0m\u001b[0m\n\u001b[0m\u001b[1;32m     84\u001b[0m                 \u001b[0mstab_output\u001b[0m\u001b[0;34m.\u001b[0m\u001b[0mcanvas\u001b[0m\u001b[0;34m.\u001b[0m\u001b[0mdraw_idle\u001b[0m\u001b[0;34m(\u001b[0m\u001b[0;34m)\u001b[0m\u001b[0;34m\u001b[0m\u001b[0;34m\u001b[0m\u001b[0m\n\u001b[1;32m     85\u001b[0m                 \u001b[0;32mif\u001b[0m \u001b[0mstability\u001b[0m\u001b[0;34m.\u001b[0m\u001b[0mis_stable_l2\u001b[0m\u001b[0;34m:\u001b[0m\u001b[0;34m\u001b[0m\u001b[0;34m\u001b[0m\u001b[0m\n",
      "\u001b[0;32m~/Work/pylbm/pylbm_ui/schema/utils.py\u001b[0m in \u001b[0;36mget_stability\u001b[0;34m(self, state, markers1, markers2)\u001b[0m\n\u001b[1;32m     18\u001b[0m     \u001b[0;32mdef\u001b[0m \u001b[0mget_stability\u001b[0m\u001b[0;34m(\u001b[0m\u001b[0mself\u001b[0m\u001b[0;34m,\u001b[0m \u001b[0mstate\u001b[0m\u001b[0;34m,\u001b[0m \u001b[0mmarkers1\u001b[0m\u001b[0;34m,\u001b[0m \u001b[0mmarkers2\u001b[0m\u001b[0;34m)\u001b[0m\u001b[0;34m:\u001b[0m\u001b[0;34m\u001b[0m\u001b[0;34m\u001b[0m\u001b[0m\n\u001b[1;32m     19\u001b[0m         \u001b[0mscheme\u001b[0m \u001b[0;34m=\u001b[0m \u001b[0mpylbm\u001b[0m\u001b[0;34m.\u001b[0m\u001b[0mScheme\u001b[0m\u001b[0;34m(\u001b[0m\u001b[0mself\u001b[0m\u001b[0;34m.\u001b[0m\u001b[0mget_dictionary\u001b[0m\u001b[0;34m(\u001b[0m\u001b[0;34m)\u001b[0m\u001b[0;34m)\u001b[0m\u001b[0;34m\u001b[0m\u001b[0;34m\u001b[0m\u001b[0m\n\u001b[0;32m---> 20\u001b[0;31m         \u001b[0mstab\u001b[0m \u001b[0;34m=\u001b[0m \u001b[0mpylbm\u001b[0m\u001b[0;34m.\u001b[0m\u001b[0mStability\u001b[0m\u001b[0;34m(\u001b[0m\u001b[0mscheme\u001b[0m\u001b[0;34m,\u001b[0m \u001b[0;32mTrue\u001b[0m\u001b[0;34m)\u001b[0m\u001b[0;34m\u001b[0m\u001b[0;34m\u001b[0m\u001b[0m\n\u001b[0m\u001b[1;32m     21\u001b[0m \u001b[0;34m\u001b[0m\u001b[0m\n\u001b[1;32m     22\u001b[0m         \u001b[0mconsm0\u001b[0m \u001b[0;34m=\u001b[0m \u001b[0;34m[\u001b[0m\u001b[0;36m0.\u001b[0m\u001b[0;34m]\u001b[0m \u001b[0;34m*\u001b[0m \u001b[0mlen\u001b[0m\u001b[0;34m(\u001b[0m\u001b[0mstab\u001b[0m\u001b[0;34m.\u001b[0m\u001b[0mconsm\u001b[0m\u001b[0;34m)\u001b[0m\u001b[0;34m\u001b[0m\u001b[0;34m\u001b[0m\u001b[0m\n",
      "\u001b[0;31mTypeError\u001b[0m: __init__() takes 2 positional arguments but 3 were given"
     ]
    }
   ],
   "source": [
    "main()"
   ]
  },
  {
   "cell_type": "code",
   "execution_count": null,
   "id": "partial-miracle",
   "metadata": {},
   "outputs": [],
   "source": []
  }
 ],
 "metadata": {
  "kernelspec": {
   "display_name": "Python 3",
   "language": "python",
   "name": "python3"
  },
  "language_info": {
   "codemirror_mode": {
    "name": "ipython",
    "version": 3
   },
   "file_extension": ".py",
   "mimetype": "text/x-python",
   "name": "python",
   "nbconvert_exporter": "python",
   "pygments_lexer": "ipython3",
   "version": "3.9.2"
  }
 },
 "nbformat": 4,
 "nbformat_minor": 5
}
