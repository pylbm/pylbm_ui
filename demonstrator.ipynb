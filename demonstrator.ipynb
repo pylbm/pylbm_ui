{
 "cells": [
  {
   "cell_type": "markdown",
   "id": "median-democracy",
   "metadata": {},
   "source": [
    "# pylbm demonstrator"
   ]
  },
  {
   "cell_type": "code",
   "execution_count": 1,
   "id": "dramatic-trauma",
   "metadata": {},
   "outputs": [],
   "source": [
    "from pylbm_ui import main"
   ]
  },
  {
   "cell_type": "code",
   "execution_count": 2,
   "id": "guided-noise",
   "metadata": {},
   "outputs": [
    {
     "data": {
      "application/vnd.jupyter.widget-view+json": {
       "model_id": "39453a7240ab4c4395a932957dae1496",
       "version_major": 2,
       "version_minor": 0
      },
      "text/plain": [
       "Tab(children=(GridspecLayout(children=(VBox(children=(HTML(value='<u><b>Select the test case</u></b>'), Dropdo…"
      ]
     },
     "metadata": {},
     "output_type": "display_data"
    }
   ],
   "source": [
    "main()"
   ]
  }
 ],
 "metadata": {
  "kernelspec": {
   "display_name": "Python 3",
   "language": "python",
   "name": "python3"
  },
  "language_info": {
   "codemirror_mode": {
    "name": "ipython",
    "version": 3
   },
   "file_extension": ".py",
   "mimetype": "text/x-python",
   "name": "python",
   "nbconvert_exporter": "python",
   "pygments_lexer": "ipython3",
   "version": "3.7.9"
  }
 },
 "nbformat": 4,
 "nbformat_minor": 5
}
