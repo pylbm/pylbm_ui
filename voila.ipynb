{
 "cells": [
  {
   "cell_type": "code",
   "execution_count": 1,
   "id": "contrary-navigation",
   "metadata": {},
   "outputs": [],
   "source": [
    "%matplotlib widget"
   ]
  },
  {
   "cell_type": "code",
   "execution_count": 2,
   "id": "grateful-bracket",
   "metadata": {},
   "outputs": [],
   "source": [
    "from pylbm_ui.voila_main import main"
   ]
  },
  {
   "cell_type": "code",
   "execution_count": 3,
   "id": "attempted-encoding",
   "metadata": {},
   "outputs": [
    {
     "data": {
      "application/vnd.jupyter.widget-view+json": {
       "model_id": "fd7fd6ecfbf7453ca8bbe5c721f83b2d",
       "version_major": 2,
       "version_minor": 0
      },
      "text/plain": [
       "App(children=[AppBar(app=True, children=[AppBarNavIcon(), Tabs(align_with_title=True, center_active=True, chil…"
      ]
     },
     "metadata": {},
     "output_type": "display_data"
    }
   ],
   "source": [
    "main()"
   ]
  },
  {
   "cell_type": "code",
   "execution_count": null,
   "id": "expanded-birth",
   "metadata": {},
   "outputs": [],
   "source": []
  }
 ],
 "metadata": {
  "kernelspec": {
   "display_name": "Python 3",
   "language": "python",
   "name": "python3"
  },
  "language_info": {
   "codemirror_mode": {
    "name": "ipython",
    "version": 3
   },
   "file_extension": ".py",
   "mimetype": "text/x-python",
   "name": "python",
   "nbconvert_exporter": "python",
   "pygments_lexer": "ipython3",
   "version": "3.9.2"
  },
  "widgets": {
   "application/vnd.jupyter.widget-state+json": {
    "state": {
     "00aa1d355fc94158b65c9d518a069137": {
      "model_module": "jupyter-vuetify",
      "model_module_version": "^1.6.2",
      "model_name": "CardModel",
      "state": {
       "_events": [],
       "_jupyter_vue": "IPY_MODEL_992e22c5a5104efdb11fafa4575ee530",
       "attributes": {},
       "children": [
        "uncheck"
       ],
       "class_": "pa-2",
       "elevation": null,
       "height": null,
       "href": null,
       "layout": "IPY_MODEL_bf0eada687a94bd3967222344613b137",
       "loader_height": null,
       "loading": null,
       "max_height": null,
       "max_width": null,
       "min_height": null,
       "min_width": null,
       "ripple": null,
       "to": null,
       "v_slots": [],
       "width": null
      }
     },
     "01f59630fbc0412c89cd4c88360e66a8": {
      "model_module": "@jupyter-widgets/base",
      "model_module_version": "1.2.0",
      "model_name": "LayoutModel",
      "state": {}
     },
     "0232ccedf97441d9b6b69bfa9fdc0173": {
      "model_module": "jupyter-vuetify",
      "model_module_version": "^1.6.2",
      "model_name": "CardTitleModel",
      "state": {
       "_events": [],
       "_jupyter_vue": "IPY_MODEL_992e22c5a5104efdb11fafa4575ee530",
       "attributes": {},
       "children": [
        "New save configuration"
       ],
       "class_": "headline gray lighten-2",
       "layout": "IPY_MODEL_ffb49cee917e41fe868a9bfd4b7c59b7",
       "v_slots": []
      }
     },
     "024a2ab1b46443819e7e1c64e52100b9": {
      "model_module": "@jupyter-widgets/base",
      "model_module_version": "1.2.0",
      "model_name": "LayoutModel",
      "state": {}
     },
     "026dd3b6826c45ebb5a2c1541a7ca755": {
      "model_module": "jupyter-vuetify",
      "model_module_version": "^1.6.2",
      "model_name": "SpacerModel",
      "state": {
       "_events": [],
       "_jupyter_vue": "IPY_MODEL_992e22c5a5104efdb11fafa4575ee530",
       "attributes": {},
       "children": [],
       "layout": "IPY_MODEL_26e32d69e7474e72844d27c7819e9f24",
       "v_slots": []
      }
     },
     "0288582fb280421a95601ad18ba54c36": {
      "model_module": "jupyter-vuetify",
      "model_module_version": "^1.6.2",
      "model_name": "SelectModel",
      "state": {
       "_events": [],
       "_jupyter_vue": "IPY_MODEL_992e22c5a5104efdb11fafa4575ee530",
       "attributes": {},
       "children": [],
       "counter": null,
       "error_count": null,
       "error_messages": null,
       "height": null,
       "hide_details": null,
       "item_disabled": null,
       "item_text": null,
       "item_value": null,
       "items": [
        "Latin hypercube",
        "Sobol",
        "Halton",
        "Hammersly"
       ],
       "label": "Method",
       "layout": "IPY_MODEL_d7ee170721e546f8b4eba40be9620435",
       "loader_height": null,
       "loading": null,
       "menu_props": null,
       "messages": null,
       "success_messages": null,
       "v_model": "Latin hypercube",
       "v_slots": []
      }
     },
     "029b8ffc2e7646fd8dbe055821ee42c9": {
      "model_module": "jupyter-vuetify",
      "model_module_version": "^1.6.2",
      "model_name": "CardModel",
      "state": {
       "_events": [],
       "_jupyter_vue": "IPY_MODEL_992e22c5a5104efdb11fafa4575ee530",
       "attributes": {},
       "children": [
        "IPY_MODEL_2c1c8b7ab8f649e2b84d2fbce4f0b584"
       ],
       "color": "transparent",
       "elevation": null,
       "flat": true,
       "height": null,
       "href": null,
       "layout": "IPY_MODEL_81f97354608a436d9797a82cc5960a9e",
       "light": true,
       "loader_height": null,
       "loading": null,
       "max_height": null,
       "max_width": null,
       "min_height": null,
       "min_width": null,
       "ripple": null,
       "to": null,
       "v_slots": [],
       "width": null
      }
     },
     "02e0c2e043994869a0825393d558711a": {
      "model_module": "jupyter-vuetify",
      "model_module_version": "^1.6.2",
      "model_name": "CardModel",
      "state": {
       "_events": [],
       "_jupyter_vue": "IPY_MODEL_992e22c5a5104efdb11fafa4575ee530",
       "attributes": {},
       "children": [
        "IPY_MODEL_6a378a4fbd84496a9c08821355b90fee"
       ],
       "color": "transparent",
       "elevation": null,
       "flat": true,
       "height": null,
       "href": null,
       "layout": "IPY_MODEL_91e0598cdd8d4382ba792c939d64593e",
       "light": true,
       "loader_height": null,
       "loading": null,
       "max_height": null,
       "max_width": null,
       "min_height": null,
       "min_width": null,
       "ripple": null,
       "to": null,
       "v_slots": [],
       "width": null
      }
     },
     "02e76a5d74ab4ac8899338d762ba88f1": {
      "model_module": "@jupyter-widgets/base",
      "model_module_version": "1.2.0",
      "model_name": "LayoutModel",
      "state": {}
     },
     "0317550839af45c694eea331f416f005": {
      "model_module": "jupyter-vuetify",
      "model_module_version": "^1.6.2",
      "model_name": "ExpansionPanelModel",
      "state": {
       "_events": [],
       "_jupyter_vue": "IPY_MODEL_992e22c5a5104efdb11fafa4575ee530",
       "attributes": {},
       "children": [
        "IPY_MODEL_150fa46ac8824236b3832ea15dc4408e",
        "IPY_MODEL_398386f6a7cf4426ba3c8203147d94b2"
       ],
       "layout": "IPY_MODEL_4090ae5521e64ba1a44d86e400e49b2b",
       "v_slots": []
      }
     },
     "0365ff2dd4f64c24afc02fa06c82b16b": {
      "model_module": "jupyter-vuetify",
      "model_module_version": "^1.6.2",
      "model_name": "CardTextModel",
      "state": {
       "_events": [],
       "_jupyter_vue": "IPY_MODEL_992e22c5a5104efdb11fafa4575ee530",
       "attributes": {},
       "children": [
        "IPY_MODEL_a5cce850d9844a6b977e16d7244d2cef"
       ],
       "layout": "IPY_MODEL_78ad4b8062a740a9abc7009e9667c557",
       "v_slots": []
      }
     },
     "03b9eda0a6a5445d93ec9eb7895696eb": {
      "model_module": "jupyter-vuetify",
      "model_module_version": "^1.6.2",
      "model_name": "ColModel",
      "state": {
       "_events": [],
       "_jupyter_vue": "IPY_MODEL_992e22c5a5104efdb11fafa4575ee530",
       "attributes": {},
       "children": [
        "IPY_MODEL_375b977bcf6a4c8fae109c56562c0716",
        "IPY_MODEL_6e96a347922743338a2f64c784ffaed4"
       ],
       "cols": null,
       "layout": "IPY_MODEL_0dcefa4713f348e690e562d0185b2cf7",
       "lg": 400,
       "md": null,
       "offset": null,
       "offset_lg": null,
       "offset_md": null,
       "offset_sm": null,
       "offset_xl": null,
       "order": null,
       "order_lg": null,
       "order_md": null,
       "order_sm": null,
       "order_xl": null,
       "sm": null,
       "v_slots": [],
       "xl": null
      }
     },
     "064f7a7f39294973ba9efcffe1b780f3": {
      "model_module": "jupyter-vuetify",
      "model_module_version": "^1.6.2",
      "model_name": "FlexModel",
      "state": {
       "_events": [],
       "_jupyter_vue": "IPY_MODEL_992e22c5a5104efdb11fafa4575ee530",
       "attributes": {},
       "children": [
        "IPY_MODEL_e828220512a9490c8d22fe8fc26eae60"
       ],
       "layout": "IPY_MODEL_437e9e77c8134da086fac941706abe13",
       "v_slots": [],
       "xs12": true
      }
     },
     "069cf87a9fd749c181f4ef89846850f6": {
      "model_module": "@jupyter-widgets/base",
      "model_module_version": "1.2.0",
      "model_name": "LayoutModel",
      "state": {}
     },
     "06ac1e0332aa4fb7ba7d958fc934d70b": {
      "model_module": "@jupyter-widgets/base",
      "model_module_version": "1.2.0",
      "model_name": "LayoutModel",
      "state": {}
     },
     "06ece255f78344039ea49026aaed8ffc": {
      "model_module": "jupyter-vuetify",
      "model_module_version": "^1.6.2",
      "model_name": "BtnModel",
      "state": {
       "_events": [
        "click"
       ],
       "_jupyter_vue": "IPY_MODEL_992e22c5a5104efdb11fafa4575ee530",
       "attributes": {},
       "children": [
        "IPY_MODEL_a9abb87825a940539718c47e1882304e",
        "IPY_MODEL_cfb97f82543741dc98fbd364e96913ba"
       ],
       "color": "primary",
       "dark": true,
       "elevation": null,
       "fab": true,
       "height": null,
       "href": null,
       "layout": "IPY_MODEL_4b086abbc5c94c10aa8f0b805abf22f2",
       "max_height": null,
       "max_width": null,
       "min_height": null,
       "min_width": null,
       "ripple": null,
       "small": true,
       "to": null,
       "v_slots": [],
       "width": null
      }
     },
     "078efc37e59d41678a692aa974d64e51": {
      "model_module": "jupyter-vuetify",
      "model_module_version": "^1.6.2",
      "model_name": "ColModel",
      "state": {
       "_events": [],
       "_jupyter_vue": "IPY_MODEL_992e22c5a5104efdb11fafa4575ee530",
       "attributes": {},
       "children": [
        "IPY_MODEL_830c5912d4a642a795c28e015fffd75b",
        "IPY_MODEL_9a328d6e5ced4ac4824dbbea1e36eb0d",
        "IPY_MODEL_4f16732b74b0453293b85469ac572713",
        "IPY_MODEL_0a17541dc83d46dc85a7da3615a26b7f",
        "IPY_MODEL_223005b4586e4706b64a907596eb8973"
       ],
       "cols": null,
       "layout": "IPY_MODEL_a594785156e643288553a6b0671543e1",
       "lg": null,
       "md": null,
       "offset": null,
       "offset_lg": null,
       "offset_md": null,
       "offset_sm": null,
       "offset_xl": null,
       "order": null,
       "order_lg": null,
       "order_md": null,
       "order_sm": null,
       "order_xl": null,
       "sm": 3,
       "v_slots": [],
       "xl": null
      }
     },
     "081f010344df4e709aebd04aa4464ae9": {
      "model_module": "@jupyter-widgets/base",
      "model_module_version": "1.2.0",
      "model_name": "LayoutModel",
      "state": {}
     },
     "09ecc2168b354ebea00af98005164bb7": {
      "model_module": "jupyter-vuetify",
      "model_module_version": "^1.6.2",
      "model_name": "ListModel",
      "state": {
       "_events": [],
       "_jupyter_vue": "IPY_MODEL_992e22c5a5104efdb11fafa4575ee530",
       "attributes": {},
       "children": [
        "IPY_MODEL_c2ef2e9b5cae4da8bd72f1614037ef7e",
        "IPY_MODEL_56faaad89b2f4214b44c46bd32d1ffc0"
       ],
       "elevation": null,
       "height": null,
       "layout": "IPY_MODEL_69ba0f203ee744db9dde8e29cf8912a4",
       "max_height": null,
       "max_width": null,
       "min_height": null,
       "min_width": null,
       "nav": true,
       "v_model": "drawer",
       "v_slots": [],
       "width": null
      }
     },
     "0a17541dc83d46dc85a7da3615a26b7f": {
      "model_module": "jupyter-vuetify",
      "model_module_version": "^1.6.2",
      "model_name": "ExpansionPanelsModel",
      "state": {
       "_events": [],
       "_jupyter_vue": "IPY_MODEL_992e22c5a5104efdb11fafa4575ee530",
       "attributes": {},
       "children": [
        "IPY_MODEL_0317550839af45c694eea331f416f005",
        "IPY_MODEL_c0214e49448d4db49a7bfb4ffc7dd074",
        "IPY_MODEL_f8ae9836c94943408b7dc0fb770f08a6"
       ],
       "layout": "IPY_MODEL_12b3a9daee7a4a028a744231d1165e64",
       "max": null,
       "multiple": true,
       "v_slots": []
      }
     },
     "0a225de98ecb48c39d635bb5406abc92": {
      "model_module": "@jupyter-widgets/base",
      "model_module_version": "1.2.0",
      "model_name": "LayoutModel",
      "state": {}
     },
     "0a26af634c924a2aabefb1039cb485f2": {
      "model_module": "jupyter-vuetify",
      "model_module_version": "^1.6.2",
      "model_name": "TextFieldModel",
      "state": {
       "_events": [],
       "_jupyter_vue": "IPY_MODEL_992e22c5a5104efdb11fafa4575ee530",
       "attributes": {},
       "children": [],
       "counter": null,
       "error_count": null,
       "error_messages": null,
       "height": null,
       "hide_details": null,
       "label": "s_p",
       "layout": "IPY_MODEL_81299ede56464bcbbe771544a6e3d72c",
       "loader_height": null,
       "loading": null,
       "messages": null,
       "success_messages": null,
       "v_model": 2,
       "v_slots": []
      }
     },
     "0c2685c508ab48119a3e0143cb20220b": {
      "model_module": "@jupyter-widgets/base",
      "model_module_version": "1.2.0",
      "model_name": "LayoutModel",
      "state": {}
     },
     "0c53cf1eb27e443cb22e5a8864a5fa47": {
      "model_module": "jupyter-vuetify",
      "model_module_version": "^1.6.2",
      "model_name": "ListItemModel",
      "state": {
       "_events": [],
       "_jupyter_vue": "IPY_MODEL_992e22c5a5104efdb11fafa4575ee530",
       "attributes": {},
       "children": [
        "IPY_MODEL_8cfc90a62ceb402590d07e3aeb876fa3"
       ],
       "href": null,
       "layout": "IPY_MODEL_d36a766c098741968c1d742b29f40e5b",
       "ripple": null,
       "to": null,
       "v_slots": []
      }
     },
     "0d2a253edba546b59309e652c74a17e2": {
      "model_module": "@jupyter-widgets/base",
      "model_module_version": "1.2.0",
      "model_name": "LayoutModel",
      "state": {}
     },
     "0dcefa4713f348e690e562d0185b2cf7": {
      "model_module": "@jupyter-widgets/base",
      "model_module_version": "1.2.0",
      "model_name": "LayoutModel",
      "state": {}
     },
     "0e48306e61f34996b1e55c964c526339": {
      "model_module": "@jupyter-widgets/base",
      "model_module_version": "1.2.0",
      "model_name": "LayoutModel",
      "state": {}
     },
     "0f5414d737eb4eb3bf363cf702cf0a15": {
      "model_module": "jupyter-vuetify",
      "model_module_version": "^1.6.2",
      "model_name": "BtnModel",
      "state": {
       "_events": [
        "click"
       ],
       "_jupyter_vue": "IPY_MODEL_992e22c5a5104efdb11fafa4575ee530",
       "attributes": {},
       "children": [
        "Snapshot"
       ],
       "elevation": null,
       "height": null,
       "href": null,
       "layout": "IPY_MODEL_01f59630fbc0412c89cd4c88360e66a8",
       "max_height": null,
       "max_width": null,
       "min_height": null,
       "min_width": null,
       "ripple": null,
       "to": null,
       "v_slots": [],
       "width": null
      }
     },
     "100b49edc1144f1f8eadb5f69236d01b": {
      "model_module": "jupyter-vuetify",
      "model_module_version": "^1.6.2",
      "model_name": "ListItemContentModel",
      "state": {
       "_events": [],
       "_jupyter_vue": "IPY_MODEL_992e22c5a5104efdb11fafa4575ee530",
       "attributes": {},
       "children": [
        "IPY_MODEL_7a879113ec194679819891b8d97ea075",
        "IPY_MODEL_3058d0404af0496a87909ec4d652ddef"
       ],
       "layout": "IPY_MODEL_892e147e5b2f48dcbfc879229bd653d8",
       "v_slots": []
      }
     },
     "100ffdb95a1040378a63952fa70aca8b": {
      "model_module": "jupyter-vuetify",
      "model_module_version": "^1.6.2",
      "model_name": "ExpansionPanelHeaderModel",
      "state": {
       "_events": [],
       "_jupyter_vue": "IPY_MODEL_992e22c5a5104efdb11fafa4575ee530",
       "attributes": {},
       "children": [
        "Show parameters"
       ],
       "layout": "IPY_MODEL_d5073b754024463fb13ff445e2d15c63",
       "ripple": null,
       "v_slots": []
      }
     },
     "10596e4ef8314ef597730ccdf6f26531": {
      "model_module": "jupyter-vuetify",
      "model_module_version": "^1.6.2",
      "model_name": "ListModel",
      "state": {
       "_events": [],
       "_jupyter_vue": "IPY_MODEL_992e22c5a5104efdb11fafa4575ee530",
       "attributes": {},
       "children": [],
       "elevation": null,
       "height": null,
       "layout": "IPY_MODEL_8ae56b6a975743c095075d0ab17a76cd",
       "max_height": null,
       "max_width": null,
       "min_height": null,
       "min_width": null,
       "v_slots": [],
       "width": null
      }
     },
     "1062c3aa687345e9a4379d69e4197718": {
      "model_module": "@jupyter-widgets/base",
      "model_module_version": "1.2.0",
      "model_name": "LayoutModel",
      "state": {}
     },
     "10d6887cc092462193081e3d7a0116c4": {
      "model_module": "@jupyter-widgets/base",
      "model_module_version": "1.2.0",
      "model_name": "LayoutModel",
      "state": {}
     },
     "113a6e4f335a4a9cba7b6344852161a7": {
      "model_module": "@jupyter-widgets/base",
      "model_module_version": "1.2.0",
      "model_name": "LayoutModel",
      "state": {}
     },
     "12399b7481054af481a76c23d6f5734b": {
      "model_module": "@jupyter-widgets/base",
      "model_module_version": "1.2.0",
      "model_name": "LayoutModel",
      "state": {}
     },
     "128451a6c6fb4270bdae542d0d070ef5": {
      "model_module": "jupyter-vuetify",
      "model_module_version": "^1.6.2",
      "model_name": "CardModel",
      "state": {
       "_events": [],
       "_jupyter_vue": "IPY_MODEL_992e22c5a5104efdb11fafa4575ee530",
       "attributes": {},
       "children": [
        "IPY_MODEL_6a378a4fbd84496a9c08821355b90fee"
       ],
       "color": "transparent",
       "elevation": null,
       "flat": true,
       "height": null,
       "href": null,
       "layout": "IPY_MODEL_fd728f90b98c48d8814f0acbf602cf96",
       "light": true,
       "loader_height": null,
       "loading": null,
       "max_height": null,
       "max_width": null,
       "min_height": null,
       "min_width": null,
       "ripple": null,
       "to": null,
       "v_slots": [],
       "width": null
      }
     },
     "129150fbaa8040b783985a5cb3a74805": {
      "model_module": "@jupyter-widgets/base",
      "model_module_version": "1.2.0",
      "model_name": "LayoutModel",
      "state": {}
     },
     "1299cd68d48f4379bd96d7dc106e322f": {
      "model_module": "jupyter-vuetify",
      "model_module_version": "^1.6.2",
      "model_name": "CardActionsModel",
      "state": {
       "_events": [],
       "_jupyter_vue": "IPY_MODEL_992e22c5a5104efdb11fafa4575ee530",
       "attributes": {},
       "children": [
        "IPY_MODEL_026dd3b6826c45ebb5a2c1541a7ca755",
        "IPY_MODEL_06ece255f78344039ea49026aaed8ffc"
       ],
       "layout": "IPY_MODEL_7857d6d2e9f24b0caf00a3e2e5bf43db",
       "v_slots": []
      }
     },
     "12b3a9daee7a4a028a744231d1165e64": {
      "model_module": "@jupyter-widgets/base",
      "model_module_version": "1.2.0",
      "model_name": "LayoutModel",
      "state": {}
     },
     "12d907984c5b4ee0bdea0741869f791b": {
      "model_module": "@jupyter-widgets/base",
      "model_module_version": "1.2.0",
      "model_name": "LayoutModel",
      "state": {}
     },
     "13badec888834cd18ddcd31977b3b017": {
      "model_module": "jupyter-vuetify",
      "model_module_version": "^1.6.2",
      "model_name": "ThemeModel",
      "state": {
       "_model_module_version": "^1.6.2",
       "_view_module": null,
       "_view_module_version": "^1.6.2",
       "dark": false
      }
     },
     "150fa46ac8824236b3832ea15dc4408e": {
      "model_module": "jupyter-vuetify",
      "model_module_version": "^1.6.2",
      "model_name": "ExpansionPanelHeaderModel",
      "state": {
       "_events": [],
       "_jupyter_vue": "IPY_MODEL_992e22c5a5104efdb11fafa4575ee530",
       "attributes": {},
       "children": [
        "Design space"
       ],
       "layout": "IPY_MODEL_5d9f4aeb31f14cd1ba4b5a6ad8bc3d7d",
       "ripple": null,
       "v_slots": []
      }
     },
     "16b4aa1deaf041dbb0194b8ce9122f58": {
      "model_module": "@jupyter-widgets/base",
      "model_module_version": "1.2.0",
      "model_name": "LayoutModel",
      "state": {}
     },
     "171be0a7449d44dd85aa3d0a01468a65": {
      "model_module": "jupyter-vuetify",
      "model_module_version": "^1.6.2",
      "model_name": "CardTextModel",
      "state": {
       "_events": [],
       "_jupyter_vue": "IPY_MODEL_992e22c5a5104efdb11fafa4575ee530",
       "attributes": {},
       "children": [
        "IPY_MODEL_9d4fd8209b934e649847e6b3d55f68ea"
       ],
       "layout": "IPY_MODEL_e08715be7f174b4e84df25c44b028131",
       "v_slots": []
      }
     },
     "18ee1985a15e4493919250fab0791dfd": {
      "model_module": "jupyter-vuetify",
      "model_module_version": "^1.6.2",
      "model_name": "ExpansionPanelsModel",
      "state": {
       "_events": [],
       "_jupyter_vue": "IPY_MODEL_992e22c5a5104efdb11fafa4575ee530",
       "attributes": {},
       "children": [
        "IPY_MODEL_5d4e079a8a3144ae89304b5cabc62c53"
       ],
       "layout": "IPY_MODEL_4c765bda0c1449c0b2e95d312566283d",
       "max": null,
       "v_model": null,
       "v_slots": []
      }
     },
     "19048249e24a45fe92584f58714e67eb": {
      "model_module": "jupyter-vuetify",
      "model_module_version": "^1.6.2",
      "model_name": "ListItemModel",
      "state": {
       "_events": [],
       "_jupyter_vue": "IPY_MODEL_992e22c5a5104efdb11fafa4575ee530",
       "attributes": {},
       "children": [
        "IPY_MODEL_fd04efacac16450fa6c0467916885ae4",
        "IPY_MODEL_bfbd435c5ec2425f8927c62cff5013e5",
        "IPY_MODEL_cc919ef1212c4441a27322abd5e8843b"
       ],
       "class_": "ma-1",
       "href": null,
       "layout": "IPY_MODEL_fa47a2e1e0124c2dbb2f7d856fcdb02c",
       "ripple": null,
       "style_": "background-color: #F8F8F8;",
       "to": null,
       "v_slots": []
      }
     },
     "1911a391c1474b20b1b37790d26a60eb": {
      "model_module": "jupyter-vuetify",
      "model_module_version": "^1.6.2",
      "model_name": "BtnModel",
      "state": {
       "_events": [
        "click"
       ],
       "_jupyter_vue": "IPY_MODEL_992e22c5a5104efdb11fafa4575ee530",
       "attributes": {},
       "children": [
        "add"
       ],
       "color": "success",
       "elevation": null,
       "height": null,
       "href": null,
       "layout": "IPY_MODEL_45b491be0bff4e138919ed128fb398a9",
       "max_height": null,
       "max_width": null,
       "min_height": null,
       "min_width": null,
       "ripple": null,
       "to": null,
       "v_slots": [],
       "width": null
      }
     },
     "198f688023084121a442fee2a24777bb": {
      "model_module": "@jupyter-widgets/base",
      "model_module_version": "1.2.0",
      "model_name": "LayoutModel",
      "state": {}
     },
     "1b7ea528c8ed471caf6d1a378928ff13": {
      "model_module": "jupyter-vuetify",
      "model_module_version": "^1.6.2",
      "model_name": "TabModel",
      "state": {
       "_events": [],
       "_jupyter_vue": "IPY_MODEL_992e22c5a5104efdb11fafa4575ee530",
       "attributes": {},
       "children": [
        "Plot stability region"
       ],
       "href": null,
       "layout": "IPY_MODEL_4257f8ec2d56475791cabb5211d70c13",
       "ripple": null,
       "to": null,
       "v_slots": []
      }
     },
     "1d867c3fe3284758974d6f8aa9c8f3c5": {
      "model_module": "jupyter-vuetify",
      "model_module_version": "^1.6.2",
      "model_name": "RowModel",
      "state": {
       "_events": [],
       "_jupyter_vue": "IPY_MODEL_992e22c5a5104efdb11fafa4575ee530",
       "attributes": {},
       "children": [
        "IPY_MODEL_8773762920d0443caaac6ecc43dc0e07",
        "IPY_MODEL_681930aa3f0e447289a23496a97b44ed"
       ],
       "layout": "IPY_MODEL_81be5a46799e4a248270870ab865fc04",
       "v_slots": []
      }
     },
     "1d86abc7b8fa4fab9f7b4501bd6b6ea5": {
      "model_module": "jupyter-vuetify",
      "model_module_version": "^1.6.2",
      "model_name": "BtnModel",
      "state": {
       "_events": [
        "click"
       ],
       "_jupyter_vue": "IPY_MODEL_992e22c5a5104efdb11fafa4575ee530",
       "attributes": {},
       "children": [
        "close"
       ],
       "color": "error",
       "elevation": null,
       "height": null,
       "href": null,
       "layout": "IPY_MODEL_b9868071dfff481f826d59921ec71b69",
       "max_height": null,
       "max_width": null,
       "min_height": null,
       "min_width": null,
       "ripple": null,
       "to": null,
       "v_slots": [],
       "width": null
      }
     },
     "1dc78cf8d4ae48d28f6c0f615d4bfdc6": {
      "model_module": "jupyter-vuetify",
      "model_module_version": "^1.6.2",
      "model_name": "CardActionsModel",
      "state": {
       "_events": [],
       "_jupyter_vue": "IPY_MODEL_992e22c5a5104efdb11fafa4575ee530",
       "attributes": {},
       "children": [
        "IPY_MODEL_3f1315d74dd8488aa1bce1c7a6fa8152",
        "IPY_MODEL_86328950697649ca9a799a08392622a8",
        "IPY_MODEL_7511b9bf309340f2a2efaac41c5d8343"
       ],
       "layout": "IPY_MODEL_b32ad494c4fd4af6b4eee78e49b69a1e",
       "v_slots": []
      }
     },
     "1e4f6b472ac3465eb6076c363810ad97": {
      "model_module": "jupyter-vuetify",
      "model_module_version": "^1.6.2",
      "model_name": "ContentModel",
      "state": {
       "_events": [],
       "_jupyter_vue": "IPY_MODEL_992e22c5a5104efdb11fafa4575ee530",
       "attributes": {},
       "children": [
        "IPY_MODEL_b37c7252a0c44fc1a4557f3d6aed4a19",
        "IPY_MODEL_a4edb8ebebfc479cb4ad30f61390f5de",
        "IPY_MODEL_60d08f8450ab45f4af52b59bc7784e7b",
        "IPY_MODEL_32122ac826a647d2affa088aa2024d44"
       ],
       "layout": "IPY_MODEL_2ab044e701e5489bb4178e7ccabcfe21",
       "v_slots": []
      }
     },
     "1ec2b839323d47519464fec68e4a3b64": {
      "model_module": "@jupyter-widgets/base",
      "model_module_version": "1.2.0",
      "model_name": "LayoutModel",
      "state": {}
     },
     "1ec3a9454e6e4edfa571b35da973a25f": {
      "model_module": "@jupyter-widgets/base",
      "model_module_version": "1.2.0",
      "model_name": "LayoutModel",
      "state": {}
     },
     "1f02a52a30ec4558a580c577982b0bba": {
      "model_module": "jupyter-vuetify",
      "model_module_version": "^1.6.2",
      "model_name": "RowModel",
      "state": {
       "_events": [],
       "_jupyter_vue": "IPY_MODEL_992e22c5a5104efdb11fafa4575ee530",
       "attributes": {},
       "children": [
        "IPY_MODEL_9abd5f1d3dd24915934dc5b66d8ecf35"
       ],
       "layout": "IPY_MODEL_e82ce67791674052b08123d70f34eb1a",
       "v_slots": []
      }
     },
     "1f70893b6ebf4d008d73167d0feba685": {
      "model_module": "jupyter-vuetify",
      "model_module_version": "^1.6.2",
      "model_name": "CardModel",
      "state": {
       "_events": [],
       "_jupyter_vue": "IPY_MODEL_992e22c5a5104efdb11fafa4575ee530",
       "attributes": {},
       "children": [
        "IPY_MODEL_90a8b119980d44689067576cf24e89cf",
        "IPY_MODEL_1299cd68d48f4379bd96d7dc106e322f"
       ],
       "elevation": null,
       "height": null,
       "href": null,
       "layout": "IPY_MODEL_0e48306e61f34996b1e55c964c526339",
       "loader_height": null,
       "loading": null,
       "max_height": null,
       "max_width": null,
       "min_height": null,
       "min_width": null,
       "ripple": null,
       "to": null,
       "v_slots": [],
       "width": null
      }
     },
     "1fd15b37a31045cebf6efe6ccc2b2358": {
      "model_module": "jupyter-matplotlib",
      "model_module_version": "^0.8.3",
      "model_name": "MPLCanvasModel",
      "state": {
       "_cursor": "default",
       "_figure_label": "Figure 2",
       "_height": 500,
       "_width": 1000,
       "header_visible": false,
       "layout": "IPY_MODEL_f7545df150094498a6b6998994c0f49a",
       "toolbar": "IPY_MODEL_f49094afa03a4fca841171359de71272",
       "toolbar_position": "left"
      }
     },
     "1fddbd0a7b7f4aebb06bf01aa407dbbf": {
      "model_module": "jupyter-vuetify",
      "model_module_version": "^1.6.2",
      "model_name": "TextFieldModel",
      "state": {
       "_events": [],
       "_jupyter_vue": "IPY_MODEL_992e22c5a5104efdb11fafa4575ee530",
       "attributes": {},
       "children": [],
       "counter": null,
       "error_count": null,
       "error_messages": null,
       "height": null,
       "hide_details": null,
       "label": "q",
       "layout": "IPY_MODEL_3f22a06fcddd4bbf89a9ef06ad9b27a0",
       "loader_height": null,
       "loading": null,
       "messages": null,
       "success_messages": null,
       "v_model": 0,
       "v_slots": []
      }
     },
     "1fee52fb5510479da9e7d6674cfaaa06": {
      "model_module": "jupyter-vuetify",
      "model_module_version": "^1.6.2",
      "model_name": "TabModel",
      "state": {
       "_events": [],
       "_jupyter_vue": "IPY_MODEL_992e22c5a5104efdb11fafa4575ee530",
       "attributes": {},
       "children": [
        "Test case"
       ],
       "href": null,
       "layout": "IPY_MODEL_74a5c2d388714f028aa6838c6773d54f",
       "ripple": null,
       "to": null,
       "v_slots": []
      }
     },
     "207c29133e994b6f813803d22d62f7b1": {
      "model_module": "jupyter-vuetify",
      "model_module_version": "^1.6.2",
      "model_name": "SelectModel",
      "state": {
       "_events": [],
       "_jupyter_vue": "IPY_MODEL_992e22c5a5104efdb11fafa4575ee530",
       "attributes": {},
       "children": [],
       "class_": "d-none",
       "counter": null,
       "error_count": null,
       "error_messages": null,
       "height": null,
       "hide_details": null,
       "item_disabled": null,
       "item_text": null,
       "item_value": null,
       "items": [
        "all",
        "s_p",
        "s_rho",
        "s_u"
       ],
       "label": "Relaxation parameters",
       "layout": "IPY_MODEL_280b9b38065047d58899ff8fd66da9c2",
       "loader_height": null,
       "loading": null,
       "menu_props": null,
       "messages": null,
       "multiple": true,
       "success_messages": null,
       "v_model": [],
       "v_slots": []
      }
     },
     "20c2a64e848644daba44d94098c7a3ec": {
      "model_module": "@jupyter-widgets/base",
      "model_module_version": "1.2.0",
      "model_name": "LayoutModel",
      "state": {}
     },
     "214e56045d00444098f6f945a576cafb": {
      "model_module": "jupyter-vuetify",
      "model_module_version": "^1.6.2",
      "model_name": "DialogModel",
      "state": {
       "_events": [],
       "_jupyter_vue": "IPY_MODEL_992e22c5a5104efdb11fafa4575ee530",
       "attributes": {},
       "children": [
        "IPY_MODEL_54cb45c726de48be9b877ccbee853f5f"
       ],
       "close_delay": null,
       "layout": "IPY_MODEL_3b18717ed7a54c87a5b7416cbd3fd381",
       "max_width": null,
       "open_delay": null,
       "overlay_opacity": null,
       "transition": null,
       "v_model": false,
       "v_slots": [],
       "width": "500"
      }
     },
     "216acc22a7314e03809bd5e1253978b4": {
      "model_module": "@jupyter-widgets/base",
      "model_module_version": "1.2.0",
      "model_name": "LayoutModel",
      "state": {}
     },
     "217bae3f439a4ac888ff94bf5b28c41b": {
      "model_module": "@jupyter-widgets/base",
      "model_module_version": "1.2.0",
      "model_name": "LayoutModel",
      "state": {}
     },
     "21945b4d58414d7dbe45487c71b272f4": {
      "model_module": "jupyter-vuetify",
      "model_module_version": "^1.6.2",
      "model_name": "CardModel",
      "state": {
       "_events": [],
       "_jupyter_vue": "IPY_MODEL_992e22c5a5104efdb11fafa4575ee530",
       "attributes": {},
       "children": [
        "IPY_MODEL_3fe11e0549414e1bbab2371b595d971b",
        "IPY_MODEL_92383b0b280947ae9cd694f5aa4d2ca9"
       ],
       "elevation": null,
       "height": null,
       "href": null,
       "layout": "IPY_MODEL_4eb52f5c52fc4eb6b213b8fbe76d3bba",
       "loader_height": null,
       "loading": null,
       "max_height": null,
       "max_width": null,
       "min_height": null,
       "min_width": null,
       "ripple": null,
       "to": null,
       "v_slots": [],
       "width": null
      }
     },
     "2201ba14c903455693fedabd421d3983": {
      "model_module": "@jupyter-widgets/base",
      "model_module_version": "1.2.0",
      "model_name": "LayoutModel",
      "state": {}
     },
     "223005b4586e4706b64a907596eb8973": {
      "model_module": "jupyter-vuetify",
      "model_module_version": "^1.6.2",
      "model_name": "RowModel",
      "state": {
       "_events": [],
       "_jupyter_vue": "IPY_MODEL_992e22c5a5104efdb11fafa4575ee530",
       "align": "center",
       "attributes": {},
       "children": [
        "IPY_MODEL_6a9dba67d6e5409281f1eaace9204b51"
       ],
       "justify": "center",
       "layout": "IPY_MODEL_41a5fb0366704a5589981eec2a7a96cd",
       "v_slots": []
      }
     },
     "239bdb99a0904a12a98be54460927706": {
      "model_module": "@jupyter-widgets/base",
      "model_module_version": "1.2.0",
      "model_name": "LayoutModel",
      "state": {}
     },
     "240dd7b4a4f24881afe2935995182850": {
      "model_module": "@jupyter-widgets/base",
      "model_module_version": "1.2.0",
      "model_name": "LayoutModel",
      "state": {}
     },
     "24126fe9faa743bf9d9342e9c2b87fa5": {
      "model_module": "jupyter-vuetify",
      "model_module_version": "^1.6.2",
      "model_name": "LayoutModel",
      "state": {
       "_events": [],
       "_jupyter_vue": "IPY_MODEL_992e22c5a5104efdb11fafa4575ee530",
       "attributes": {},
       "children": [],
       "layout": "IPY_MODEL_89e37da945c4419dae5d5f965c2b916a",
       "v_slots": []
      }
     },
     "2441454448dd4b1b8dda60804ed06e9b": {
      "model_module": "@jupyter-widgets/base",
      "model_module_version": "1.2.0",
      "model_name": "LayoutModel",
      "state": {}
     },
     "24e983409b5a43b8a8a52702a1570490": {
      "model_module": "jupyter-vuetify",
      "model_module_version": "^1.6.2",
      "model_name": "CardModel",
      "state": {
       "_events": [],
       "_jupyter_vue": "IPY_MODEL_992e22c5a5104efdb11fafa4575ee530",
       "attributes": {},
       "children": [
        "IPY_MODEL_2dd481f5f0844e04983228f0fb84b72d",
        "IPY_MODEL_d299c426468f4609806be8ac1c688201"
       ],
       "class_": "ma-6",
       "elevation": 10,
       "height": null,
       "href": null,
       "layout": "IPY_MODEL_ec4ab14d55314d9c86d174bc6b1dd037",
       "loader_height": null,
       "loading": null,
       "max_height": null,
       "max_width": null,
       "min_height": null,
       "min_width": null,
       "ripple": null,
       "to": null,
       "v_slots": [],
       "width": null
      }
     },
     "26550adca81d4f8a9c4ee7c33da3765e": {
      "model_module": "@jupyter-widgets/base",
      "model_module_version": "1.2.0",
      "model_name": "LayoutModel",
      "state": {}
     },
     "267ff736e2094a34abdb882f8d2bd7cf": {
      "model_module": "jupyter-matplotlib",
      "model_module_version": "^0.8.3",
      "model_name": "ToolbarModel",
      "state": {
       "layout": "IPY_MODEL_e5a176190771412a95e946696af2d9bc",
       "toolitems": [
        [
         "Home",
         "Reset original view",
         "home",
         "home"
        ],
        [
         "Back",
         "Back to previous view",
         "arrow-left",
         "back"
        ],
        [
         "Forward",
         "Forward to next view",
         "arrow-right",
         "forward"
        ],
        [
         "Pan",
         "Left button pans, Right button zooms\nx/y fixes axis, CTRL fixes aspect",
         "arrows",
         "pan"
        ],
        [
         "Zoom",
         "Zoom to rectangle\nx/y fixes axis, CTRL fixes aspect",
         "square-o",
         "zoom"
        ],
        [
         "Download",
         "Download plot",
         "floppy-o",
         "save_figure"
        ]
       ]
      }
     },
     "26e32d69e7474e72844d27c7819e9f24": {
      "model_module": "@jupyter-widgets/base",
      "model_module_version": "1.2.0",
      "model_name": "LayoutModel",
      "state": {}
     },
     "278adaff30fa450f91d1aeda28f8180f": {
      "model_module": "jupyter-vuetify",
      "model_module_version": "^1.6.2",
      "model_name": "ExpansionPanelContentModel",
      "state": {
       "_events": [],
       "_jupyter_vue": "IPY_MODEL_992e22c5a5104efdb11fafa4575ee530",
       "attributes": {},
       "children": [
        "IPY_MODEL_6571f3bbfbb24bbdac03bfeb55d737c3"
       ],
       "layout": "IPY_MODEL_3b23e592afa542c0b0467ed779edbc6c",
       "v_slots": []
      }
     },
     "27ad78e563ba44bbb2dc6f2711a9d1a0": {
      "model_module": "@jupyter-widgets/base",
      "model_module_version": "1.2.0",
      "model_name": "LayoutModel",
      "state": {}
     },
     "280b9b38065047d58899ff8fd66da9c2": {
      "model_module": "@jupyter-widgets/base",
      "model_module_version": "1.2.0",
      "model_name": "LayoutModel",
      "state": {}
     },
     "289fa8dad06945e99338baae775db53d": {
      "model_module": "@jupyter-widgets/base",
      "model_module_version": "1.2.0",
      "model_name": "LayoutModel",
      "state": {}
     },
     "29040e6513a44187a0b6034aa80c7675": {
      "model_module": "@jupyter-widgets/base",
      "model_module_version": "1.2.0",
      "model_name": "LayoutModel",
      "state": {}
     },
     "2ab044e701e5489bb4178e7ccabcfe21": {
      "model_module": "@jupyter-widgets/base",
      "model_module_version": "1.2.0",
      "model_name": "LayoutModel",
      "state": {}
     },
     "2ac15d0e1fd642afa0c0c585d4088972": {
      "model_module": "jupyter-vuetify",
      "model_module_version": "^1.6.2",
      "model_name": "CardActionsModel",
      "state": {
       "_events": [],
       "_jupyter_vue": "IPY_MODEL_992e22c5a5104efdb11fafa4575ee530",
       "attributes": {},
       "children": [
        "IPY_MODEL_3571fa0c9c1a4856896521a7c9cf26d2",
        "IPY_MODEL_a9eacda9c7ac4f63882ee45f42fc525f",
        "IPY_MODEL_9b04e30a6ac144e7b9e5a103f57ee5b5"
       ],
       "layout": "IPY_MODEL_693f9106c757443cb66b307ae4b1af43",
       "v_slots": []
      }
     },
     "2afd7616ac4044fdbeaf4542fed24502": {
      "model_module": "@jupyter-widgets/base",
      "model_module_version": "1.2.0",
      "model_name": "LayoutModel",
      "state": {}
     },
     "2b2039ba99144be08c72ec442dcbf852": {
      "model_module": "@jupyter-widgets/base",
      "model_module_version": "1.2.0",
      "model_name": "LayoutModel",
      "state": {}
     },
     "2b6919cceae445cfa82019c69657f61f": {
      "model_module": "jupyter-vuetify",
      "model_module_version": "^1.6.2",
      "model_name": "CardTitleModel",
      "state": {
       "_events": [],
       "_jupyter_vue": "IPY_MODEL_992e22c5a5104efdb11fafa4575ee530",
       "attributes": {},
       "children": [
        "In time"
       ],
       "layout": "IPY_MODEL_75773ee0424d41aebdddfe82f107aa3f",
       "v_slots": []
      }
     },
     "2b76108ecf624c86a64d26bb323f8630": {
      "model_module": "@jupyter-widgets/base",
      "model_module_version": "1.2.0",
      "model_name": "LayoutModel",
      "state": {}
     },
     "2c1c8b7ab8f649e2b84d2fbce4f0b584": {
      "model_module": "jupyter-vuetify",
      "model_module_version": "^1.6.2",
      "model_name": "CardTextModel",
      "state": {
       "_events": [],
       "_jupyter_vue": "IPY_MODEL_992e22c5a5104efdb11fafa4575ee530",
       "attributes": {},
       "children": [
        "rho = 0.125, q = 0.0, E = 0.25000000000000006"
       ],
       "layout": "IPY_MODEL_57f7f1efd51346909a249afde01da95b",
       "v_slots": []
      }
     },
     "2d04244d6af84012a4fa68cf876710d4": {
      "model_module": "jupyter-vuetify",
      "model_module_version": "^1.6.2",
      "model_name": "TabModel",
      "state": {
       "_events": [],
       "_jupyter_vue": "IPY_MODEL_992e22c5a5104efdb11fafa4575ee530",
       "attributes": {},
       "children": [
        "Linear stability"
       ],
       "href": null,
       "layout": "IPY_MODEL_71aa5e2020024b5486d78da033f3b556",
       "ripple": null,
       "to": null,
       "v_slots": []
      }
     },
     "2d8b48b3426e4fd1b6e38c6627bcbd1b": {
      "model_module": "jupyter-matplotlib",
      "model_module_version": "^0.8.3",
      "model_name": "MPLCanvasModel",
      "state": {
       "_cursor": "default",
       "_figure_label": "Figure 3",
       "_height": 480,
       "_width": 640,
       "header_visible": false,
       "layout": "IPY_MODEL_c88d7f3904734f4796fc608cf7d17548",
       "toolbar": "IPY_MODEL_a6f2950d03744181945d6c0af98e88b3",
       "toolbar_position": "left"
      }
     },
     "2dd481f5f0844e04983228f0fb84b72d": {
      "model_module": "jupyter-vuetify",
      "model_module_version": "^1.6.2",
      "model_name": "CardTitleModel",
      "state": {
       "_events": [],
       "_jupyter_vue": "IPY_MODEL_992e22c5a5104efdb11fafa4575ee530",
       "attributes": {},
       "children": [
        "Plot the linear stability for a given state"
       ],
       "layout": "IPY_MODEL_7da78a2f197e492d8401338f9f4929ad",
       "v_slots": []
      }
     },
     "2e16b5fa028c4f6ebaf1a9504f29974c": {
      "model_module": "jupyter-vuetify",
      "model_module_version": "^1.6.2",
      "model_name": "TabItemModel",
      "state": {
       "_events": [],
       "_jupyter_vue": "IPY_MODEL_992e22c5a5104efdb11fafa4575ee530",
       "attributes": {},
       "children": [
        "IPY_MODEL_fe151f0db6284d78a0bc5239097f72f4"
       ],
       "layout": "IPY_MODEL_d9cf6fe6f40d4e54b4dd93ccfbc6b862",
       "reverse_transition": null,
       "transition": null,
       "v_slots": []
      }
     },
     "2e1938ad36424f19b3266a6ce52eb8ee": {
      "model_module": "jupyter-vuetify",
      "model_module_version": "^1.6.2",
      "model_name": "TabsModel",
      "state": {
       "_events": [],
       "_jupyter_vue": "IPY_MODEL_992e22c5a5104efdb11fafa4575ee530",
       "attributes": {},
       "children": [
        "IPY_MODEL_6af71142be0a4d568265da54f701c558",
        "IPY_MODEL_1b7ea528c8ed471caf6d1a378928ff13",
        "IPY_MODEL_3476ca68c3be4742abb339ce322f0dae",
        "IPY_MODEL_594090ce03c3418c8f100b5029c1b576"
       ],
       "height": null,
       "layout": "IPY_MODEL_dea31ea68aa44651a2158258d1769966",
       "mobile_break_point": null,
       "slider_size": null,
       "v_model": 0,
       "v_slots": []
      }
     },
     "2e1ab92a723549218d85f09a36fb9cb4": {
      "model_module": "jupyter-vuetify",
      "model_module_version": "^1.6.2",
      "model_name": "ExpansionPanelContentModel",
      "state": {
       "_events": [],
       "_jupyter_vue": "IPY_MODEL_992e22c5a5104efdb11fafa4575ee530",
       "attributes": {},
       "children": [
        "IPY_MODEL_9dd470784b2747ff9597e0ea6fe0f957",
        "IPY_MODEL_512fdc7472d945d09aebb4a68bc78e7b",
        "IPY_MODEL_f6cf569f0bf1466bb91bb7e305778b89"
       ],
       "layout": "IPY_MODEL_962ee0bd31cd4947a17ee1d37f0d60e8",
       "v_slots": []
      }
     },
     "2e78170e910e4330ab2e69634c2adab1": {
      "model_module": "jupyter-vuetify",
      "model_module_version": "^1.6.2",
      "model_name": "ExpansionPanelHeaderModel",
      "state": {
       "_events": [],
       "_jupyter_vue": "IPY_MODEL_992e22c5a5104efdb11fafa4575ee530",
       "attributes": {},
       "children": [
        "Field output request"
       ],
       "layout": "IPY_MODEL_890bb5faebad4f9ca835d9d3cf5897ba",
       "ripple": null,
       "v_slots": []
      }
     },
     "2f0f626f6e694bb1a8c3a894eed937f7": {
      "model_module": "jupyter-vuetify",
      "model_module_version": "^1.6.2",
      "model_name": "ContainerModel",
      "state": {
       "_events": [],
       "_jupyter_vue": "IPY_MODEL_992e22c5a5104efdb11fafa4575ee530",
       "attributes": {},
       "children": [],
       "layout": "IPY_MODEL_c4a042f692594aeb9c50e0cccbb413ef",
       "v_slots": []
      }
     },
     "2f1bfe36ea9e4228bd123409eb87bd06": {
      "model_module": "@jupyter-widgets/base",
      "model_module_version": "1.2.0",
      "model_name": "LayoutModel",
      "state": {}
     },
     "3058d0404af0496a87909ec4d652ddef": {
      "model_module": "jupyter-vuetify",
      "model_module_version": "^1.6.2",
      "model_name": "DialogModel",
      "state": {
       "_events": [],
       "_jupyter_vue": "IPY_MODEL_992e22c5a5104efdb11fafa4575ee530",
       "attributes": {},
       "children": [
        "IPY_MODEL_c5a2a645a7ad4be5b34a842be830b789"
       ],
       "close_delay": null,
       "layout": "IPY_MODEL_f4aa3971626d420397fa54120e4aa991",
       "max_width": null,
       "open_delay": null,
       "overlay_opacity": null,
       "transition": null,
       "v_model": false,
       "v_slots": [],
       "width": "500"
      }
     },
     "30b7710f3a324d0b9a474eab9c4c25f3": {
      "model_module": "jupyter-vuetify",
      "model_module_version": "^1.6.2",
      "model_name": "TabModel",
      "state": {
       "_events": [],
       "_jupyter_vue": "IPY_MODEL_992e22c5a5104efdb11fafa4575ee530",
       "attributes": {},
       "children": [
        "Description"
       ],
       "href": null,
       "layout": "IPY_MODEL_484f1ad3b7784be9be5f7fedc0e987e4",
       "ripple": null,
       "to": null,
       "v_slots": []
      }
     },
     "311a0d3e089f4e70bb6295be92150956": {
      "model_module": "jupyter-vuetify",
      "model_module_version": "^1.6.2",
      "model_name": "BtnModel",
      "state": {
       "_events": [
        "click"
       ],
       "_jupyter_vue": "IPY_MODEL_992e22c5a5104efdb11fafa4575ee530",
       "attributes": {},
       "children": [
        "add"
       ],
       "color": "success",
       "elevation": null,
       "height": null,
       "href": null,
       "layout": "IPY_MODEL_b6fbe56a56e24a538c174c8ed87ec2ca",
       "max_height": null,
       "max_width": null,
       "min_height": null,
       "min_width": null,
       "ripple": null,
       "to": null,
       "v_slots": [],
       "width": null
      }
     },
     "31f502a57a0841a791c29b5992c0e295": {
      "model_module": "jupyter-vuetify",
      "model_module_version": "^1.6.2",
      "model_name": "ExpansionPanelContentModel",
      "state": {
       "_events": [],
       "_jupyter_vue": "IPY_MODEL_992e22c5a5104efdb11fafa4575ee530",
       "attributes": {},
       "children": [
        "IPY_MODEL_0288582fb280421a95601ad18ba54c36",
        "IPY_MODEL_ec51955a69be4b47b407d841b85cea85"
       ],
       "layout": "IPY_MODEL_e2533baa912149348a69b49bbeb1a82a",
       "v_slots": []
      }
     },
     "32122ac826a647d2affa088aa2024d44": {
      "model_module": "jupyter-vuetify",
      "model_module_version": "^1.6.2",
      "model_name": "RowModel",
      "state": {
       "_events": [],
       "_jupyter_vue": "IPY_MODEL_992e22c5a5104efdb11fafa4575ee530",
       "align": "center",
       "attributes": {},
       "children": [],
       "justify": "center",
       "layout": "IPY_MODEL_6aa9a1fed1184eb3b90bda843f915225",
       "v_slots": []
      }
     },
     "321b9118e58240f1be90a385abb74ba8": {
      "model_module": "jupyter-vuetify",
      "model_module_version": "^1.6.2",
      "model_name": "RowModel",
      "state": {
       "_events": [],
       "_jupyter_vue": "IPY_MODEL_992e22c5a5104efdb11fafa4575ee530",
       "attributes": {},
       "children": [
        "IPY_MODEL_8b493d96f8a34573bbead64b3469a438",
        "IPY_MODEL_4f7298346cad473a9fb835199071c72f"
       ],
       "layout": "IPY_MODEL_27ad78e563ba44bbb2dc6f2711a9d1a0",
       "v_slots": []
      }
     },
     "32b7d914de82402db8e2e76b4ad62b35": {
      "model_module": "jupyter-vuetify",
      "model_module_version": "^1.6.2",
      "model_name": "ExpansionPanelContentModel",
      "state": {
       "_events": [],
       "_jupyter_vue": "IPY_MODEL_992e22c5a5104efdb11fafa4575ee530",
       "attributes": {},
       "children": [
        "IPY_MODEL_eb5f4b572a4c47f080143925446d43a9",
        "IPY_MODEL_dea24449ca424fe7981cd82f7b2d02bf",
        "IPY_MODEL_b82c128d5c5145fa963c60df36d13d36",
        "IPY_MODEL_60c32195bf1a4d66a0ad1f86ad4f23e2",
        "IPY_MODEL_c222ee337dea43d9b5157803d0c1ed51",
        "IPY_MODEL_e6ec6b7b52214cff887acf4132d77baf",
        "IPY_MODEL_7f874df5effd461fa414cdfadd7592bc",
        "IPY_MODEL_7819469561444c34b53e1a0da124cd05",
        "IPY_MODEL_c13c70c5fc244186ad3299437a265ac8",
        "IPY_MODEL_9d7b5663e4a64ab9a95a7306d699129e",
        "IPY_MODEL_4691913f92f141de90b006c6adea17ff"
       ],
       "layout": "IPY_MODEL_788d0674fd5e4b67baecf39b81940078",
       "v_slots": []
      }
     },
     "345507fc9549420cb66063ed6cfafab8": {
      "model_module": "@jupyter-widgets/base",
      "model_module_version": "1.2.0",
      "model_name": "LayoutModel",
      "state": {}
     },
     "3476ca68c3be4742abb339ce322f0dae": {
      "model_module": "jupyter-vuetify",
      "model_module_version": "^1.6.2",
      "model_name": "TabItemModel",
      "state": {
       "_events": [],
       "_jupyter_vue": "IPY_MODEL_992e22c5a5104efdb11fafa4575ee530",
       "attributes": {},
       "children": [
        "IPY_MODEL_8f4c123c845b4fd1aa7e6654d0763be1"
       ],
       "layout": "IPY_MODEL_4018131bdf36450ca9e1a8f8fc4c2706",
       "reverse_transition": null,
       "transition": null,
       "v_slots": []
      }
     },
     "347b74d534454fd8a6593e38291908d4": {
      "model_module": "@jupyter-widgets/base",
      "model_module_version": "1.2.0",
      "model_name": "LayoutModel",
      "state": {}
     },
     "34ccdbe621294484969e6dbb4fa8ece1": {
      "model_module": "@jupyter-widgets/base",
      "model_module_version": "1.2.0",
      "model_name": "LayoutModel",
      "state": {}
     },
     "3571fa0c9c1a4856896521a7c9cf26d2": {
      "model_module": "jupyter-vuetify",
      "model_module_version": "^1.6.2",
      "model_name": "SpacerModel",
      "state": {
       "_events": [],
       "_jupyter_vue": "IPY_MODEL_992e22c5a5104efdb11fafa4575ee530",
       "attributes": {},
       "children": [],
       "layout": "IPY_MODEL_924ce94774a74075b6d4872b42bf19cc",
       "v_slots": []
      }
     },
     "35a1a20106fe4424a95611d79a8379d9": {
      "model_module": "jupyter-vuetify",
      "model_module_version": "^1.6.2",
      "model_name": "AppBarNavIconModel",
      "state": {
       "_events": [
        "click.stop"
       ],
       "_jupyter_vue": "IPY_MODEL_992e22c5a5104efdb11fafa4575ee530",
       "attributes": {},
       "children": [],
       "layout": "IPY_MODEL_939a68a9ff8744d3afd3bfd6f9702dd0",
       "v_slots": []
      }
     },
     "36406b36ffcf46c7b13fc706a0af1970": {
      "model_module": "@jupyter-widgets/base",
      "model_module_version": "1.2.0",
      "model_name": "LayoutModel",
      "state": {}
     },
     "36ad0de705b64baebd5630cf95e42b8a": {
      "model_module": "@jupyter-widgets/base",
      "model_module_version": "1.2.0",
      "model_name": "LayoutModel",
      "state": {}
     },
     "375b977bcf6a4c8fae109c56562c0716": {
      "model_module": "jupyter-vuetify",
      "model_module_version": "^1.6.2",
      "model_name": "SelectModel",
      "state": {
       "_events": [],
       "_jupyter_vue": "IPY_MODEL_992e22c5a5104efdb11fafa4575ee530",
       "attributes": {},
       "children": [],
       "counter": null,
       "error_count": null,
       "error_messages": null,
       "height": null,
       "hide_details": null,
       "item_disabled": null,
       "item_text": null,
       "item_value": null,
       "items": [
        "Toro 1",
        "Toro 2",
        "Toro 3",
        "Toro 4",
        "Toro 5",
        "Wedge Ma2p5",
        "Wedge Ma 8",
        "Implosion",
        "Forward Facing Step"
       ],
       "label": "Test cases",
       "layout": "IPY_MODEL_10d6887cc092462193081e3d7a0116c4",
       "loader_height": null,
       "loading": null,
       "menu_props": null,
       "messages": null,
       "success_messages": null,
       "v_model": "Toro 1",
       "v_slots": []
      }
     },
     "37610a13a1f4440ebe3c656ce9671d87": {
      "model_module": "@jupyter-widgets/base",
      "model_module_version": "1.2.0",
      "model_name": "LayoutModel",
      "state": {}
     },
     "377d06031d574ec49e28798fff4ae7d9": {
      "model_module": "@jupyter-widgets/base",
      "model_module_version": "1.2.0",
      "model_name": "LayoutModel",
      "state": {}
     },
     "38ac3a7f77424b81890d8a1429fc69c4": {
      "model_module": "@jupyter-widgets/base",
      "model_module_version": "1.2.0",
      "model_name": "LayoutModel",
      "state": {}
     },
     "38b4d1b9436049cdb76467b540ce8b43": {
      "model_module": "jupyter-vuetify",
      "model_module_version": "^1.6.2",
      "model_name": "FormModel",
      "state": {
       "_events": [],
       "_jupyter_vue": "IPY_MODEL_992e22c5a5104efdb11fafa4575ee530",
       "attributes": {},
       "children": [
        "IPY_MODEL_90da1aa211e445cda4a61de28895eec2",
        "IPY_MODEL_1fddbd0a7b7f4aebb06bf01aa407dbbf",
        "IPY_MODEL_c9ae5cedf53743a09e5ca15876cfc897"
       ],
       "layout": "IPY_MODEL_57be74f7b5834bffb7996cc181206b5c",
       "v_model": "valid",
       "v_slots": []
      }
     },
     "38c089c1f4d945c4917255819d3205ae": {
      "model_module": "@jupyter-widgets/base",
      "model_module_version": "1.2.0",
      "model_name": "LayoutModel",
      "state": {}
     },
     "38d638311cdc4b1ca59f946bb6f6a029": {
      "model_module": "jupyter-vuetify",
      "model_module_version": "^1.6.2",
      "model_name": "CardActionsModel",
      "state": {
       "_events": [],
       "_jupyter_vue": "IPY_MODEL_992e22c5a5104efdb11fafa4575ee530",
       "attributes": {},
       "children": [
        "IPY_MODEL_a7058ed3d0614999ac841d3bed381df2",
        "IPY_MODEL_1911a391c1474b20b1b37790d26a60eb",
        "IPY_MODEL_1d86abc7b8fa4fab9f7b4501bd6b6ea5"
       ],
       "layout": "IPY_MODEL_42b48398d1224cd78872ee91ec26b7c9",
       "v_slots": []
      }
     },
     "398386f6a7cf4426ba3c8203147d94b2": {
      "model_module": "jupyter-vuetify",
      "model_module_version": "^1.6.2",
      "model_name": "ExpansionPanelContentModel",
      "state": {
       "_events": [],
       "_jupyter_vue": "IPY_MODEL_992e22c5a5104efdb11fafa4575ee530",
       "attributes": {},
       "children": [
        "IPY_MODEL_1f70893b6ebf4d008d73167d0feba685"
       ],
       "layout": "IPY_MODEL_dca441cf557043d89c7dc4c3a85e54cf",
       "v_slots": []
      }
     },
     "39c4caafb4f544adbc64ff8adffba89e": {
      "model_module": "@jupyter-widgets/base",
      "model_module_version": "1.2.0",
      "model_name": "LayoutModel",
      "state": {}
     },
     "3a7452f5f0684e7a95e5aa19fd124f42": {
      "model_module": "@jupyter-widgets/base",
      "model_module_version": "1.2.0",
      "model_name": "LayoutModel",
      "state": {}
     },
     "3a83faa4013e4d60888bcb47ef0b1ec0": {
      "model_module": "jupyter-vuetify",
      "model_module_version": "^1.6.2",
      "model_name": "CardModel",
      "state": {
       "_events": [],
       "_jupyter_vue": "IPY_MODEL_992e22c5a5104efdb11fafa4575ee530",
       "attributes": {},
       "children": [
        "IPY_MODEL_0232ccedf97441d9b6b69bfa9fdc0173",
        "IPY_MODEL_f003d41678214172a9b648f053079620",
        "IPY_MODEL_41a012f6abd84906b493965272665087"
       ],
       "elevation": null,
       "height": null,
       "href": null,
       "layout": "IPY_MODEL_e50f63f260384d1a9831bcf30735d693",
       "loader_height": null,
       "loading": null,
       "max_height": null,
       "max_width": null,
       "min_height": null,
       "min_width": null,
       "ripple": null,
       "to": null,
       "v_slots": [],
       "width": null
      }
     },
     "3ac8b3784d804dfba8466b8ecfea5ed1": {
      "model_module": "jupyter-vuetify",
      "model_module_version": "^1.6.2",
      "model_name": "ListItemModel",
      "state": {
       "_events": [],
       "_jupyter_vue": "IPY_MODEL_992e22c5a5104efdb11fafa4575ee530",
       "attributes": {},
       "children": [
        "IPY_MODEL_8a9b36c774a64ec79fda41d178725a26",
        "IPY_MODEL_e1afe458c3c645708f6acb876f31b677",
        "IPY_MODEL_66bd14026da3489f86ed236d29fa4842"
       ],
       "class_": "ma-1",
       "href": null,
       "layout": "IPY_MODEL_efba83c7ab9e411da09c09a6b4af3b4d",
       "ripple": null,
       "style_": "background-color: #F8F8F8;",
       "to": null,
       "v_slots": []
      }
     },
     "3ae6a00f1b374eb8bcc905ea609cf237": {
      "model_module": "@jupyter-widgets/base",
      "model_module_version": "1.2.0",
      "model_name": "LayoutModel",
      "state": {}
     },
     "3b13890fce2b4717b541c33f35d2af2a": {
      "model_module": "jupyter-vuetify",
      "model_module_version": "^1.6.2",
      "model_name": "TabItemModel",
      "state": {
       "_events": [],
       "_jupyter_vue": "IPY_MODEL_992e22c5a5104efdb11fafa4575ee530",
       "attributes": {},
       "children": [
        "IPY_MODEL_bbf38ccbb8a5437cb15b55b99d4a7171"
       ],
       "layout": "IPY_MODEL_a406396cb8b34dbb9066d0cd51029e70",
       "reverse_transition": null,
       "transition": null,
       "v_slots": []
      }
     },
     "3b18717ed7a54c87a5b7416cbd3fd381": {
      "model_module": "@jupyter-widgets/base",
      "model_module_version": "1.2.0",
      "model_name": "LayoutModel",
      "state": {}
     },
     "3b23e592afa542c0b0467ed779edbc6c": {
      "model_module": "@jupyter-widgets/base",
      "model_module_version": "1.2.0",
      "model_name": "LayoutModel",
      "state": {}
     },
     "3b8f52d4c390457ead30b969eb558212": {
      "model_module": "@jupyter-widgets/base",
      "model_module_version": "1.2.0",
      "model_name": "LayoutModel",
      "state": {}
     },
     "3bc05dd731f1423aa4beba92a67ae8d1": {
      "model_module": "@jupyter-widgets/base",
      "model_module_version": "1.2.0",
      "model_name": "LayoutModel",
      "state": {}
     },
     "3d09c2b194bf48f98f706a63a3e0b266": {
      "model_module": "jupyter-vuetify",
      "model_module_version": "^1.6.2",
      "model_name": "DialogModel",
      "state": {
       "_events": [],
       "_jupyter_vue": "IPY_MODEL_992e22c5a5104efdb11fafa4575ee530",
       "attributes": {},
       "children": [
        "IPY_MODEL_3a83faa4013e4d60888bcb47ef0b1ec0"
       ],
       "close_delay": null,
       "layout": "IPY_MODEL_cbe89bcb34124a6c9c8293b3314da703",
       "max_width": null,
       "open_delay": null,
       "overlay_opacity": null,
       "transition": null,
       "v_model": false,
       "v_slots": [],
       "width": "500"
      }
     },
     "3d274a93f5ee4cf9aac85bc44349429b": {
      "model_module": "jupyter-vuetify",
      "model_module_version": "^1.6.2",
      "model_name": "ExpansionPanelModel",
      "state": {
       "_events": [],
       "_jupyter_vue": "IPY_MODEL_992e22c5a5104efdb11fafa4575ee530",
       "attributes": {},
       "children": [
        "IPY_MODEL_78da478c52bd4c209be0729fbde02d56",
        "IPY_MODEL_2e1ab92a723549218d85f09a36fb9cb4"
       ],
       "layout": "IPY_MODEL_592502e3890741e6a07ff3cb6a25770b",
       "v_slots": []
      }
     },
     "3d646b4b91304d2b9f22bae3739760d4": {
      "model_module": "@jupyter-widgets/base",
      "model_module_version": "1.2.0",
      "model_name": "LayoutModel",
      "state": {}
     },
     "3e8619f134084bccb54ab6ed209be6fb": {
      "model_module": "jupyter-vuetify",
      "model_module_version": "^1.6.2",
      "model_name": "ExpansionPanelHeaderModel",
      "state": {
       "_events": [],
       "_jupyter_vue": "IPY_MODEL_992e22c5a5104efdb11fafa4575ee530",
       "attributes": {},
       "children": [
        "Responses"
       ],
       "layout": "IPY_MODEL_9108655b1004417cad742495ff148d30",
       "ripple": null,
       "v_slots": []
      }
     },
     "3f1315d74dd8488aa1bce1c7a6fa8152": {
      "model_module": "jupyter-vuetify",
      "model_module_version": "^1.6.2",
      "model_name": "SpacerModel",
      "state": {
       "_events": [],
       "_jupyter_vue": "IPY_MODEL_992e22c5a5104efdb11fafa4575ee530",
       "attributes": {},
       "children": [],
       "layout": "IPY_MODEL_9478fb7951454708a1dcf0dfe4bd8b26",
       "v_slots": []
      }
     },
     "3f22a06fcddd4bbf89a9ef06ad9b27a0": {
      "model_module": "@jupyter-widgets/base",
      "model_module_version": "1.2.0",
      "model_name": "LayoutModel",
      "state": {}
     },
     "3f7a254d8e65456c92b121124bb154f4": {
      "model_module": "@jupyter-widgets/base",
      "model_module_version": "1.2.0",
      "model_name": "LayoutModel",
      "state": {}
     },
     "3fe11e0549414e1bbab2371b595d971b": {
      "model_module": "jupyter-vuetify",
      "model_module_version": "^1.6.2",
      "model_name": "CardTextModel",
      "state": {
       "_events": [],
       "_jupyter_vue": "IPY_MODEL_992e22c5a5104efdb11fafa4575ee530",
       "attributes": {},
       "children": [
        "IPY_MODEL_53986a0880704f77b9e6eb0245d52b0c"
       ],
       "layout": "IPY_MODEL_98a851de4cde4f92b550ec16afc48b00",
       "v_slots": []
      }
     },
     "4018131bdf36450ca9e1a8f8fc4c2706": {
      "model_module": "@jupyter-widgets/base",
      "model_module_version": "1.2.0",
      "model_name": "LayoutModel",
      "state": {}
     },
     "4090ae5521e64ba1a44d86e400e49b2b": {
      "model_module": "@jupyter-widgets/base",
      "model_module_version": "1.2.0",
      "model_name": "LayoutModel",
      "state": {}
     },
     "40910f7463c44514aa75012303b96145": {
      "model_module": "@jupyter-widgets/base",
      "model_module_version": "1.2.0",
      "model_name": "LayoutModel",
      "state": {}
     },
     "41a012f6abd84906b493965272665087": {
      "model_module": "jupyter-vuetify",
      "model_module_version": "^1.6.2",
      "model_name": "CardActionsModel",
      "state": {
       "_events": [],
       "_jupyter_vue": "IPY_MODEL_992e22c5a5104efdb11fafa4575ee530",
       "attributes": {},
       "children": [
        "IPY_MODEL_62147348217c4feb8e0d6145cae3639a",
        "IPY_MODEL_311a0d3e089f4e70bb6295be92150956",
        "IPY_MODEL_90b8961be7c64912acbc843d6945d609"
       ],
       "layout": "IPY_MODEL_dbeecb4461e142bebba3fb1f031ba768",
       "v_slots": []
      }
     },
     "41a5fb0366704a5589981eec2a7a96cd": {
      "model_module": "@jupyter-widgets/base",
      "model_module_version": "1.2.0",
      "model_name": "LayoutModel",
      "state": {}
     },
     "4239f22fe9a042e4b391e444aa56ec7a": {
      "model_module": "jupyter-vuetify",
      "model_module_version": "^1.6.2",
      "model_name": "SelectModel",
      "state": {
       "_events": [],
       "_jupyter_vue": "IPY_MODEL_992e22c5a5104efdb11fafa4575ee530",
       "attributes": {},
       "children": [],
       "counter": null,
       "error_count": null,
       "error_messages": null,
       "height": null,
       "hide_details": null,
       "item_disabled": null,
       "item_text": null,
       "item_value": null,
       "items": [
        "Frequency",
        "List of steps",
        "Step period",
        "List of times",
        "Time period"
       ],
       "label": "When",
       "layout": "IPY_MODEL_a9225217f1da47fa826dda67022c5234",
       "loader_height": null,
       "loading": null,
       "menu_props": null,
       "messages": null,
       "success_messages": null,
       "v_model": null,
       "v_slots": []
      }
     },
     "4257f8ec2d56475791cabb5211d70c13": {
      "model_module": "@jupyter-widgets/base",
      "model_module_version": "1.2.0",
      "model_name": "LayoutModel",
      "state": {}
     },
     "42b48398d1224cd78872ee91ec26b7c9": {
      "model_module": "@jupyter-widgets/base",
      "model_module_version": "1.2.0",
      "model_name": "LayoutModel",
      "state": {}
     },
     "42d73d0d66734ea4be9a27371243e7f6": {
      "model_module": "jupyter-vuetify",
      "model_module_version": "^1.6.2",
      "model_name": "TextFieldModel",
      "state": {
       "_events": [],
       "_jupyter_vue": "IPY_MODEL_992e22c5a5104efdb11fafa4575ee530",
       "attributes": {},
       "children": [],
       "counter": null,
       "error_count": null,
       "error_messages": null,
       "height": null,
       "hide_details": null,
       "label": "Space step",
       "layout": "IPY_MODEL_239bdb99a0904a12a98be54460927706",
       "loader_height": null,
       "loading": null,
       "messages": null,
       "success_messages": null,
       "v_model": 0.004975124378109453,
       "v_slots": []
      }
     },
     "42d8cb8851b34ce99208ed1a4de93825": {
      "model_module": "@jupyter-widgets/base",
      "model_module_version": "1.2.0",
      "model_name": "LayoutModel",
      "state": {}
     },
     "434feb3bca7e40fe9be47c3d4d3f9048": {
      "model_module": "jupyter-vuetify",
      "model_module_version": "^1.6.2",
      "model_name": "TextFieldModel",
      "state": {
       "_events": [],
       "_jupyter_vue": "IPY_MODEL_992e22c5a5104efdb11fafa4575ee530",
       "attributes": {},
       "children": [],
       "counter": null,
       "error_count": null,
       "error_messages": null,
       "height": null,
       "hide_details": null,
       "label": "q",
       "layout": "IPY_MODEL_fae4674aeae0441f9259d2f558ea6a86",
       "loader_height": null,
       "loading": null,
       "messages": null,
       "success_messages": null,
       "v_model": 0,
       "v_slots": []
      }
     },
     "4358c512dfa34397978a042de2f13136": {
      "model_module": "@jupyter-widgets/base",
      "model_module_version": "1.2.0",
      "model_name": "LayoutModel",
      "state": {}
     },
     "43708d505edf4f278548a80bf2d0e5f3": {
      "model_module": "@jupyter-widgets/base",
      "model_module_version": "1.2.0",
      "model_name": "LayoutModel",
      "state": {}
     },
     "437e9e77c8134da086fac941706abe13": {
      "model_module": "@jupyter-widgets/base",
      "model_module_version": "1.2.0",
      "model_name": "LayoutModel",
      "state": {}
     },
     "45b491be0bff4e138919ed128fb398a9": {
      "model_module": "@jupyter-widgets/base",
      "model_module_version": "1.2.0",
      "model_name": "LayoutModel",
      "state": {}
     },
     "45e105a81bf048ea9835ca5ac18996cc": {
      "model_module": "@jupyter-widgets/base",
      "model_module_version": "1.2.0",
      "model_name": "LayoutModel",
      "state": {}
     },
     "463b2aaa586c4c9592d24ee259f12448": {
      "model_module": "jupyter-vuetify",
      "model_module_version": "^1.6.2",
      "model_name": "ExpansionPanelModel",
      "state": {
       "_events": [],
       "_jupyter_vue": "IPY_MODEL_992e22c5a5104efdb11fafa4575ee530",
       "attributes": {},
       "children": [
        "IPY_MODEL_2e78170e910e4330ab2e69634c2adab1",
        "IPY_MODEL_a1a663e54a644d689901f210b426cf1c"
       ],
       "layout": "IPY_MODEL_ee8e1a991b7a47848da7fa03cb095765",
       "v_slots": []
      }
     },
     "463cdaa725cc48c4a4c17350e6612415": {
      "model_module": "jupyter-vuetify",
      "model_module_version": "^1.6.2",
      "model_name": "AppBarModel",
      "state": {
       "_events": [],
       "_jupyter_vue": "IPY_MODEL_992e22c5a5104efdb11fafa4575ee530",
       "app": true,
       "attributes": {},
       "children": [
        "IPY_MODEL_35a1a20106fe4424a95611d79a8379d9",
        "IPY_MODEL_97e20c5cd9a7452f93a338ea87004c1e"
       ],
       "clipped_left": true,
       "dark": true,
       "elevation": null,
       "extension_height": null,
       "height": null,
       "layout": "IPY_MODEL_582521094d0a422cb56900774e49f3dd",
       "max_height": null,
       "max_width": null,
       "min_height": null,
       "min_width": null,
       "scroll_threshold": null,
       "src": null,
       "v_slots": [],
       "width": null
      }
     },
     "466436bcd6e742248f01d4677faf9cf2": {
      "model_module": "@jupyter-widgets/base",
      "model_module_version": "1.2.0",
      "model_name": "LayoutModel",
      "state": {}
     },
     "4691913f92f141de90b006c6adea17ff": {
      "model_module": "jupyter-vuetify",
      "model_module_version": "^1.6.2",
      "model_name": "TextFieldModel",
      "state": {
       "_events": [],
       "_jupyter_vue": "IPY_MODEL_992e22c5a5104efdb11fafa4575ee530",
       "attributes": {},
       "children": [],
       "counter": null,
       "error_count": null,
       "error_messages": null,
       "height": null,
       "hide_details": null,
       "label": "x_disc",
       "layout": "IPY_MODEL_a28c083b8c324f0f921a86c5e3d2db28",
       "loader_height": null,
       "loading": null,
       "messages": null,
       "success_messages": null,
       "v_model": 0.5,
       "v_slots": []
      }
     },
     "4705495c1c1a4abbae31cab73cdc2200": {
      "model_module": "@jupyter-widgets/base",
      "model_module_version": "1.2.0",
      "model_name": "LayoutModel",
      "state": {}
     },
     "4790ac4af4f64cdc8258e2bf18481f4c": {
      "model_module": "@jupyter-widgets/base",
      "model_module_version": "1.2.0",
      "model_name": "LayoutModel",
      "state": {}
     },
     "484f1ad3b7784be9be5f7fedc0e987e4": {
      "model_module": "@jupyter-widgets/base",
      "model_module_version": "1.2.0",
      "model_name": "LayoutModel",
      "state": {}
     },
     "494f808528ec49f89a8ee27365c0d84c": {
      "model_module": "jupyter-vuetify",
      "model_module_version": "^1.6.2",
      "model_name": "ExpansionPanelModel",
      "state": {
       "_events": [],
       "_jupyter_vue": "IPY_MODEL_992e22c5a5104efdb11fafa4575ee530",
       "attributes": {},
       "children": [
        "IPY_MODEL_100ffdb95a1040378a63952fa70aca8b",
        "IPY_MODEL_32b7d914de82402db8e2e76b4ad62b35"
       ],
       "layout": "IPY_MODEL_77f30b47422545509fdbd13e5170e6c7",
       "v_slots": []
      }
     },
     "4aa83ae9d6314804aa5b1623b40e77dc": {
      "model_module": "jupyter-vuetify",
      "model_module_version": "^1.6.2",
      "model_name": "TextFieldModel",
      "state": {
       "_events": [],
       "_jupyter_vue": "IPY_MODEL_992e22c5a5104efdb11fafa4575ee530",
       "attributes": {},
       "children": [],
       "counter": null,
       "error_count": null,
       "error_messages": null,
       "height": null,
       "hide_details": null,
       "label": "Time step",
       "layout": "IPY_MODEL_e18cf91cd178478f816c8996dc316ee3",
       "loader_height": null,
       "loading": null,
       "messages": null,
       "success_messages": null,
       "v_model": 0.0009950248756218905,
       "v_slots": []
      }
     },
     "4b086abbc5c94c10aa8f0b805abf22f2": {
      "model_module": "@jupyter-widgets/base",
      "model_module_version": "1.2.0",
      "model_name": "LayoutModel",
      "state": {}
     },
     "4c765bda0c1449c0b2e95d312566283d": {
      "model_module": "@jupyter-widgets/base",
      "model_module_version": "1.2.0",
      "model_name": "LayoutModel",
      "state": {}
     },
     "4e1b3efac012465bb208b95fa62d7f6d": {
      "model_module": "jupyter-vuetify",
      "model_module_version": "^1.6.2",
      "model_name": "RowModel",
      "state": {
       "_events": [],
       "_jupyter_vue": "IPY_MODEL_992e22c5a5104efdb11fafa4575ee530",
       "attributes": {},
       "children": [
        "IPY_MODEL_de759a080f0e4e73bf428c85f2fcbedd",
        "IPY_MODEL_60d0c4b982c142eeaf5d7c7bc77666dd"
       ],
       "layout": "IPY_MODEL_83bd54af12224d92a1fadc74a987920c",
       "v_slots": []
      }
     },
     "4e2a97d8179b491c8aca22c6d3deaa1f": {
      "model_module": "@jupyter-widgets/base",
      "model_module_version": "1.2.0",
      "model_name": "LayoutModel",
      "state": {}
     },
     "4e81ffcc52da4c04abdf0038d98054e5": {
      "model_module": "@jupyter-widgets/base",
      "model_module_version": "1.2.0",
      "model_name": "LayoutModel",
      "state": {}
     },
     "4eb52f5c52fc4eb6b213b8fbe76d3bba": {
      "model_module": "@jupyter-widgets/base",
      "model_module_version": "1.2.0",
      "model_name": "LayoutModel",
      "state": {}
     },
     "4ef91dec123548a896749e1174744e54": {
      "model_module": "@jupyter-widgets/base",
      "model_module_version": "1.2.0",
      "model_name": "LayoutModel",
      "state": {}
     },
     "4f0d282da847495fbedf444344af5226": {
      "model_module": "@jupyter-widgets/base",
      "model_module_version": "1.2.0",
      "model_name": "LayoutModel",
      "state": {}
     },
     "4f16732b74b0453293b85469ac572713": {
      "model_module": "jupyter-vuetify",
      "model_module_version": "^1.6.2",
      "model_name": "SelectModel",
      "state": {
       "_events": [],
       "_jupyter_vue": "IPY_MODEL_992e22c5a5104efdb11fafa4575ee530",
       "attributes": {},
       "children": [],
       "counter": null,
       "error_count": null,
       "error_messages": null,
       "height": null,
       "hide_details": null,
       "item_disabled": null,
       "item_text": null,
       "item_value": null,
       "items": [
        "auto",
        "numpy",
        "cython"
       ],
       "label": "Code generator",
       "layout": "IPY_MODEL_dc1c02cb016d41a98c652056c34afe36",
       "loader_height": null,
       "loading": null,
       "menu_props": null,
       "messages": null,
       "success_messages": null,
       "v_model": "auto",
       "v_slots": []
      }
     },
     "4f49c519fd6f423fa8aeebfc5c19e71b": {
      "model_module": "jupyter-vuetify",
      "model_module_version": "^1.6.2",
      "model_name": "TextFieldModel",
      "state": {
       "_events": [],
       "_jupyter_vue": "IPY_MODEL_992e22c5a5104efdb11fafa4575ee530",
       "attributes": {},
       "children": [],
       "counter": null,
       "error_count": null,
       "error_messages": null,
       "height": null,
       "hide_details": null,
       "label": "rho",
       "layout": "IPY_MODEL_36ad0de705b64baebd5630cf95e42b8a",
       "loader_height": null,
       "loading": null,
       "messages": null,
       "success_messages": null,
       "v_model": 1,
       "v_slots": []
      }
     },
     "4f7298346cad473a9fb835199071c72f": {
      "model_module": "jupyter-vuetify",
      "model_module_version": "^1.6.2",
      "model_name": "ColModel",
      "state": {
       "_events": [],
       "_jupyter_vue": "IPY_MODEL_992e22c5a5104efdb11fafa4575ee530",
       "attributes": {},
       "children": [
        "IPY_MODEL_b37c7252a0c44fc1a4557f3d6aed4a19",
        "IPY_MODEL_a4edb8ebebfc479cb4ad30f61390f5de",
        "IPY_MODEL_60d08f8450ab45f4af52b59bc7784e7b",
        "IPY_MODEL_32122ac826a647d2affa088aa2024d44"
       ],
       "cols": null,
       "layout": "IPY_MODEL_29040e6513a44187a0b6034aa80c7675",
       "lg": null,
       "md": null,
       "offset": null,
       "offset_lg": null,
       "offset_md": null,
       "offset_sm": null,
       "offset_xl": null,
       "order": null,
       "order_lg": null,
       "order_md": null,
       "order_sm": null,
       "order_xl": null,
       "sm": null,
       "v_slots": [],
       "xl": null
      }
     },
     "512fdc7472d945d09aebb4a68bc78e7b": {
      "model_module": "jupyter-vuetify",
      "model_module_version": "^1.6.2",
      "model_name": "CardModel",
      "state": {
       "_events": [],
       "_jupyter_vue": "IPY_MODEL_992e22c5a5104efdb11fafa4575ee530",
       "attributes": {},
       "children": [
        "IPY_MODEL_2b6919cceae445cfa82019c69657f61f",
        "IPY_MODEL_c73cb70e1c094372af0fa6478ca4689f"
       ],
       "class_": "ma-2",
       "elevation": null,
       "height": null,
       "href": null,
       "layout": "IPY_MODEL_fa5e4c38a4bd475da7ee8d7933593f69",
       "loader_height": null,
       "loading": null,
       "max_height": null,
       "max_width": null,
       "min_height": null,
       "min_width": null,
       "ripple": null,
       "to": null,
       "v_slots": [],
       "width": null
      }
     },
     "5172b1ed56db49b8b1f36513f2c399b2": {
      "model_module": "@jupyter-widgets/base",
      "model_module_version": "1.2.0",
      "model_name": "LayoutModel",
      "state": {}
     },
     "51843fa1858740e5898c54d5e90570ca": {
      "model_module": "@jupyter-widgets/base",
      "model_module_version": "1.2.0",
      "model_name": "LayoutModel",
      "state": {}
     },
     "52f50540245d4b448b2c5abcbcfeccb9": {
      "model_module": "@jupyter-widgets/base",
      "model_module_version": "1.2.0",
      "model_name": "LayoutModel",
      "state": {}
     },
     "53763ee187bd4fd9941f3f0ae27fd3a1": {
      "model_module": "@jupyter-widgets/base",
      "model_module_version": "1.2.0",
      "model_name": "LayoutModel",
      "state": {}
     },
     "53986a0880704f77b9e6eb0245d52b0c": {
      "model_module": "jupyter-vuetify",
      "model_module_version": "^1.6.2",
      "model_name": "ListModel",
      "state": {
       "_events": [],
       "_jupyter_vue": "IPY_MODEL_992e22c5a5104efdb11fafa4575ee530",
       "attributes": {},
       "children": [
        "IPY_MODEL_19048249e24a45fe92584f58714e67eb",
        "IPY_MODEL_3ac8b3784d804dfba8466b8ecfea5ed1"
       ],
       "elevation": null,
       "height": null,
       "layout": "IPY_MODEL_73864e933a8c464eb0758f449904e673",
       "max_height": null,
       "max_width": null,
       "min_height": null,
       "min_width": null,
       "v_slots": [],
       "width": null
      }
     },
     "53ab080b78044b4face43da4364a2914": {
      "model_module": "@jupyter-widgets/base",
      "model_module_version": "1.2.0",
      "model_name": "LayoutModel",
      "state": {}
     },
     "54bc536fb5c4496eb7b118a321a87777": {
      "model_module": "@jupyter-widgets/base",
      "model_module_version": "1.2.0",
      "model_name": "LayoutModel",
      "state": {}
     },
     "54cb45c726de48be9b877ccbee853f5f": {
      "model_module": "jupyter-vuetify",
      "model_module_version": "^1.6.2",
      "model_name": "CardModel",
      "state": {
       "_events": [],
       "_jupyter_vue": "IPY_MODEL_992e22c5a5104efdb11fafa4575ee530",
       "attributes": {},
       "children": [
        "IPY_MODEL_e8e840709fc74e089ce980a1bf3ded4d",
        "IPY_MODEL_171be0a7449d44dd85aa3d0a01468a65",
        "IPY_MODEL_f8e659de1e884430a54d6c74c3364483"
       ],
       "elevation": null,
       "height": null,
       "href": null,
       "layout": "IPY_MODEL_2b76108ecf624c86a64d26bb323f8630",
       "loader_height": null,
       "loading": null,
       "max_height": null,
       "max_width": null,
       "min_height": null,
       "min_width": null,
       "ripple": null,
       "to": null,
       "v_slots": [],
       "width": null
      }
     },
     "569adfb09afd4dd99317234ea8be9e56": {
      "model_module": "jupyter-vuetify",
      "model_module_version": "^1.6.2",
      "model_name": "BtnModel",
      "state": {
       "_events": [
        "click"
       ],
       "_jupyter_vue": "IPY_MODEL_992e22c5a5104efdb11fafa4575ee530",
       "attributes": {},
       "children": [
        "Start"
       ],
       "class_": "ma-2",
       "color": "success",
       "elevation": null,
       "height": null,
       "href": null,
       "layout": "IPY_MODEL_377d06031d574ec49e28798fff4ae7d9",
       "max_height": null,
       "max_width": null,
       "min_height": null,
       "min_width": null,
       "ripple": null,
       "style_": "width: 100px",
       "to": null,
       "v_model": true,
       "v_on": "tooltip.on",
       "v_slots": [],
       "width": null
      }
     },
     "56faaad89b2f4214b44c46bd32d1ffc0": {
      "model_module": "jupyter-vuetify",
      "model_module_version": "^1.6.2",
      "model_name": "ListItemModel",
      "state": {
       "_events": [],
       "_jupyter_vue": "IPY_MODEL_992e22c5a5104efdb11fafa4575ee530",
       "attributes": {},
       "children": [
        "IPY_MODEL_5cca02c4a32742a78d15ae9795ef3a98"
       ],
       "href": null,
       "layout": "IPY_MODEL_42d8cb8851b34ce99208ed1a4de93825",
       "ripple": null,
       "to": null,
       "v_slots": []
      }
     },
     "573d41536c344f71a45f554c5ee632e8": {
      "model_module": "@jupyter-widgets/base",
      "model_module_version": "1.2.0",
      "model_name": "LayoutModel",
      "state": {}
     },
     "576d0751f2974e21b2b798822a8e0a50": {
      "model_module": "@jupyter-widgets/base",
      "model_module_version": "1.2.0",
      "model_name": "LayoutModel",
      "state": {}
     },
     "57be74f7b5834bffb7996cc181206b5c": {
      "model_module": "@jupyter-widgets/base",
      "model_module_version": "1.2.0",
      "model_name": "LayoutModel",
      "state": {}
     },
     "57f7f1efd51346909a249afde01da95b": {
      "model_module": "@jupyter-widgets/base",
      "model_module_version": "1.2.0",
      "model_name": "LayoutModel",
      "state": {}
     },
     "582521094d0a422cb56900774e49f3dd": {
      "model_module": "@jupyter-widgets/base",
      "model_module_version": "1.2.0",
      "model_name": "LayoutModel",
      "state": {}
     },
     "582564695ed34d09aebaaae1293c25cb": {
      "model_module": "@jupyter-widgets/base",
      "model_module_version": "1.2.0",
      "model_name": "LayoutModel",
      "state": {}
     },
     "592502e3890741e6a07ff3cb6a25770b": {
      "model_module": "@jupyter-widgets/base",
      "model_module_version": "1.2.0",
      "model_name": "LayoutModel",
      "state": {}
     },
     "594090ce03c3418c8f100b5029c1b576": {
      "model_module": "jupyter-vuetify",
      "model_module_version": "^1.6.2",
      "model_name": "TabItemModel",
      "state": {
       "_events": [],
       "_jupyter_vue": "IPY_MODEL_992e22c5a5104efdb11fafa4575ee530",
       "attributes": {},
       "children": [
        "IPY_MODEL_24e983409b5a43b8a8a52702a1570490"
       ],
       "layout": "IPY_MODEL_217bae3f439a4ac888ff94bf5b28c41b",
       "reverse_transition": null,
       "transition": null,
       "v_slots": []
      }
     },
     "5a1a920267034c48afe33c299334ab90": {
      "model_module": "@jupyter-widgets/base",
      "model_module_version": "1.2.0",
      "model_name": "LayoutModel",
      "state": {}
     },
     "5b19dd2f854d4a51aaf7a0c402673789": {
      "model_module": "jupyter-vuetify",
      "model_module_version": "^1.6.2",
      "model_name": "BtnModel",
      "state": {
       "_events": [],
       "_jupyter_vue": "IPY_MODEL_992e22c5a5104efdb11fafa4575ee530",
       "attributes": {},
       "children": [
        "IPY_MODEL_c0dc31788acd48279aedc83947b73495"
       ],
       "color": "error",
       "dark": true,
       "elevation": null,
       "fab": true,
       "height": null,
       "href": null,
       "layout": "IPY_MODEL_acdb9d457f8b4586824e28c665f9274c",
       "max_height": null,
       "max_width": null,
       "min_height": null,
       "min_width": null,
       "ripple": null,
       "to": null,
       "v_slots": [],
       "width": null,
       "x_small": true
      }
     },
     "5b4ad1bf05334082b95c6b9e6b63bc29": {
      "model_module": "@jupyter-widgets/base",
      "model_module_version": "1.2.0",
      "model_name": "LayoutModel",
      "state": {}
     },
     "5b5055b3dc354ab599da0a241de0a1d7": {
      "model_module": "@jupyter-widgets/base",
      "model_module_version": "1.2.0",
      "model_name": "LayoutModel",
      "state": {}
     },
     "5c4aa66012454674bc7cb037d032581e": {
      "model_module": "@jupyter-widgets/base",
      "model_module_version": "1.2.0",
      "model_name": "LayoutModel",
      "state": {}
     },
     "5cca02c4a32742a78d15ae9795ef3a98": {
      "model_module": "jupyter-vuetify",
      "model_module_version": "^1.6.2",
      "model_name": "ListItemContentModel",
      "state": {
       "_events": [],
       "_jupyter_vue": "IPY_MODEL_992e22c5a5104efdb11fafa4575ee530",
       "attributes": {},
       "children": [
        "IPY_MODEL_99ffab88efd54bbf87f2c9137c3d13ea"
       ],
       "layout": "IPY_MODEL_38ac3a7f77424b81890d8a1429fc69c4",
       "v_slots": []
      }
     },
     "5ccd5a0e413343ad9af9b87cb19417cc": {
      "model_module": "@jupyter-widgets/base",
      "model_module_version": "1.2.0",
      "model_name": "LayoutModel",
      "state": {}
     },
     "5d4e079a8a3144ae89304b5cabc62c53": {
      "model_module": "jupyter-vuetify",
      "model_module_version": "^1.6.2",
      "model_name": "ExpansionPanelModel",
      "state": {
       "_events": [],
       "_jupyter_vue": "IPY_MODEL_992e22c5a5104efdb11fafa4575ee530",
       "attributes": {},
       "children": [
        "IPY_MODEL_68b4bb9e74a8486b9586a317d8ac4d42",
        "IPY_MODEL_baa692c27bdf4a9bb325a1789a3099d7"
       ],
       "layout": "IPY_MODEL_896926cb3d37468bad439399bc70871d",
       "v_slots": []
      }
     },
     "5d72868e522b4515a0e14e3d1b1692ff": {
      "model_module": "@jupyter-widgets/base",
      "model_module_version": "1.2.0",
      "model_name": "LayoutModel",
      "state": {}
     },
     "5d9f4aeb31f14cd1ba4b5a6ad8bc3d7d": {
      "model_module": "@jupyter-widgets/base",
      "model_module_version": "1.2.0",
      "model_name": "LayoutModel",
      "state": {}
     },
     "5dd94ceb34f14681b6a8ffb6c3053987": {
      "model_module": "@jupyter-widgets/base",
      "model_module_version": "1.2.0",
      "model_name": "LayoutModel",
      "state": {}
     },
     "5e49b09649cc457f86336ce9a2b87b3a": {
      "model_module": "@jupyter-widgets/base",
      "model_module_version": "1.2.0",
      "model_name": "LayoutModel",
      "state": {}
     },
     "5e8cffa53f3e404e9af1927da8bea92c": {
      "model_module": "@jupyter-widgets/base",
      "model_module_version": "1.2.0",
      "model_name": "LayoutModel",
      "state": {}
     },
     "5f855adb3cad4c2e900fe3c8d7b4e448": {
      "model_module": "@jupyter-widgets/base",
      "model_module_version": "1.2.0",
      "model_name": "LayoutModel",
      "state": {}
     },
     "5f8b650345634ca59b67b0dea256d8e4": {
      "model_module": "@jupyter-widgets/base",
      "model_module_version": "1.2.0",
      "model_name": "LayoutModel",
      "state": {}
     },
     "5fc2c8574d6743419671cfb88024507e": {
      "model_module": "@jupyter-widgets/base",
      "model_module_version": "1.2.0",
      "model_name": "LayoutModel",
      "state": {}
     },
     "5fd88713d8b444e4aea6370b635471b2": {
      "model_module": "@jupyter-widgets/base",
      "model_module_version": "1.2.0",
      "model_name": "LayoutModel",
      "state": {}
     },
     "60c32195bf1a4d66a0ad1f86ad4f23e2": {
      "model_module": "jupyter-vuetify",
      "model_module_version": "^1.6.2",
      "model_name": "TextFieldModel",
      "state": {
       "_events": [],
       "_jupyter_vue": "IPY_MODEL_992e22c5a5104efdb11fafa4575ee530",
       "attributes": {},
       "children": [],
       "counter": null,
       "error_count": null,
       "error_messages": null,
       "height": null,
       "hide_details": null,
       "label": "u_right",
       "layout": "IPY_MODEL_43708d505edf4f278548a80bf2d0e5f3",
       "loader_height": null,
       "loading": null,
       "messages": null,
       "success_messages": null,
       "v_model": 0,
       "v_slots": []
      }
     },
     "60d08f8450ab45f4af52b59bc7784e7b": {
      "model_module": "jupyter-vuetify",
      "model_module_version": "^1.6.2",
      "model_name": "RowModel",
      "state": {
       "_events": [],
       "_jupyter_vue": "IPY_MODEL_992e22c5a5104efdb11fafa4575ee530",
       "align": "center",
       "attributes": {},
       "children": [
        "IPY_MODEL_bd63b92d8f6642cc8b1f47db2e470cd1",
        "IPY_MODEL_d24d988bb58e4471a84e9766741887b7",
        "IPY_MODEL_c1d4236772ef4cc98960b83be5df9b3b"
       ],
       "justify": "center",
       "layout": "IPY_MODEL_724ae06aecd847c185f27e7c2b802118",
       "v_slots": []
      }
     },
     "60d0c4b982c142eeaf5d7c7bc77666dd": {
      "model_module": "jupyter-vuetify",
      "model_module_version": "^1.6.2",
      "model_name": "BtnModel",
      "state": {
       "_events": [
        "click"
       ],
       "_jupyter_vue": "IPY_MODEL_992e22c5a5104efdb11fafa4575ee530",
       "attributes": {},
       "children": [
        "Plot stability region"
       ],
       "color": "primary",
       "elevation": null,
       "height": null,
       "href": null,
       "layout": "IPY_MODEL_e57314a282e549c6a904624c0a16dbad",
       "max_height": null,
       "max_width": null,
       "min_height": null,
       "min_width": null,
       "ripple": null,
       "to": null,
       "v_slots": [],
       "width": null
      }
     },
     "61e7faab55c248f9a1f01cabc4d806e7": {
      "model_module": "jupyter-vuetify",
      "model_module_version": "^1.6.2",
      "model_name": "CardModel",
      "state": {
       "_events": [],
       "_jupyter_vue": "IPY_MODEL_992e22c5a5104efdb11fafa4575ee530",
       "attributes": {},
       "children": [
        "IPY_MODEL_9e4db26adea7498cb4b61cd593bb7393",
        "IPY_MODEL_be9942c4803746b18c0d1b3766f70596"
       ],
       "elevation": null,
       "height": null,
       "href": null,
       "layout": "IPY_MODEL_d4794c9807c04783be91d891612c4441",
       "loader_height": null,
       "loading": null,
       "max_height": null,
       "max_width": null,
       "min_height": null,
       "min_width": null,
       "ripple": null,
       "to": null,
       "v_slots": [],
       "width": null
      }
     },
     "62147348217c4feb8e0d6145cae3639a": {
      "model_module": "jupyter-vuetify",
      "model_module_version": "^1.6.2",
      "model_name": "SpacerModel",
      "state": {
       "_events": [],
       "_jupyter_vue": "IPY_MODEL_992e22c5a5104efdb11fafa4575ee530",
       "attributes": {},
       "children": [],
       "layout": "IPY_MODEL_d670f322dfe6494fbbb49222026986d8",
       "v_slots": []
      }
     },
     "624836d0e8c24de5860bcdbc31c5ef05": {
      "model_module": "jupyter-vuetify",
      "model_module_version": "^1.6.2",
      "model_name": "TextFieldModel",
      "state": {
       "_events": [],
       "_jupyter_vue": "IPY_MODEL_992e22c5a5104efdb11fafa4575ee530",
       "attributes": {},
       "children": [],
       "counter": null,
       "error_count": null,
       "error_messages": null,
       "height": null,
       "hide_details": null,
       "label": "s_rho",
       "layout": "IPY_MODEL_5ccd5a0e413343ad9af9b87cb19417cc",
       "loader_height": null,
       "loading": null,
       "messages": null,
       "success_messages": null,
       "v_model": 1.9,
       "v_slots": []
      }
     },
     "62a4ec2c18ff4dff8bcdfdab8a66d908": {
      "model_module": "@jupyter-widgets/base",
      "model_module_version": "1.2.0",
      "model_name": "LayoutModel",
      "state": {}
     },
     "62bac67bd091412bbad9b55fa48dea60": {
      "model_module": "jupyter-vuetify",
      "model_module_version": "^1.6.2",
      "model_name": "ContainerModel",
      "state": {
       "_events": [],
       "_jupyter_vue": "IPY_MODEL_992e22c5a5104efdb11fafa4575ee530",
       "attributes": {},
       "children": [
        "IPY_MODEL_f0b3bdab80654e47b1d753c1a541f222"
       ],
       "layout": "IPY_MODEL_0a225de98ecb48c39d635bb5406abc92",
       "v_slots": []
      }
     },
     "64126f1ce40c4f9faab4b4a1b1c9a67c": {
      "model_module": "jupyter-vuetify",
      "model_module_version": "^1.6.2",
      "model_name": "TextFieldModel",
      "state": {
       "_events": [],
       "_jupyter_vue": "IPY_MODEL_992e22c5a5104efdb11fafa4575ee530",
       "attributes": {},
       "children": [],
       "counter": null,
       "error_count": null,
       "error_messages": null,
       "height": null,
       "hide_details": null,
       "label": "s_u",
       "layout": "IPY_MODEL_7198269063424dd6bcabc4c829ff7d81",
       "loader_height": null,
       "loading": null,
       "messages": null,
       "success_messages": null,
       "v_model": 1.8,
       "v_slots": []
      }
     },
     "655d92c066184624a07c64d57fe1232c": {
      "model_module": "@jupyter-widgets/base",
      "model_module_version": "1.2.0",
      "model_name": "LayoutModel",
      "state": {}
     },
     "6571f3bbfbb24bbdac03bfeb55d737c3": {
      "model_module": "jupyter-vuetify",
      "model_module_version": "^1.6.2",
      "model_name": "SelectModel",
      "state": {
       "_events": [],
       "_jupyter_vue": "IPY_MODEL_992e22c5a5104efdb11fafa4575ee530",
       "attributes": {},
       "children": [],
       "counter": null,
       "error_count": null,
       "error_messages": null,
       "height": null,
       "hide_details": null,
       "item_disabled": null,
       "item_text": null,
       "item_value": null,
       "items": [
        "auto",
        "numpy",
        "cython"
       ],
       "layout": "IPY_MODEL_655d92c066184624a07c64d57fe1232c",
       "loader_height": null,
       "loading": null,
       "menu_props": null,
       "messages": null,
       "success_messages": null,
       "v_model": "auto",
       "v_slots": []
      }
     },
     "66bd14026da3489f86ed236d29fa4842": {
      "model_module": "jupyter-vuetify",
      "model_module_version": "^1.6.2",
      "model_name": "ListItemActionModel",
      "state": {
       "_events": [],
       "_jupyter_vue": "IPY_MODEL_992e22c5a5104efdb11fafa4575ee530",
       "attributes": {},
       "children": [
        "IPY_MODEL_cacbf3d1f6cc46668637c1f02b2cc7ed"
       ],
       "layout": "IPY_MODEL_9a35e666ceca4fd3a1328c5eec38e227",
       "v_slots": []
      }
     },
     "66c714fedf104ba6a6fbb7aa0c93a2f2": {
      "model_module": "jupyter-vuetify",
      "model_module_version": "^1.6.2",
      "model_name": "CardTitleModel",
      "state": {
       "_events": [],
       "_jupyter_vue": "IPY_MODEL_992e22c5a5104efdb11fafa4575ee530",
       "attributes": {},
       "children": [
        "Update linear state configuration"
       ],
       "class_": "headline gray lighten-2",
       "layout": "IPY_MODEL_baac4917118f420e9c683b1d31f2ad59",
       "v_slots": []
      }
     },
     "671e732d997544f3b3a4cc89908fe3d3": {
      "model_module": "@jupyter-widgets/base",
      "model_module_version": "1.2.0",
      "model_name": "LayoutModel",
      "state": {}
     },
     "681930aa3f0e447289a23496a97b44ed": {
      "model_module": "jupyter-vuetify",
      "model_module_version": "^1.6.2",
      "model_name": "ColModel",
      "state": {
       "_events": [],
       "_jupyter_vue": "IPY_MODEL_992e22c5a5104efdb11fafa4575ee530",
       "attributes": {},
       "children": [
        "IPY_MODEL_b09e5915125042adb85371bf09ee5285"
       ],
       "cols": null,
       "layout": "IPY_MODEL_bf622026f4574828b6fff17d25cd8035",
       "lg": null,
       "md": null,
       "offset": null,
       "offset_lg": null,
       "offset_md": null,
       "offset_sm": null,
       "offset_xl": null,
       "order": null,
       "order_lg": null,
       "order_md": null,
       "order_sm": null,
       "order_xl": null,
       "sm": null,
       "v_slots": [],
       "xl": null
      }
     },
     "689718293cd44a2582a644dd9df05af6": {
      "model_module": "@jupyter-widgets/base",
      "model_module_version": "1.2.0",
      "model_name": "LayoutModel",
      "state": {}
     },
     "68b4bb9e74a8486b9586a317d8ac4d42": {
      "model_module": "jupyter-vuetify",
      "model_module_version": "^1.6.2",
      "model_name": "ExpansionPanelHeaderModel",
      "state": {
       "_events": [],
       "_jupyter_vue": "IPY_MODEL_992e22c5a5104efdb11fafa4575ee530",
       "attributes": {},
       "children": [
        "Show parameters"
       ],
       "layout": "IPY_MODEL_c890db47a9bd4ceda70e5c0f67137616",
       "ripple": null,
       "v_slots": []
      }
     },
     "6912efa43c0544079e8c36f95e3dce58": {
      "model_module": "@jupyter-widgets/base",
      "model_module_version": "1.2.0",
      "model_name": "LayoutModel",
      "state": {}
     },
     "693f9106c757443cb66b307ae4b1af43": {
      "model_module": "@jupyter-widgets/base",
      "model_module_version": "1.2.0",
      "model_name": "LayoutModel",
      "state": {}
     },
     "69427a1f2c3549bcbd3f8c5fbe854331": {
      "model_module": "@jupyter-widgets/base",
      "model_module_version": "1.2.0",
      "model_name": "LayoutModel",
      "state": {}
     },
     "694f414bb8214911a5dbe2096752aae5": {
      "model_module": "jupyter-vuetify",
      "model_module_version": "^1.6.2",
      "model_name": "LayoutModel",
      "state": {
       "_events": [],
       "_jupyter_vue": "IPY_MODEL_992e22c5a5104efdb11fafa4575ee530",
       "attributes": {},
       "children": [],
       "layout": "IPY_MODEL_12d907984c5b4ee0bdea0741869f791b",
       "v_slots": []
      }
     },
     "69ba0f203ee744db9dde8e29cf8912a4": {
      "model_module": "@jupyter-widgets/base",
      "model_module_version": "1.2.0",
      "model_name": "LayoutModel",
      "state": {}
     },
     "6a2c9da3799940d79093aeb49cae7093": {
      "model_module": "@jupyter-widgets/base",
      "model_module_version": "1.2.0",
      "model_name": "LayoutModel",
      "state": {}
     },
     "6a378a4fbd84496a9c08821355b90fee": {
      "model_module": "jupyter-vuetify",
      "model_module_version": "^1.6.2",
      "model_name": "CardTextModel",
      "state": {
       "_events": [],
       "_jupyter_vue": "IPY_MODEL_992e22c5a5104efdb11fafa4575ee530",
       "attributes": {},
       "children": [
        "rho = 1.0, q = 0.0, E = 2.5000000000000004"
       ],
       "layout": "IPY_MODEL_87ac20e070054cb4b405fa34c50c5983",
       "v_slots": []
      }
     },
     "6a9dba67d6e5409281f1eaace9204b51": {
      "model_module": "jupyter-vuetify",
      "model_module_version": "^1.6.2",
      "model_name": "BtnModel",
      "state": {
       "_events": [
        "click"
       ],
       "_jupyter_vue": "IPY_MODEL_992e22c5a5104efdb11fafa4575ee530",
       "attributes": {},
       "children": [
        "Run parametric study"
       ],
       "class_": "ma-5",
       "color": "success",
       "elevation": null,
       "height": null,
       "href": null,
       "layout": "IPY_MODEL_5b4ad1bf05334082b95c6b9e6b63bc29",
       "max_height": null,
       "max_width": null,
       "min_height": null,
       "min_width": null,
       "ripple": null,
       "to": null,
       "v_model": true,
       "v_slots": [],
       "width": null
      }
     },
     "6aa9a1fed1184eb3b90bda843f915225": {
      "model_module": "@jupyter-widgets/base",
      "model_module_version": "1.2.0",
      "model_name": "LayoutModel",
      "state": {}
     },
     "6af71142be0a4d568265da54f701c558": {
      "model_module": "jupyter-vuetify",
      "model_module_version": "^1.6.2",
      "model_name": "TabModel",
      "state": {
       "_events": [],
       "_jupyter_vue": "IPY_MODEL_992e22c5a5104efdb11fafa4575ee530",
       "attributes": {},
       "children": [
        "Check stability"
       ],
       "href": null,
       "layout": "IPY_MODEL_d910f647a5fa492fab7834f04bed33d5",
       "ripple": null,
       "to": null,
       "v_slots": []
      }
     },
     "6d6adc5f5ed240ffa578ba02a36fd2c9": {
      "model_module": "jupyter-vuetify",
      "model_module_version": "^1.6.2",
      "model_name": "TooltipModel",
      "state": {
       "_events": [],
       "_jupyter_vue": "IPY_MODEL_992e22c5a5104efdb11fafa4575ee530",
       "attributes": {},
       "bottom": true,
       "children": [
        "click to start the simulation"
       ],
       "close_delay": null,
       "layout": "IPY_MODEL_4790ac4af4f64cdc8258e2bf18481f4c",
       "max_width": null,
       "min_width": null,
       "nudge_bottom": null,
       "nudge_left": null,
       "nudge_right": null,
       "nudge_top": null,
       "nudge_width": null,
       "open_delay": null,
       "v_slots": [
        {
         "children": "IPY_MODEL_569adfb09afd4dd99317234ea8be9e56",
         "name": "activator",
         "variable": "tooltip"
        }
       ]
      }
     },
     "6dfffa0b2fb541d8ae585510bc699730": {
      "model_module": "jupyter-vuetify",
      "model_module_version": "^1.6.2",
      "model_name": "ListItemContentModel",
      "state": {
       "_events": [],
       "_jupyter_vue": "IPY_MODEL_992e22c5a5104efdb11fafa4575ee530",
       "attributes": {},
       "children": [
        "IPY_MODEL_18ee1985a15e4493919250fab0791dfd"
       ],
       "layout": "IPY_MODEL_34ccdbe621294484969e6dbb4fa8ece1",
       "v_slots": []
      }
     },
     "6e15f8ff847144fe9101fdeeb9b10044": {
      "model_module": "@jupyter-widgets/base",
      "model_module_version": "1.2.0",
      "model_name": "LayoutModel",
      "state": {}
     },
     "6e7889e7adaf4155b43c7a1f909b3eaa": {
      "model_module": "@jupyter-widgets/base",
      "model_module_version": "1.2.0",
      "model_name": "LayoutModel",
      "state": {}
     },
     "6e96a347922743338a2f64c784ffaed4": {
      "model_module": "jupyter-vuetify",
      "model_module_version": "^1.6.2",
      "model_name": "ExpansionPanelsModel",
      "state": {
       "_events": [],
       "_jupyter_vue": "IPY_MODEL_992e22c5a5104efdb11fafa4575ee530",
       "attributes": {},
       "children": [
        "IPY_MODEL_494f808528ec49f89a8ee27365c0d84c"
       ],
       "layout": "IPY_MODEL_eca9ba84955a4c9a856502032d866fd0",
       "max": null,
       "v_model": null,
       "v_slots": []
      }
     },
     "6f4f3dc7b48145f1bb42b37402f432a4": {
      "model_module": "@jupyter-widgets/base",
      "model_module_version": "1.2.0",
      "model_name": "LayoutModel",
      "state": {}
     },
     "6f8fb87eac5d49faac9850f5714630b6": {
      "model_module": "jupyter-vuetify",
      "model_module_version": "^1.6.2",
      "model_name": "SpacerModel",
      "state": {
       "_events": [],
       "_jupyter_vue": "IPY_MODEL_992e22c5a5104efdb11fafa4575ee530",
       "attributes": {},
       "children": [],
       "layout": "IPY_MODEL_2201ba14c903455693fedabd421d3983",
       "v_slots": []
      }
     },
     "7038b5848c7b4507867d01ff9c38d86b": {
      "model_module": "@jupyter-widgets/base",
      "model_module_version": "1.2.0",
      "model_name": "LayoutModel",
      "state": {}
     },
     "712eea0a042e475699a85a5c0dabac95": {
      "model_module": "jupyter-vuetify",
      "model_module_version": "^1.6.2",
      "model_name": "ListItemContentModel",
      "state": {
       "_events": [],
       "_jupyter_vue": "IPY_MODEL_992e22c5a5104efdb11fafa4575ee530",
       "attributes": {},
       "children": [
        "IPY_MODEL_7414906187c948dfbb8b2281b11d1992"
       ],
       "layout": "IPY_MODEL_9df1782e898d4e4f8214d611eca74fcc",
       "v_slots": []
      }
     },
     "715fb501df9f474280a7e6fd2959a7dd": {
      "model_module": "jupyter-vuetify",
      "model_module_version": "^1.6.2",
      "model_name": "TabItemModel",
      "state": {
       "_events": [],
       "_jupyter_vue": "IPY_MODEL_992e22c5a5104efdb11fafa4575ee530",
       "attributes": {},
       "children": [
        "IPY_MODEL_f7a4e0d50fa64ef28b4ebe29bf962d84"
       ],
       "layout": "IPY_MODEL_38c089c1f4d945c4917255819d3205ae",
       "reverse_transition": null,
       "transition": null,
       "v_slots": []
      }
     },
     "7198269063424dd6bcabc4c829ff7d81": {
      "model_module": "@jupyter-widgets/base",
      "model_module_version": "1.2.0",
      "model_name": "LayoutModel",
      "state": {}
     },
     "71aa5e2020024b5486d78da033f3b556": {
      "model_module": "@jupyter-widgets/base",
      "model_module_version": "1.2.0",
      "model_name": "LayoutModel",
      "state": {}
     },
     "724ae06aecd847c185f27e7c2b802118": {
      "model_module": "@jupyter-widgets/base",
      "model_module_version": "1.2.0",
      "model_name": "LayoutModel",
      "state": {}
     },
     "73864e933a8c464eb0758f449904e673": {
      "model_module": "@jupyter-widgets/base",
      "model_module_version": "1.2.0",
      "model_name": "LayoutModel",
      "state": {}
     },
     "73e3ccbba71c40f7b3f85ade6d70ae6d": {
      "model_module": "jupyter-vuetify",
      "model_module_version": "^1.6.2",
      "model_name": "BtnModel",
      "state": {
       "_events": [
        "click"
       ],
       "_jupyter_vue": "IPY_MODEL_992e22c5a5104efdb11fafa4575ee530",
       "attributes": {},
       "children": [
        "Check stability"
       ],
       "color": "primary",
       "elevation": null,
       "height": null,
       "href": null,
       "layout": "IPY_MODEL_289fa8dad06945e99338baae775db53d",
       "max_height": null,
       "max_width": null,
       "min_height": null,
       "min_width": null,
       "ripple": null,
       "to": null,
       "v_slots": [],
       "width": null
      }
     },
     "7414906187c948dfbb8b2281b11d1992": {
      "model_module": "jupyter-vuetify",
      "model_module_version": "^1.6.2",
      "model_name": "SelectModel",
      "state": {
       "_events": [],
       "_jupyter_vue": "IPY_MODEL_992e22c5a5104efdb11fafa4575ee530",
       "attributes": {},
       "children": [],
       "counter": null,
       "error_count": null,
       "error_messages": null,
       "height": null,
       "hide_details": null,
       "item_disabled": null,
       "item_text": null,
       "item_value": null,
       "items": [
        "D1Q222",
        "D1Q333",
        "D1Q3L2"
       ],
       "label": "LBM schemes",
       "layout": "IPY_MODEL_8747f31682f24b4fa3abe3156f198bbd",
       "loader_height": null,
       "loading": null,
       "menu_props": null,
       "messages": null,
       "success_messages": null,
       "v_model": "D1Q222",
       "v_slots": []
      }
     },
     "74a5c2d388714f028aa6838c6773d54f": {
      "model_module": "@jupyter-widgets/base",
      "model_module_version": "1.2.0",
      "model_name": "LayoutModel",
      "state": {}
     },
     "75064ce1eff6403ab9b8e622000b4c5b": {
      "model_module": "jupyter-vuetify",
      "model_module_version": "^1.6.2",
      "model_name": "ListItemContentModel",
      "state": {
       "_events": [],
       "_jupyter_vue": "IPY_MODEL_992e22c5a5104efdb11fafa4575ee530",
       "attributes": {},
       "children": [
        "IPY_MODEL_02e0c2e043994869a0825393d558711a",
        "IPY_MODEL_b7892e5a79eb467f8c1f42c44e615de5"
       ],
       "layout": "IPY_MODEL_024a2ab1b46443819e7e1c64e52100b9",
       "v_slots": []
      }
     },
     "7511b9bf309340f2a2efaac41c5d8343": {
      "model_module": "jupyter-vuetify",
      "model_module_version": "^1.6.2",
      "model_name": "BtnModel",
      "state": {
       "_events": [
        "click"
       ],
       "_jupyter_vue": "IPY_MODEL_992e22c5a5104efdb11fafa4575ee530",
       "attributes": {},
       "children": [
        "close"
       ],
       "color": "error",
       "elevation": null,
       "height": null,
       "href": null,
       "layout": "IPY_MODEL_36406b36ffcf46c7b13fc706a0af1970",
       "max_height": null,
       "max_width": null,
       "min_height": null,
       "min_width": null,
       "ripple": null,
       "to": null,
       "v_slots": [],
       "width": null
      }
     },
     "75773ee0424d41aebdddfe82f107aa3f": {
      "model_module": "@jupyter-widgets/base",
      "model_module_version": "1.2.0",
      "model_name": "LayoutModel",
      "state": {}
     },
     "7605c4693d0546779193f9942f7eaed2": {
      "model_module": "jupyter-vuetify",
      "model_module_version": "^1.6.2",
      "model_name": "TabModel",
      "state": {
       "_events": [],
       "_jupyter_vue": "IPY_MODEL_992e22c5a5104efdb11fafa4575ee530",
       "attributes": {},
       "children": [
        "Equivalent equations"
       ],
       "href": null,
       "layout": "IPY_MODEL_4ef91dec123548a896749e1174744e54",
       "ripple": null,
       "to": null,
       "v_slots": []
      }
     },
     "769ecc13c00d4b7e9f74d1d54e68d1c9": {
      "model_module": "jupyter-vuetify",
      "model_module_version": "^1.6.2",
      "model_name": "CardTitleModel",
      "state": {
       "_events": [],
       "_jupyter_vue": "IPY_MODEL_992e22c5a5104efdb11fafa4575ee530",
       "attributes": {},
       "children": [
        "In space"
       ],
       "layout": "IPY_MODEL_e6c47b6fa9de45b7b6221afe88dfb043",
       "v_slots": []
      }
     },
     "77f30b47422545509fdbd13e5170e6c7": {
      "model_module": "@jupyter-widgets/base",
      "model_module_version": "1.2.0",
      "model_name": "LayoutModel",
      "state": {}
     },
     "7819469561444c34b53e1a0da124cd05": {
      "model_module": "jupyter-vuetify",
      "model_module_version": "^1.6.2",
      "model_name": "TextFieldModel",
      "state": {
       "_events": [],
       "_jupyter_vue": "IPY_MODEL_992e22c5a5104efdb11fafa4575ee530",
       "attributes": {},
       "children": [],
       "counter": null,
       "error_count": null,
       "error_messages": null,
       "height": null,
       "hide_details": null,
       "label": "duration",
       "layout": "IPY_MODEL_da0c4c4b88404254a2346cd050f81d7a",
       "loader_height": null,
       "loading": null,
       "messages": null,
       "success_messages": null,
       "v_model": 0.25,
       "v_slots": []
      }
     },
     "7857d6d2e9f24b0caf00a3e2e5bf43db": {
      "model_module": "@jupyter-widgets/base",
      "model_module_version": "1.2.0",
      "model_name": "LayoutModel",
      "state": {}
     },
     "788d0674fd5e4b67baecf39b81940078": {
      "model_module": "@jupyter-widgets/base",
      "model_module_version": "1.2.0",
      "model_name": "LayoutModel",
      "state": {}
     },
     "78ad4b8062a740a9abc7009e9667c557": {
      "model_module": "@jupyter-widgets/base",
      "model_module_version": "1.2.0",
      "model_name": "LayoutModel",
      "state": {}
     },
     "78da478c52bd4c209be0729fbde02d56": {
      "model_module": "jupyter-vuetify",
      "model_module_version": "^1.6.2",
      "model_name": "ExpansionPanelHeaderModel",
      "state": {
       "_events": [],
       "_jupyter_vue": "IPY_MODEL_992e22c5a5104efdb11fafa4575ee530",
       "attributes": {},
       "children": [
        "Discretization"
       ],
       "layout": "IPY_MODEL_240dd7b4a4f24881afe2935995182850",
       "ripple": null,
       "v_slots": []
      }
     },
     "79e22e76c95543bca151544e4e858c20": {
      "model_module": "jupyter-vuetify",
      "model_module_version": "^1.6.2",
      "model_name": "ThemeColorsModel",
      "state": {
       "_model_module_version": "^1.6.2",
       "_theme_name": "light",
       "_view_module": null,
       "_view_module_version": "^1.6.2",
       "accent": "#82B1FF",
       "error": "#FF5252",
       "info": "#2196F3",
       "primary": "#1976D2",
       "secondary": "#424242",
       "success": "#4CAF50",
       "warning": "#FB8C00"
      }
     },
     "7a38adeabd794ec882e68f0beb87827c": {
      "model_module": "jupyter-vuetify",
      "model_module_version": "^1.6.2",
      "model_name": "ListItemModel",
      "state": {
       "_events": [],
       "_jupyter_vue": "IPY_MODEL_992e22c5a5104efdb11fafa4575ee530",
       "attributes": {},
       "children": [
        "IPY_MODEL_a73cfe5c157f468b851ec06388234b21"
       ],
       "href": null,
       "layout": "IPY_MODEL_a62921e477af419985c0c8183ab0f5e0",
       "ripple": null,
       "to": null,
       "v_slots": []
      }
     },
     "7a879113ec194679819891b8d97ea075": {
      "model_module": "jupyter-vuetify",
      "model_module_version": "^1.6.2",
      "model_name": "CardModel",
      "state": {
       "_events": [],
       "_jupyter_vue": "IPY_MODEL_992e22c5a5104efdb11fafa4575ee530",
       "attributes": {},
       "children": [
        "IPY_MODEL_2c1c8b7ab8f649e2b84d2fbce4f0b584"
       ],
       "color": "transparent",
       "elevation": null,
       "flat": true,
       "height": null,
       "href": null,
       "layout": "IPY_MODEL_2afd7616ac4044fdbeaf4542fed24502",
       "light": true,
       "loader_height": null,
       "loading": null,
       "max_height": null,
       "max_width": null,
       "min_height": null,
       "min_width": null,
       "ripple": null,
       "to": null,
       "v_slots": [],
       "width": null
      }
     },
     "7b03d934fd0f47f3be39df06205c2aa2": {
      "model_module": "jupyter-vuetify",
      "model_module_version": "^1.6.2",
      "model_name": "TabsModel",
      "state": {
       "_events": [],
       "_jupyter_vue": "IPY_MODEL_992e22c5a5104efdb11fafa4575ee530",
       "attributes": {},
       "children": [
        "IPY_MODEL_30b7710f3a324d0b9a474eab9c4c25f3",
        "IPY_MODEL_9d68c3f7ea1b4d50a34708328abe9a89",
        "IPY_MODEL_2e16b5fa028c4f6ebaf1a9504f29974c",
        "IPY_MODEL_3b13890fce2b4717b541c33f35d2af2a"
       ],
       "height": null,
       "layout": "IPY_MODEL_c5071b9d79604f66aab092867f5c2cf4",
       "mobile_break_point": null,
       "slider_size": null,
       "v_model": 0,
       "v_slots": []
      }
     },
     "7b7c38806ebb4d0a93f493c44ea48e2d": {
      "model_module": "@jupyter-widgets/base",
      "model_module_version": "1.2.0",
      "model_name": "LayoutModel",
      "state": {}
     },
     "7c9ccac90ea84b44bf151d5e6c8fb556": {
      "model_module": "jupyter-vuetify",
      "model_module_version": "^1.6.2",
      "model_name": "TabModel",
      "state": {
       "_events": [],
       "_jupyter_vue": "IPY_MODEL_992e22c5a5104efdb11fafa4575ee530",
       "attributes": {},
       "children": [
        "Properties"
       ],
       "href": null,
       "layout": "IPY_MODEL_69427a1f2c3549bcbd3f8c5fbe854331",
       "ripple": null,
       "to": null,
       "v_slots": []
      }
     },
     "7d2ac1e4a17d4dc985ce877872580130": {
      "model_module": "jupyter-vuetify",
      "model_module_version": "^1.6.2",
      "model_name": "ListItemContentModel",
      "state": {
       "_events": [],
       "_jupyter_vue": "IPY_MODEL_992e22c5a5104efdb11fafa4575ee530",
       "attributes": {},
       "children": [
        "IPY_MODEL_91dc86673b5e44679546f9adade25fca"
       ],
       "layout": "IPY_MODEL_1062c3aa687345e9a4379d69e4197718",
       "v_slots": []
      }
     },
     "7da78a2f197e492d8401338f9f4929ad": {
      "model_module": "@jupyter-widgets/base",
      "model_module_version": "1.2.0",
      "model_name": "LayoutModel",
      "state": {}
     },
     "7f28bcc56e5c4ebf902874d2e744adb6": {
      "model_module": "@jupyter-widgets/base",
      "model_module_version": "1.2.0",
      "model_name": "LayoutModel",
      "state": {}
     },
     "7f874df5effd461fa414cdfadd7592bc": {
      "model_module": "jupyter-vuetify",
      "model_module_version": "^1.6.2",
      "model_name": "TextFieldModel",
      "state": {
       "_events": [],
       "_jupyter_vue": "IPY_MODEL_992e22c5a5104efdb11fafa4575ee530",
       "attributes": {},
       "children": [],
       "counter": null,
       "error_count": null,
       "error_messages": null,
       "height": null,
       "hide_details": null,
       "label": "gamma",
       "layout": "IPY_MODEL_2f1bfe36ea9e4228bd123409eb87bd06",
       "loader_height": null,
       "loading": null,
       "messages": null,
       "success_messages": null,
       "v_model": 1.4,
       "v_slots": []
      }
     },
     "81299ede56464bcbbe771544a6e3d72c": {
      "model_module": "@jupyter-widgets/base",
      "model_module_version": "1.2.0",
      "model_name": "LayoutModel",
      "state": {}
     },
     "81be5a46799e4a248270870ab865fc04": {
      "model_module": "@jupyter-widgets/base",
      "model_module_version": "1.2.0",
      "model_name": "LayoutModel",
      "state": {}
     },
     "81f97354608a436d9797a82cc5960a9e": {
      "model_module": "@jupyter-widgets/base",
      "model_module_version": "1.2.0",
      "model_name": "LayoutModel",
      "state": {}
     },
     "820d455e94d148a6865d0a4f13581614": {
      "model_module": "jupyter-vuetify",
      "model_module_version": "^1.6.2",
      "model_name": "ExpansionPanelHeaderModel",
      "state": {
       "_events": [],
       "_jupyter_vue": "IPY_MODEL_992e22c5a5104efdb11fafa4575ee530",
       "attributes": {},
       "children": [
        "Code generator"
       ],
       "layout": "IPY_MODEL_7038b5848c7b4507867d01ff9c38d86b",
       "ripple": null,
       "v_slots": []
      }
     },
     "82816f7e162d496cb02ba4c3a812f66c": {
      "model_module": "jupyter-vuetify",
      "model_module_version": "^1.6.2",
      "model_name": "RowModel",
      "state": {
       "_events": [],
       "_jupyter_vue": "IPY_MODEL_992e22c5a5104efdb11fafa4575ee530",
       "attributes": {},
       "children": [
        "IPY_MODEL_2f0f626f6e694bb1a8c3a894eed937f7"
       ],
       "layout": "IPY_MODEL_d8aa428ec0874885910dc6b43804e8eb",
       "v_slots": []
      }
     },
     "830c5912d4a642a795c28e015fffd75b": {
      "model_module": "jupyter-vuetify",
      "model_module_version": "^1.6.2",
      "model_name": "TextFieldModel",
      "state": {
       "_events": [],
       "_jupyter_vue": "IPY_MODEL_992e22c5a5104efdb11fafa4575ee530",
       "attributes": {},
       "children": [],
       "counter": null,
       "error_count": null,
       "error_messages": null,
       "height": null,
       "hide_details": null,
       "label": "Study name",
       "layout": "IPY_MODEL_5e8cffa53f3e404e9af1927da8bea92c",
       "loader_height": null,
       "loading": null,
       "messages": null,
       "success_messages": null,
       "v_model": "PS_0",
       "v_slots": []
      }
     },
     "832343a41db2400282e2605ffd4e20a6": {
      "model_module": "jupyter-vuetify",
      "model_module_version": "^1.6.2",
      "model_name": "FormModel",
      "state": {
       "_events": [],
       "_jupyter_vue": "IPY_MODEL_992e22c5a5104efdb11fafa4575ee530",
       "attributes": {},
       "children": [
        "IPY_MODEL_c9d83321815440989d29fd290f98c20b",
        "IPY_MODEL_207c29133e994b6f813803d22d62f7b1",
        "IPY_MODEL_8fef80438289477787365e69eb2d408e",
        "IPY_MODEL_c8217b599c274949ab03097add034e88"
       ],
       "layout": "IPY_MODEL_39c4caafb4f544adbc64ff8adffba89e",
       "v_model": "valid",
       "v_slots": []
      }
     },
     "83bd54af12224d92a1fadc74a987920c": {
      "model_module": "@jupyter-widgets/base",
      "model_module_version": "1.2.0",
      "model_name": "LayoutModel",
      "state": {}
     },
     "8416d5d014df4eaf8dc4ee810c9f8eda": {
      "model_module": "@jupyter-widgets/base",
      "model_module_version": "1.2.0",
      "model_name": "LayoutModel",
      "state": {}
     },
     "842834f35d404e55820d6490fca2bfa5": {
      "model_module": "jupyter-vuetify",
      "model_module_version": "^1.6.2",
      "model_name": "IconModel",
      "state": {
       "_events": [],
       "_jupyter_vue": "IPY_MODEL_992e22c5a5104efdb11fafa4575ee530",
       "attributes": {},
       "children": [
        "mdi-close"
       ],
       "layout": "IPY_MODEL_a6042c04d31042d19d7ab61d4e8da374",
       "size": null,
       "v_slots": []
      }
     },
     "848d7a104c2544889914d222c37f8904": {
      "model_module": "@jupyter-widgets/base",
      "model_module_version": "1.2.0",
      "model_name": "LayoutModel",
      "state": {}
     },
     "85333bf7f2ab4172b604beab9fb8cf73": {
      "model_module": "jupyter-vuetify",
      "model_module_version": "^1.6.2",
      "model_name": "CardTitleModel",
      "state": {
       "_events": [],
       "_jupyter_vue": "IPY_MODEL_992e22c5a5104efdb11fafa4575ee530",
       "attributes": {},
       "children": [
        "List of linear states"
       ],
       "layout": "IPY_MODEL_5172b1ed56db49b8b1f36513f2c399b2",
       "v_slots": []
      }
     },
     "856495ce72364f4e8d92ec0f254e8a53": {
      "model_module": "jupyter-vuetify",
      "model_module_version": "^1.6.2",
      "model_name": "CardTextModel",
      "state": {
       "_events": [],
       "_jupyter_vue": "IPY_MODEL_992e22c5a5104efdb11fafa4575ee530",
       "attributes": {},
       "children": [
        "IPY_MODEL_38b4d1b9436049cdb76467b540ce8b43"
       ],
       "layout": "IPY_MODEL_3a7452f5f0684e7a95e5aa19fd124f42",
       "v_slots": []
      }
     },
     "86328950697649ca9a799a08392622a8": {
      "model_module": "jupyter-vuetify",
      "model_module_version": "^1.6.2",
      "model_name": "BtnModel",
      "state": {
       "_events": [
        "click"
       ],
       "_jupyter_vue": "IPY_MODEL_992e22c5a5104efdb11fafa4575ee530",
       "attributes": {},
       "children": [
        "update"
       ],
       "color": "success",
       "elevation": null,
       "height": null,
       "href": null,
       "layout": "IPY_MODEL_89bf7bb039cb4cd7a79314c5f9729f23",
       "max_height": null,
       "max_width": null,
       "min_height": null,
       "min_width": null,
       "ripple": null,
       "to": null,
       "v_slots": [],
       "width": null
      }
     },
     "8747f31682f24b4fa3abe3156f198bbd": {
      "model_module": "@jupyter-widgets/base",
      "model_module_version": "1.2.0",
      "model_name": "LayoutModel",
      "state": {}
     },
     "8773762920d0443caaac6ecc43dc0e07": {
      "model_module": "jupyter-vuetify",
      "model_module_version": "^1.6.2",
      "model_name": "ColModel",
      "state": {
       "_events": [],
       "_jupyter_vue": "IPY_MODEL_992e22c5a5104efdb11fafa4575ee530",
       "attributes": {},
       "children": [
        "IPY_MODEL_7414906187c948dfbb8b2281b11d1992",
        "IPY_MODEL_18ee1985a15e4493919250fab0791dfd"
       ],
       "cols": null,
       "layout": "IPY_MODEL_848d7a104c2544889914d222c37f8904",
       "lg": null,
       "md": null,
       "offset": null,
       "offset_lg": null,
       "offset_md": null,
       "offset_sm": null,
       "offset_xl": null,
       "order": null,
       "order_lg": null,
       "order_md": null,
       "order_sm": null,
       "order_xl": null,
       "sm": 3,
       "v_slots": [],
       "xl": null
      }
     },
     "87ac20e070054cb4b405fa34c50c5983": {
      "model_module": "@jupyter-widgets/base",
      "model_module_version": "1.2.0",
      "model_name": "LayoutModel",
      "state": {}
     },
     "88d858c286c14a65b06fc655215c32ec": {
      "model_module": "@jupyter-widgets/base",
      "model_module_version": "1.2.0",
      "model_name": "LayoutModel",
      "state": {}
     },
     "890bb5faebad4f9ca835d9d3cf5897ba": {
      "model_module": "@jupyter-widgets/base",
      "model_module_version": "1.2.0",
      "model_name": "LayoutModel",
      "state": {}
     },
     "892e147e5b2f48dcbfc879229bd653d8": {
      "model_module": "@jupyter-widgets/base",
      "model_module_version": "1.2.0",
      "model_name": "LayoutModel",
      "state": {}
     },
     "896926cb3d37468bad439399bc70871d": {
      "model_module": "@jupyter-widgets/base",
      "model_module_version": "1.2.0",
      "model_name": "LayoutModel",
      "state": {}
     },
     "89bf7bb039cb4cd7a79314c5f9729f23": {
      "model_module": "@jupyter-widgets/base",
      "model_module_version": "1.2.0",
      "model_name": "LayoutModel",
      "state": {}
     },
     "89e37da945c4419dae5d5f965c2b916a": {
      "model_module": "@jupyter-widgets/base",
      "model_module_version": "1.2.0",
      "model_name": "LayoutModel",
      "state": {}
     },
     "8a5427f927c846d28162f6082d4465be": {
      "model_module": "@jupyter-widgets/base",
      "model_module_version": "1.2.0",
      "model_name": "LayoutModel",
      "state": {}
     },
     "8a9b36c774a64ec79fda41d178725a26": {
      "model_module": "jupyter-vuetify",
      "model_module_version": "^1.6.2",
      "model_name": "ListItemActionModel",
      "state": {
       "_events": [],
       "_jupyter_vue": "IPY_MODEL_992e22c5a5104efdb11fafa4575ee530",
       "attributes": {},
       "children": [],
       "layout": "IPY_MODEL_d8dd7cc3d1824c1bb26ca8eecc395316",
       "v_slots": []
      }
     },
     "8ae56b6a975743c095075d0ab17a76cd": {
      "model_module": "@jupyter-widgets/base",
      "model_module_version": "1.2.0",
      "model_name": "LayoutModel",
      "state": {}
     },
     "8b05539e15cc4cff9b9bc7806ab495d2": {
      "model_module": "jupyter-vuetify",
      "model_module_version": "^1.6.2",
      "model_name": "CardTextModel",
      "state": {
       "_events": [],
       "_jupyter_vue": "IPY_MODEL_992e22c5a5104efdb11fafa4575ee530",
       "attributes": {},
       "children": [
        "IPY_MODEL_bd6a4b4be396423f976ba90672817127",
        "IPY_MODEL_42d73d0d66734ea4be9a27371243e7f6"
       ],
       "layout": "IPY_MODEL_4705495c1c1a4abbae31cab73cdc2200",
       "v_slots": []
      }
     },
     "8b2f8e4379314c008aebb31a53335acc": {
      "model_module": "@jupyter-widgets/base",
      "model_module_version": "1.2.0",
      "model_name": "LayoutModel",
      "state": {}
     },
     "8b3de275d72b4075856f44be2be90da2": {
      "model_module": "@jupyter-widgets/base",
      "model_module_version": "1.2.0",
      "model_name": "LayoutModel",
      "state": {}
     },
     "8b493d96f8a34573bbead64b3469a438": {
      "model_module": "jupyter-vuetify",
      "model_module_version": "^1.6.2",
      "model_name": "ColModel",
      "state": {
       "_events": [],
       "_jupyter_vue": "IPY_MODEL_992e22c5a5104efdb11fafa4575ee530",
       "attributes": {},
       "children": [
        "IPY_MODEL_91dc86673b5e44679546f9adade25fca",
        "IPY_MODEL_99ffab88efd54bbf87f2c9137c3d13ea"
       ],
       "cols": null,
       "layout": "IPY_MODEL_198f688023084121a442fee2a24777bb",
       "lg": null,
       "md": null,
       "offset": null,
       "offset_lg": null,
       "offset_md": null,
       "offset_sm": null,
       "offset_xl": null,
       "order": null,
       "order_lg": null,
       "order_md": null,
       "order_sm": null,
       "order_xl": null,
       "sm": 3,
       "v_slots": [],
       "xl": null
      }
     },
     "8b4c689dbff34fbc9824ea1465490b35": {
      "model_module": "jupyter-vuetify",
      "model_module_version": "^1.6.2",
      "model_name": "IconModel",
      "state": {
       "_events": [],
       "_jupyter_vue": "IPY_MODEL_992e22c5a5104efdb11fafa4575ee530",
       "attributes": {},
       "children": [
        "mdi-plus"
       ],
       "layout": "IPY_MODEL_62a4ec2c18ff4dff8bcdfdab8a66d908",
       "size": null,
       "v_slots": []
      }
     },
     "8cfc90a62ceb402590d07e3aeb876fa3": {
      "model_module": "jupyter-vuetify",
      "model_module_version": "^1.6.2",
      "model_name": "ListItemContentModel",
      "state": {
       "_events": [],
       "_jupyter_vue": "IPY_MODEL_992e22c5a5104efdb11fafa4575ee530",
       "attributes": {},
       "children": [
        "IPY_MODEL_375b977bcf6a4c8fae109c56562c0716"
       ],
       "layout": "IPY_MODEL_cd9704dedbc14844a0e82e810c41fb26",
       "v_slots": []
      }
     },
     "8e84ac23b2e04916acd117fb3e27376d": {
      "model_module": "jupyter-vuetify",
      "model_module_version": "^1.6.2",
      "model_name": "CardTitleModel",
      "state": {
       "_events": [],
       "_jupyter_vue": "IPY_MODEL_992e22c5a5104efdb11fafa4575ee530",
       "attributes": {},
       "children": [
        "New field range configuration"
       ],
       "class_": "headline gray lighten-2",
       "layout": "IPY_MODEL_ec2c54bca8a34029b9e12b572f49e538",
       "v_slots": []
      }
     },
     "8f4c123c845b4fd1aa7e6654d0763be1": {
      "model_module": "jupyter-vuetify",
      "model_module_version": "^1.6.2",
      "model_name": "CardModel",
      "state": {
       "_events": [],
       "_jupyter_vue": "IPY_MODEL_992e22c5a5104efdb11fafa4575ee530",
       "attributes": {},
       "children": [
        "IPY_MODEL_85333bf7f2ab4172b604beab9fb8cf73",
        "IPY_MODEL_df8b5a4d7aaf4fcc8cd695e76c21c27b",
        "IPY_MODEL_91370e201a9748a9949a0b11befd4997"
       ],
       "elevation": null,
       "height": null,
       "href": null,
       "layout": "IPY_MODEL_0c2685c508ab48119a3e0143cb20220b",
       "loader_height": null,
       "loading": null,
       "max_height": null,
       "max_width": null,
       "min_height": null,
       "min_width": null,
       "ripple": null,
       "to": null,
       "v_slots": [],
       "width": null
      }
     },
     "8fef80438289477787365e69eb2d408e": {
      "model_module": "jupyter-vuetify",
      "model_module_version": "^1.6.2",
      "model_name": "SwitchModel",
      "state": {
       "_events": [],
       "_jupyter_vue": "IPY_MODEL_992e22c5a5104efdb11fafa4575ee530",
       "attributes": {},
       "children": [],
       "class_": "d-none",
       "error_count": null,
       "error_messages": null,
       "height": null,
       "hide_details": null,
       "label": "Single relaxation time",
       "layout": "IPY_MODEL_52f50540245d4b448b2c5abcbcfeccb9",
       "loading": null,
       "messages": null,
       "ripple": null,
       "success_messages": null,
       "v_model": true,
       "v_slots": []
      }
     },
     "8fef8170027f4c7589ebded53b1d7ed4": {
      "model_module": "@jupyter-widgets/base",
      "model_module_version": "1.2.0",
      "model_name": "LayoutModel",
      "state": {}
     },
     "9056d2fc8a6143a2b2cc3c4ff079745b": {
      "model_module": "jupyter-vuetify",
      "model_module_version": "^1.6.2",
      "model_name": "ColModel",
      "state": {
       "_events": [],
       "_jupyter_vue": "IPY_MODEL_992e22c5a5104efdb11fafa4575ee530",
       "attributes": {},
       "children": [
        "IPY_MODEL_82816f7e162d496cb02ba4c3a812f66c"
       ],
       "cols": null,
       "layout": "IPY_MODEL_948731b0a9fd4b01b2bcbd0a8f19695f",
       "lg": null,
       "md": null,
       "offset": null,
       "offset_lg": null,
       "offset_md": null,
       "offset_sm": null,
       "offset_xl": null,
       "order": null,
       "order_lg": null,
       "order_md": null,
       "order_sm": null,
       "order_xl": null,
       "sm": null,
       "v_slots": [],
       "xl": null
      }
     },
     "90a8b119980d44689067576cf24e89cf": {
      "model_module": "jupyter-vuetify",
      "model_module_version": "^1.6.2",
      "model_name": "CardTextModel",
      "state": {
       "_events": [],
       "_jupyter_vue": "IPY_MODEL_992e22c5a5104efdb11fafa4575ee530",
       "attributes": {},
       "children": [
        "IPY_MODEL_10596e4ef8314ef597730ccdf6f26531"
       ],
       "layout": "IPY_MODEL_9f95a3e958be47b7a077f9f0a6215e2b",
       "v_slots": []
      }
     },
     "90b8961be7c64912acbc843d6945d609": {
      "model_module": "jupyter-vuetify",
      "model_module_version": "^1.6.2",
      "model_name": "BtnModel",
      "state": {
       "_events": [
        "click"
       ],
       "_jupyter_vue": "IPY_MODEL_992e22c5a5104efdb11fafa4575ee530",
       "attributes": {},
       "children": [
        "close"
       ],
       "color": "error",
       "elevation": null,
       "height": null,
       "href": null,
       "layout": "IPY_MODEL_966196ab0da444ce9fbecbbcb01f6b60",
       "max_height": null,
       "max_width": null,
       "min_height": null,
       "min_width": null,
       "ripple": null,
       "to": null,
       "v_slots": [],
       "width": null
      }
     },
     "90da1aa211e445cda4a61de28895eec2": {
      "model_module": "jupyter-vuetify",
      "model_module_version": "^1.6.2",
      "model_name": "TextFieldModel",
      "state": {
       "_events": [],
       "_jupyter_vue": "IPY_MODEL_992e22c5a5104efdb11fafa4575ee530",
       "attributes": {},
       "children": [],
       "counter": null,
       "error_count": null,
       "error_messages": null,
       "height": null,
       "hide_details": null,
       "label": "rho",
       "layout": "IPY_MODEL_dc62f05fe59842a0823a1a8d0063108a",
       "loader_height": null,
       "loading": null,
       "messages": null,
       "success_messages": null,
       "v_model": 0.125,
       "v_slots": []
      }
     },
     "9108655b1004417cad742495ff148d30": {
      "model_module": "@jupyter-widgets/base",
      "model_module_version": "1.2.0",
      "model_name": "LayoutModel",
      "state": {}
     },
     "91370e201a9748a9949a0b11befd4997": {
      "model_module": "jupyter-vuetify",
      "model_module_version": "^1.6.2",
      "model_name": "CardActionsModel",
      "state": {
       "_events": [],
       "_jupyter_vue": "IPY_MODEL_992e22c5a5104efdb11fafa4575ee530",
       "attributes": {},
       "children": [
        "IPY_MODEL_6f8fb87eac5d49faac9850f5714630b6",
        "IPY_MODEL_73e3ccbba71c40f7b3f85ade6d70ae6d",
        "IPY_MODEL_a433317924f74c2d86e3830660bffd82"
       ],
       "layout": "IPY_MODEL_bc548df55096481687431bf7475d2409",
       "v_slots": []
      }
     },
     "918533e3287943f4970579cfe30c427d": {
      "model_module": "@jupyter-widgets/base",
      "model_module_version": "1.2.0",
      "model_name": "LayoutModel",
      "state": {}
     },
     "91dc86673b5e44679546f9adade25fca": {
      "model_module": "jupyter-vuetify",
      "model_module_version": "^1.6.2",
      "model_name": "TextFieldModel",
      "state": {
       "_events": [],
       "_jupyter_vue": "IPY_MODEL_992e22c5a5104efdb11fafa4575ee530",
       "attributes": {},
       "children": [],
       "counter": null,
       "error_count": null,
       "error_messages": null,
       "height": null,
       "hide_details": null,
       "label": "Simulation name",
       "layout": "IPY_MODEL_c20fa844b3034496a5e96d0996e8324a",
       "loader_height": null,
       "loading": null,
       "messages": null,
       "success_messages": null,
       "v_model": "simu_0",
       "v_slots": []
      }
     },
     "91e0598cdd8d4382ba792c939d64593e": {
      "model_module": "@jupyter-widgets/base",
      "model_module_version": "1.2.0",
      "model_name": "LayoutModel",
      "state": {}
     },
     "92383b0b280947ae9cd694f5aa4d2ca9": {
      "model_module": "jupyter-vuetify",
      "model_module_version": "^1.6.2",
      "model_name": "CardActionsModel",
      "state": {
       "_events": [],
       "_jupyter_vue": "IPY_MODEL_992e22c5a5104efdb11fafa4575ee530",
       "attributes": {},
       "children": [
        "IPY_MODEL_a0b39f7345194b9cae02b835552e5e0d",
        "IPY_MODEL_a433317924f74c2d86e3830660bffd82"
       ],
       "layout": "IPY_MODEL_45e105a81bf048ea9835ca5ac18996cc",
       "v_slots": []
      }
     },
     "924ce94774a74075b6d4872b42bf19cc": {
      "model_module": "@jupyter-widgets/base",
      "model_module_version": "1.2.0",
      "model_name": "LayoutModel",
      "state": {}
     },
     "934ac7772bcd4a289bd214bcebc75e0f": {
      "model_module": "@jupyter-widgets/base",
      "model_module_version": "1.2.0",
      "model_name": "LayoutModel",
      "state": {}
     },
     "939a68a9ff8744d3afd3bfd6f9702dd0": {
      "model_module": "@jupyter-widgets/base",
      "model_module_version": "1.2.0",
      "model_name": "LayoutModel",
      "state": {}
     },
     "9478fb7951454708a1dcf0dfe4bd8b26": {
      "model_module": "@jupyter-widgets/base",
      "model_module_version": "1.2.0",
      "model_name": "LayoutModel",
      "state": {}
     },
     "948731b0a9fd4b01b2bcbd0a8f19695f": {
      "model_module": "@jupyter-widgets/base",
      "model_module_version": "1.2.0",
      "model_name": "LayoutModel",
      "state": {}
     },
     "957b4c41f10c4bbf9e587c18a1e93037": {
      "model_module": "jupyter-vuetify",
      "model_module_version": "^1.6.2",
      "model_name": "NavigationDrawerModel",
      "state": {
       "_events": [],
       "_jupyter_vue": "IPY_MODEL_992e22c5a5104efdb11fafa4575ee530",
       "app": true,
       "attributes": {},
       "children": [
        "IPY_MODEL_9ef2a48e9f084f318e77931a9e2d3add",
        "IPY_MODEL_09ecc2168b354ebea00af98005164bb7"
       ],
       "clipped": true,
       "height": null,
       "layout": "IPY_MODEL_347b74d534454fd8a6593e38291908d4",
       "mini_variant_width": null,
       "mobile_break_point": null,
       "overlay_opacity": null,
       "src": null,
       "v_model": true,
       "v_slots": [],
       "width": 350
      }
     },
     "95ac9dca97ce4226a424e69cce177209": {
      "model_module": "@jupyter-widgets/base",
      "model_module_version": "1.2.0",
      "model_name": "LayoutModel",
      "state": {}
     },
     "962ee0bd31cd4947a17ee1d37f0d60e8": {
      "model_module": "@jupyter-widgets/base",
      "model_module_version": "1.2.0",
      "model_name": "LayoutModel",
      "state": {}
     },
     "964ade126b164ac0ab2db958a1b6af57": {
      "model_module": "@jupyter-widgets/base",
      "model_module_version": "1.2.0",
      "model_name": "LayoutModel",
      "state": {}
     },
     "966196ab0da444ce9fbecbbcb01f6b60": {
      "model_module": "@jupyter-widgets/base",
      "model_module_version": "1.2.0",
      "model_name": "LayoutModel",
      "state": {}
     },
     "97acd179d37e482b8b7974c88af39685": {
      "model_module": "@jupyter-widgets/output",
      "model_module_version": "1.0.0",
      "model_name": "OutputModel",
      "state": {
       "layout": "IPY_MODEL_fb0a18067cf84b149e436261e9c37cfd",
       "outputs": [
        {
         "data": {
          "text/html": "<p><strong>Toro 1</strong> is the standard Sod shock tube test case.</p>\n<p>Left and right states extracted from <em>Table 4.1 p.129</em> of the seminal Toro book:</p>\n<blockquote>\n<p>E.F. Toro. Riemann Solvers and Numerical Methods for Fluid Dynamics: A Practical Introduction. 2nd Edition, Springer, 1999.</p>\n</blockquote>\n<p>The test case parameters can be modified using the \"Test case parameters\" panel below</p>\n<p>The reference final results are computed using exact Riemann solver (???)</p>\n<p>\n<script type=\"math/tex\">D_1Q_2</script>\n</p>",
          "text/plain": "<IPython.core.display.HTML object>"
         },
         "metadata": {},
         "output_type": "display_data"
        }
       ]
      }
     },
     "97e20c5cd9a7452f93a338ea87004c1e": {
      "model_module": "jupyter-vuetify",
      "model_module_version": "^1.6.2",
      "model_name": "TabsModel",
      "state": {
       "_events": [],
       "_jupyter_vue": "IPY_MODEL_992e22c5a5104efdb11fafa4575ee530",
       "align_with_title": true,
       "attributes": {},
       "center_active": true,
       "children": [
        "IPY_MODEL_1fee52fb5510479da9e7d6674cfaaa06",
        "IPY_MODEL_cd69baf69b5b4c5ca5ebd10fa3f48bf5",
        "IPY_MODEL_2d04244d6af84012a4fa68cf876710d4",
        "IPY_MODEL_dbd08c5961c9455c930b0d85ed301a29",
        "IPY_MODEL_982623926806422e9d0efa4c789353a4"
       ],
       "fixed_tabs": true,
       "height": null,
       "layout": "IPY_MODEL_cef7a1ded7224a078c62991287e04cd2",
       "mobile_break_point": null,
       "show_arrows": true,
       "slider_size": 4,
       "v_model": 3,
       "v_slots": []
      }
     },
     "981cd9ce471741d1ad882e7137f1c406": {
      "model_module": "jupyter-vuetify",
      "model_module_version": "^1.6.2",
      "model_name": "ThemeColorsModel",
      "state": {
       "_model_module_version": "^1.6.2",
       "_theme_name": "dark",
       "_view_module": null,
       "_view_module_version": "^1.6.2",
       "accent": "#FF4081",
       "error": "#FF5252",
       "info": "#2196F3",
       "primary": "#2196F3",
       "secondary": "#424242",
       "success": "#4CAF50",
       "warning": "#FB8C00"
      }
     },
     "982623926806422e9d0efa4c789353a4": {
      "model_module": "jupyter-vuetify",
      "model_module_version": "^1.6.2",
      "model_name": "TabModel",
      "state": {
       "_events": [],
       "_jupyter_vue": "IPY_MODEL_992e22c5a5104efdb11fafa4575ee530",
       "attributes": {},
       "children": [
        "Parametric study"
       ],
       "href": null,
       "layout": "IPY_MODEL_3ae6a00f1b374eb8bcc905ea609cf237",
       "ripple": null,
       "to": null,
       "v_slots": []
      }
     },
     "98a851de4cde4f92b550ec16afc48b00": {
      "model_module": "@jupyter-widgets/base",
      "model_module_version": "1.2.0",
      "model_name": "LayoutModel",
      "state": {}
     },
     "992e22c5a5104efdb11fafa4575ee530": {
      "model_module": "jupyter-vue",
      "model_module_version": "^1.5.0",
      "model_name": "ForceLoadModel",
      "state": {
       "_model_module_version": "^1.5.0",
       "_view_module": null,
       "_view_module_version": "",
       "layout": "IPY_MODEL_4e2a97d8179b491c8aca22c6d3deaa1f"
      }
     },
     "99ffab88efd54bbf87f2c9137c3d13ea": {
      "model_module": "jupyter-vuetify",
      "model_module_version": "^1.6.2",
      "model_name": "ExpansionPanelsModel",
      "state": {
       "_events": [],
       "_jupyter_vue": "IPY_MODEL_992e22c5a5104efdb11fafa4575ee530",
       "attributes": {},
       "children": [
        "IPY_MODEL_3d274a93f5ee4cf9aac85bc44349429b",
        "IPY_MODEL_a08d5bb165bb47de87b95905ca20df26",
        "IPY_MODEL_463b2aaa586c4c9592d24ee259f12448"
       ],
       "layout": "IPY_MODEL_a6daa08a55d3413189bc2585a8eec5c4",
       "max": null,
       "multiple": true,
       "v_slots": []
      }
     },
     "9a328d6e5ced4ac4824dbbea1e36eb0d": {
      "model_module": "jupyter-vuetify",
      "model_module_version": "^1.6.2",
      "model_name": "TextFieldModel",
      "state": {
       "_events": [],
       "_jupyter_vue": "IPY_MODEL_992e22c5a5104efdb11fafa4575ee530",
       "attributes": {},
       "children": [],
       "counter": null,
       "error_count": null,
       "error_messages": null,
       "height": null,
       "hide_details": null,
       "label": "Space step",
       "layout": "IPY_MODEL_a260a7fb945049579f16f3fc29b83951",
       "loader_height": null,
       "loading": null,
       "messages": null,
       "success_messages": null,
       "type": "number",
       "v_model": 0.01,
       "v_slots": []
      }
     },
     "9a35e666ceca4fd3a1328c5eec38e227": {
      "model_module": "@jupyter-widgets/base",
      "model_module_version": "1.2.0",
      "model_name": "LayoutModel",
      "state": {}
     },
     "9abd5f1d3dd24915934dc5b66d8ecf35": {
      "model_module": "jupyter-vuetify",
      "model_module_version": "^1.6.2",
      "model_name": "ColModel",
      "state": {
       "_events": [],
       "_jupyter_vue": "IPY_MODEL_992e22c5a5104efdb11fafa4575ee530",
       "attributes": {},
       "children": [
        "IPY_MODEL_b07b47780a5d4991911bd81f647c4c86"
       ],
       "cols": null,
       "layout": "IPY_MODEL_f51554893fef4b0093ca82febc0e4448",
       "lg": null,
       "md": null,
       "offset": null,
       "offset_lg": null,
       "offset_md": null,
       "offset_sm": null,
       "offset_xl": null,
       "order": null,
       "order_lg": null,
       "order_md": null,
       "order_sm": null,
       "order_xl": null,
       "sm": null,
       "v_slots": [],
       "xl": null
      }
     },
     "9b04e30a6ac144e7b9e5a103f57ee5b5": {
      "model_module": "jupyter-vuetify",
      "model_module_version": "^1.6.2",
      "model_name": "BtnModel",
      "state": {
       "_events": [
        "click"
       ],
       "_jupyter_vue": "IPY_MODEL_992e22c5a5104efdb11fafa4575ee530",
       "attributes": {},
       "children": [
        "close"
       ],
       "color": "error",
       "elevation": null,
       "height": null,
       "href": null,
       "layout": "IPY_MODEL_5f855adb3cad4c2e900fe3c8d7b4e448",
       "max_height": null,
       "max_width": null,
       "min_height": null,
       "min_width": null,
       "ripple": null,
       "to": null,
       "v_slots": [],
       "width": null
      }
     },
     "9b8d0a7ed4c14420a8ebb4d9a98c5bea": {
      "model_module": "@jupyter-widgets/base",
      "model_module_version": "1.2.0",
      "model_name": "LayoutModel",
      "state": {}
     },
     "9bf6d3300f824df69f72d23929d54765": {
      "model_module": "@jupyter-widgets/base",
      "model_module_version": "1.2.0",
      "model_name": "LayoutModel",
      "state": {}
     },
     "9cab7a1541dd4bc19f2074edef448e6c": {
      "model_module": "jupyter-vuetify",
      "model_module_version": "^1.6.2",
      "model_name": "TabItemModel",
      "state": {
       "_events": [],
       "_jupyter_vue": "IPY_MODEL_992e22c5a5104efdb11fafa4575ee530",
       "attributes": {},
       "children": [
        "IPY_MODEL_24126fe9faa743bf9d9342e9c2b87fa5"
       ],
       "layout": "IPY_MODEL_a7ba379af29542f5ba68913f0294de7f",
       "reverse_transition": null,
       "transition": null,
       "v_slots": []
      }
     },
     "9d4fd8209b934e649847e6b3d55f68ea": {
      "model_module": "jupyter-vuetify",
      "model_module_version": "^1.6.2",
      "model_name": "FormModel",
      "state": {
       "_events": [],
       "_jupyter_vue": "IPY_MODEL_992e22c5a5104efdb11fafa4575ee530",
       "attributes": {},
       "children": [
        "IPY_MODEL_d76c352663684e7f9d8f91be83fbbefc",
        "IPY_MODEL_434feb3bca7e40fe9be47c3d4d3f9048",
        "IPY_MODEL_c3bd5f8951134f80b0650aedc2bf74a8"
       ],
       "layout": "IPY_MODEL_fa3c01207557434ebfbd223e888b3b58",
       "v_model": "valid",
       "v_slots": []
      }
     },
     "9d68c3f7ea1b4d50a34708328abe9a89": {
      "model_module": "jupyter-vuetify",
      "model_module_version": "^1.6.2",
      "model_name": "TabModel",
      "state": {
       "_events": [],
       "_jupyter_vue": "IPY_MODEL_992e22c5a5104efdb11fafa4575ee530",
       "attributes": {},
       "children": [
        "Reference results"
       ],
       "disabled": false,
       "href": null,
       "layout": "IPY_MODEL_d20b43b849824c289daafc18823fe445",
       "ripple": null,
       "to": null,
       "v_slots": []
      }
     },
     "9d7b5663e4a64ab9a95a7306d699129e": {
      "model_module": "jupyter-vuetify",
      "model_module_version": "^1.6.2",
      "model_name": "TextFieldModel",
      "state": {
       "_events": [],
       "_jupyter_vue": "IPY_MODEL_992e22c5a5104efdb11fafa4575ee530",
       "attributes": {},
       "children": [],
       "counter": null,
       "error_count": null,
       "error_messages": null,
       "height": null,
       "hide_details": null,
       "label": "xmax",
       "layout": "IPY_MODEL_0d2a253edba546b59309e652c74a17e2",
       "loader_height": null,
       "loading": null,
       "messages": null,
       "success_messages": null,
       "v_model": 1,
       "v_slots": []
      }
     },
     "9d7eb426e6bc475fa638ccff73af4824": {
      "model_module": "jupyter-vuetify",
      "model_module_version": "^1.6.2",
      "model_name": "CardModel",
      "state": {
       "_events": [],
       "_jupyter_vue": "IPY_MODEL_992e22c5a5104efdb11fafa4575ee530",
       "attributes": {},
       "children": [
        "IPY_MODEL_8e84ac23b2e04916acd117fb3e27376d",
        "IPY_MODEL_fda8ae586be149c299870443ae4e2b9f",
        "IPY_MODEL_38d638311cdc4b1ca59f946bb6f6a029"
       ],
       "elevation": null,
       "height": null,
       "href": null,
       "layout": "IPY_MODEL_dcd43b7386ab4b0e9ffbcf90e747a841",
       "loader_height": null,
       "loading": null,
       "max_height": null,
       "max_width": null,
       "min_height": null,
       "min_width": null,
       "ripple": null,
       "to": null,
       "v_slots": [],
       "width": null
      }
     },
     "9dd470784b2747ff9597e0ea6fe0f957": {
      "model_module": "jupyter-vuetify",
      "model_module_version": "^1.6.2",
      "model_name": "CardModel",
      "state": {
       "_events": [],
       "_jupyter_vue": "IPY_MODEL_992e22c5a5104efdb11fafa4575ee530",
       "attributes": {},
       "children": [
        "IPY_MODEL_769ecc13c00d4b7e9f74d1d54e68d1c9",
        "IPY_MODEL_8b05539e15cc4cff9b9bc7806ab495d2"
       ],
       "class_": "ma-2",
       "elevation": null,
       "height": null,
       "href": null,
       "layout": "IPY_MODEL_689718293cd44a2582a644dd9df05af6",
       "loader_height": null,
       "loading": null,
       "max_height": null,
       "max_width": null,
       "min_height": null,
       "min_width": null,
       "ripple": null,
       "to": null,
       "v_slots": [],
       "width": null
      }
     },
     "9df1782e898d4e4f8214d611eca74fcc": {
      "model_module": "@jupyter-widgets/base",
      "model_module_version": "1.2.0",
      "model_name": "LayoutModel",
      "state": {}
     },
     "9e4db26adea7498cb4b61cd593bb7393": {
      "model_module": "jupyter-vuetify",
      "model_module_version": "^1.6.2",
      "model_name": "CardTextModel",
      "state": {
       "_events": [],
       "_jupyter_vue": "IPY_MODEL_992e22c5a5104efdb11fafa4575ee530",
       "attributes": {},
       "children": [
        "IPY_MODEL_d48cb7436afd49ce94adf4b546241530"
       ],
       "layout": "IPY_MODEL_e4d1e17716754a09a566bd761a778d50",
       "v_slots": []
      }
     },
     "9ef2a48e9f084f318e77931a9e2d3add": {
      "model_module": "jupyter-vuetify",
      "model_module_version": "^1.6.2",
      "model_name": "RowModel",
      "state": {
       "_events": [],
       "_jupyter_vue": "IPY_MODEL_992e22c5a5104efdb11fafa4575ee530",
       "align": "center",
       "attributes": {},
       "children": [
        "IPY_MODEL_bd7fef1d17b0408a880f1de50f531371"
       ],
       "justify": "center",
       "layout": "IPY_MODEL_c459ec0212fd4008ab2720a4d1e33099",
       "v_slots": []
      }
     },
     "9f20b84b86ef4d85ae33f3df0aab6024": {
      "model_module": "@jupyter-widgets/base",
      "model_module_version": "1.2.0",
      "model_name": "LayoutModel",
      "state": {}
     },
     "9f95a3e958be47b7a077f9f0a6215e2b": {
      "model_module": "@jupyter-widgets/base",
      "model_module_version": "1.2.0",
      "model_name": "LayoutModel",
      "state": {}
     },
     "9f95ec10823e40b99014bdae3c68dd76": {
      "model_module": "@jupyter-widgets/base",
      "model_module_version": "1.2.0",
      "model_name": "LayoutModel",
      "state": {}
     },
     "a08d5bb165bb47de87b95905ca20df26": {
      "model_module": "jupyter-vuetify",
      "model_module_version": "^1.6.2",
      "model_name": "ExpansionPanelModel",
      "state": {
       "_events": [],
       "_jupyter_vue": "IPY_MODEL_992e22c5a5104efdb11fafa4575ee530",
       "attributes": {},
       "children": [
        "IPY_MODEL_820d455e94d148a6865d0a4f13581614",
        "IPY_MODEL_278adaff30fa450f91d1aeda28f8180f"
       ],
       "layout": "IPY_MODEL_918533e3287943f4970579cfe30c427d",
       "v_slots": []
      }
     },
     "a09346bb7ad54db384e9b1c2f4a4e871": {
      "model_module": "jupyter-vuetify",
      "model_module_version": "^1.6.2",
      "model_name": "SelectModel",
      "state": {
       "_events": [],
       "_jupyter_vue": "IPY_MODEL_992e22c5a5104efdb11fafa4575ee530",
       "attributes": {},
       "children": [],
       "counter": null,
       "error_count": null,
       "error_messages": null,
       "height": null,
       "hide_details": null,
       "item_disabled": null,
       "item_text": null,
       "item_value": null,
       "items": [
        "mass",
        "momentum",
        "energy",
        "velocity",
        "pressure",
        "internal energy",
        "mach number"
       ],
       "layout": "IPY_MODEL_4f0d282da847495fbedf444344af5226",
       "loader_height": null,
       "loading": null,
       "menu_props": null,
       "messages": null,
       "success_messages": null,
       "v_model": "mass",
       "v_slots": []
      }
     },
     "a0ae58cbaba44c8bb32e70e5a948ee89": {
      "model_module": "jupyter-vuetify",
      "model_module_version": "^1.6.2",
      "model_name": "ColModel",
      "state": {
       "_events": [],
       "_jupyter_vue": "IPY_MODEL_992e22c5a5104efdb11fafa4575ee530",
       "attributes": {},
       "children": [
        "IPY_MODEL_2e1938ad36424f19b3266a6ce52eb8ee"
       ],
       "cols": null,
       "layout": "IPY_MODEL_934ac7772bcd4a289bd214bcebc75e0f",
       "lg": null,
       "md": null,
       "offset": null,
       "offset_lg": null,
       "offset_md": null,
       "offset_sm": null,
       "offset_xl": null,
       "order": null,
       "order_lg": null,
       "order_md": null,
       "order_sm": null,
       "order_xl": null,
       "sm": null,
       "v_slots": [],
       "xl": null
      }
     },
     "a0b39f7345194b9cae02b835552e5e0d": {
      "model_module": "jupyter-vuetify",
      "model_module_version": "^1.6.2",
      "model_name": "SpacerModel",
      "state": {
       "_events": [],
       "_jupyter_vue": "IPY_MODEL_992e22c5a5104efdb11fafa4575ee530",
       "attributes": {},
       "children": [],
       "layout": "IPY_MODEL_51843fa1858740e5898c54d5e90570ca",
       "v_slots": []
      }
     },
     "a0b4cbd6c4f64328a1b00204617845b9": {
      "model_module": "@jupyter-widgets/base",
      "model_module_version": "1.2.0",
      "model_name": "LayoutModel",
      "state": {}
     },
     "a1a663e54a644d689901f210b426cf1c": {
      "model_module": "jupyter-vuetify",
      "model_module_version": "^1.6.2",
      "model_name": "ExpansionPanelContentModel",
      "state": {
       "_events": [],
       "_jupyter_vue": "IPY_MODEL_992e22c5a5104efdb11fafa4575ee530",
       "attributes": {},
       "children": [
        "IPY_MODEL_61e7faab55c248f9a1f01cabc4d806e7"
       ],
       "layout": "IPY_MODEL_b9361e48b1e342909b3fb6c55fe24f36",
       "v_slots": []
      }
     },
     "a260a7fb945049579f16f3fc29b83951": {
      "model_module": "@jupyter-widgets/base",
      "model_module_version": "1.2.0",
      "model_name": "LayoutModel",
      "state": {}
     },
     "a28c083b8c324f0f921a86c5e3d2db28": {
      "model_module": "@jupyter-widgets/base",
      "model_module_version": "1.2.0",
      "model_name": "LayoutModel",
      "state": {}
     },
     "a406396cb8b34dbb9066d0cd51029e70": {
      "model_module": "@jupyter-widgets/base",
      "model_module_version": "1.2.0",
      "model_name": "LayoutModel",
      "state": {}
     },
     "a433317924f74c2d86e3830660bffd82": {
      "model_module": "jupyter-vuetify",
      "model_module_version": "^1.6.2",
      "model_name": "BtnModel",
      "state": {
       "_events": [
        "click"
       ],
       "_jupyter_vue": "IPY_MODEL_992e22c5a5104efdb11fafa4575ee530",
       "attributes": {},
       "children": [
        "IPY_MODEL_8b4c689dbff34fbc9824ea1465490b35",
        "IPY_MODEL_214e56045d00444098f6f945a576cafb"
       ],
       "color": "primary",
       "dark": true,
       "elevation": null,
       "fab": true,
       "height": null,
       "href": null,
       "layout": "IPY_MODEL_c0b3b4f0cba04e4eabf103c89d4fd72e",
       "max_height": null,
       "max_width": null,
       "min_height": null,
       "min_width": null,
       "ripple": null,
       "small": true,
       "to": null,
       "v_slots": [],
       "width": null
      }
     },
     "a4edb8ebebfc479cb4ad30f61390f5de": {
      "model_module": "jupyter-vuetify",
      "model_module_version": "^1.6.2",
      "model_name": "ProgressLinearModel",
      "state": {
       "_events": [],
       "_jupyter_vue": "IPY_MODEL_992e22c5a5104efdb11fafa4575ee530",
       "attributes": {},
       "background_opacity": null,
       "buffer_value": null,
       "children": [],
       "color": "light-blue",
       "height": 20,
       "layout": "IPY_MODEL_5c4aa66012454674bc7cb037d032581e",
       "striped": true,
       "v_slots": [],
       "value": 0
      }
     },
     "a594785156e643288553a6b0671543e1": {
      "model_module": "@jupyter-widgets/base",
      "model_module_version": "1.2.0",
      "model_name": "LayoutModel",
      "state": {}
     },
     "a5cce850d9844a6b977e16d7244d2cef": {
      "model_module": "jupyter-vuetify",
      "model_module_version": "^1.6.2",
      "model_name": "TextFieldModel",
      "state": {
       "_events": [],
       "_jupyter_vue": "IPY_MODEL_992e22c5a5104efdb11fafa4575ee530",
       "attributes": {},
       "children": [],
       "counter": null,
       "error_count": null,
       "error_messages": null,
       "height": null,
       "hide_details": null,
       "label": "lambda",
       "layout": "IPY_MODEL_e970e8989cf44d40bf175b9ea147a74e",
       "loader_height": null,
       "loading": null,
       "messages": null,
       "success_messages": null,
       "v_model": 5,
       "v_slots": []
      }
     },
     "a6042c04d31042d19d7ab61d4e8da374": {
      "model_module": "@jupyter-widgets/base",
      "model_module_version": "1.2.0",
      "model_name": "LayoutModel",
      "state": {}
     },
     "a62921e477af419985c0c8183ab0f5e0": {
      "model_module": "@jupyter-widgets/base",
      "model_module_version": "1.2.0",
      "model_name": "LayoutModel",
      "state": {}
     },
     "a6daa08a55d3413189bc2585a8eec5c4": {
      "model_module": "@jupyter-widgets/base",
      "model_module_version": "1.2.0",
      "model_name": "LayoutModel",
      "state": {}
     },
     "a6f2950d03744181945d6c0af98e88b3": {
      "model_module": "jupyter-matplotlib",
      "model_module_version": "^0.8.3",
      "model_name": "ToolbarModel",
      "state": {
       "layout": "IPY_MODEL_8b3de275d72b4075856f44be2be90da2",
       "toolitems": [
        [
         "Home",
         "Reset original view",
         "home",
         "home"
        ],
        [
         "Back",
         "Back to previous view",
         "arrow-left",
         "back"
        ],
        [
         "Forward",
         "Forward to next view",
         "arrow-right",
         "forward"
        ],
        [
         "Pan",
         "Left button pans, Right button zooms\nx/y fixes axis, CTRL fixes aspect",
         "arrows",
         "pan"
        ],
        [
         "Zoom",
         "Zoom to rectangle\nx/y fixes axis, CTRL fixes aspect",
         "square-o",
         "zoom"
        ],
        [
         "Download",
         "Download plot",
         "floppy-o",
         "save_figure"
        ]
       ]
      }
     },
     "a6f6cab2bdfc49c5839368163c95a119": {
      "model_module": "@jupyter-widgets/base",
      "model_module_version": "1.2.0",
      "model_name": "LayoutModel",
      "state": {}
     },
     "a7058ed3d0614999ac841d3bed381df2": {
      "model_module": "jupyter-vuetify",
      "model_module_version": "^1.6.2",
      "model_name": "SpacerModel",
      "state": {
       "_events": [],
       "_jupyter_vue": "IPY_MODEL_992e22c5a5104efdb11fafa4575ee530",
       "attributes": {},
       "children": [],
       "layout": "IPY_MODEL_345507fc9549420cb66063ed6cfafab8",
       "v_slots": []
      }
     },
     "a73cfe5c157f468b851ec06388234b21": {
      "model_module": "jupyter-vuetify",
      "model_module_version": "^1.6.2",
      "model_name": "ListItemContentModel",
      "state": {
       "_events": [],
       "_jupyter_vue": "IPY_MODEL_992e22c5a5104efdb11fafa4575ee530",
       "attributes": {},
       "children": [
        "IPY_MODEL_18ee1985a15e4493919250fab0791dfd"
       ],
       "layout": "IPY_MODEL_bcda36f943d246138449fd744ef59bd3",
       "v_slots": []
      }
     },
     "a7ba379af29542f5ba68913f0294de7f": {
      "model_module": "@jupyter-widgets/base",
      "model_module_version": "1.2.0",
      "model_name": "LayoutModel",
      "state": {}
     },
     "a89d178a46604e57b36066fe17be1ba7": {
      "model_module": "@jupyter-widgets/base",
      "model_module_version": "1.2.0",
      "model_name": "LayoutModel",
      "state": {}
     },
     "a9225217f1da47fa826dda67022c5234": {
      "model_module": "@jupyter-widgets/base",
      "model_module_version": "1.2.0",
      "model_name": "LayoutModel",
      "state": {}
     },
     "a9abb87825a940539718c47e1882304e": {
      "model_module": "jupyter-vuetify",
      "model_module_version": "^1.6.2",
      "model_name": "IconModel",
      "state": {
       "_events": [],
       "_jupyter_vue": "IPY_MODEL_992e22c5a5104efdb11fafa4575ee530",
       "attributes": {},
       "children": [
        "mdi-plus"
       ],
       "layout": "IPY_MODEL_37610a13a1f4440ebe3c656ce9671d87",
       "size": null,
       "v_slots": []
      }
     },
     "a9eacda9c7ac4f63882ee45f42fc525f": {
      "model_module": "jupyter-vuetify",
      "model_module_version": "^1.6.2",
      "model_name": "BtnModel",
      "state": {
       "_events": [
        "click"
       ],
       "_jupyter_vue": "IPY_MODEL_992e22c5a5104efdb11fafa4575ee530",
       "attributes": {},
       "children": [
        "update"
       ],
       "color": "success",
       "elevation": null,
       "height": null,
       "href": null,
       "layout": "IPY_MODEL_216acc22a7314e03809bd5e1253978b4",
       "max_height": null,
       "max_width": null,
       "min_height": null,
       "min_width": null,
       "ripple": null,
       "to": null,
       "v_slots": [],
       "width": null
      }
     },
     "aade27b2b9894b7ea2278c845d00ab7b": {
      "model_module": "jupyter-vuetify",
      "model_module_version": "^1.6.2",
      "model_name": "SpacerModel",
      "state": {
       "_events": [],
       "_jupyter_vue": "IPY_MODEL_992e22c5a5104efdb11fafa4575ee530",
       "attributes": {},
       "children": [],
       "layout": "IPY_MODEL_b453105e4a534df284c195e44c4c5e17",
       "v_slots": []
      }
     },
     "ac9388ecd5344ab3894616f5631fed25": {
      "model_module": "@jupyter-widgets/base",
      "model_module_version": "1.2.0",
      "model_name": "LayoutModel",
      "state": {}
     },
     "acdb9d457f8b4586824e28c665f9274c": {
      "model_module": "@jupyter-widgets/base",
      "model_module_version": "1.2.0",
      "model_name": "LayoutModel",
      "state": {}
     },
     "aeb5b091e1644deab10a2166015d3d63": {
      "model_module": "@jupyter-widgets/base",
      "model_module_version": "1.2.0",
      "model_name": "LayoutModel",
      "state": {}
     },
     "af77e3ae2d11460e8cb8ad7dc5ed64c0": {
      "model_module": "jupyter-vuetify",
      "model_module_version": "^1.6.2",
      "model_name": "ListItemModel",
      "state": {
       "_events": [],
       "_jupyter_vue": "IPY_MODEL_992e22c5a5104efdb11fafa4575ee530",
       "attributes": {},
       "children": [
        "IPY_MODEL_bf0561f128514d5991bb061c5fa2f863"
       ],
       "href": null,
       "layout": "IPY_MODEL_1ec2b839323d47519464fec68e4a3b64",
       "ripple": null,
       "to": null,
       "v_slots": []
      }
     },
     "af966651692f4327abd201cb818f4725": {
      "model_module": "@jupyter-widgets/base",
      "model_module_version": "1.2.0",
      "model_name": "LayoutModel",
      "state": {}
     },
     "b07b47780a5d4991911bd81f647c4c86": {
      "model_module": "jupyter-vuetify",
      "model_module_version": "^1.6.2",
      "model_name": "AlertModel",
      "state": {
       "_events": [],
       "_jupyter_vue": "IPY_MODEL_992e22c5a5104efdb11fafa4575ee530",
       "attributes": {},
       "children": [
        "Check the stability for this state..."
       ],
       "dense": true,
       "elevation": null,
       "height": null,
       "icon": null,
       "layout": "IPY_MODEL_573d41536c344f71a45f554c5ee632e8",
       "max_height": null,
       "max_width": null,
       "min_height": null,
       "min_width": null,
       "type": "info",
       "v_slots": [],
       "width": null
      }
     },
     "b09e5915125042adb85371bf09ee5285": {
      "model_module": "jupyter-vuetify",
      "model_module_version": "^1.6.2",
      "model_name": "TabsModel",
      "state": {
       "_events": [],
       "_jupyter_vue": "IPY_MODEL_992e22c5a5104efdb11fafa4575ee530",
       "attributes": {},
       "children": [
        "IPY_MODEL_cbcb97446ca74b48aa7aac2097972007",
        "IPY_MODEL_7c9ccac90ea84b44bf151d5e6c8fb556",
        "IPY_MODEL_7605c4693d0546779193f9942f7eaed2",
        "IPY_MODEL_715fb501df9f474280a7e6fd2959a7dd",
        "IPY_MODEL_c3a66d0968ec4a07b30a490ef97f81c5",
        "IPY_MODEL_9cab7a1541dd4bc19f2074edef448e6c"
       ],
       "height": null,
       "layout": "IPY_MODEL_3d646b4b91304d2b9f22bae3739760d4",
       "mobile_break_point": null,
       "slider_size": null,
       "v_model": 0,
       "v_slots": []
      }
     },
     "b128e5a8ecc24671a99a0deff960aa95": {
      "model_module": "@jupyter-widgets/base",
      "model_module_version": "1.2.0",
      "model_name": "LayoutModel",
      "state": {}
     },
     "b316a88b39bc47acb989276209b72e62": {
      "model_module": "@jupyter-widgets/base",
      "model_module_version": "1.2.0",
      "model_name": "LayoutModel",
      "state": {}
     },
     "b32ad494c4fd4af6b4eee78e49b69a1e": {
      "model_module": "@jupyter-widgets/base",
      "model_module_version": "1.2.0",
      "model_name": "LayoutModel",
      "state": {}
     },
     "b37c7252a0c44fc1a4557f3d6aed4a19": {
      "model_module": "jupyter-vuetify",
      "model_module_version": "^1.6.2",
      "model_name": "RowModel",
      "state": {
       "_events": [],
       "_jupyter_vue": "IPY_MODEL_992e22c5a5104efdb11fafa4575ee530",
       "attributes": {},
       "children": [
        "IPY_MODEL_6d6adc5f5ed240ffa578ba02a36fd2c9",
        "IPY_MODEL_f2e7feb7d4fc41d586c5ba2ea5f46951"
       ],
       "layout": "IPY_MODEL_8416d5d014df4eaf8dc4ee810c9f8eda",
       "v_slots": []
      }
     },
     "b3e5a4cc047f4ceeb10f890068d8135d": {
      "model_module": "jupyter-vuetify",
      "model_module_version": "^1.6.2",
      "model_name": "ContainerModel",
      "state": {
       "_events": [],
       "_jupyter_vue": "IPY_MODEL_992e22c5a5104efdb11fafa4575ee530",
       "attributes": {},
       "children": [
        "IPY_MODEL_1f02a52a30ec4558a580c577982b0bba",
        "IPY_MODEL_c425a3e483394b69898b5d682344ce2a"
       ],
       "class_": "d-none",
       "layout": "IPY_MODEL_b6fef2d5f89a4611b54c6af7d9a1038d",
       "v_slots": []
      }
     },
     "b453105e4a534df284c195e44c4c5e17": {
      "model_module": "@jupyter-widgets/base",
      "model_module_version": "1.2.0",
      "model_name": "LayoutModel",
      "state": {}
     },
     "b471584d100a4ce09552ede5a5f6396b": {
      "model_module": "jupyter-vuetify",
      "model_module_version": "^1.6.2",
      "model_name": "SelectModel",
      "state": {
       "_events": [],
       "_jupyter_vue": "IPY_MODEL_992e22c5a5104efdb11fafa4575ee530",
       "attributes": {},
       "children": [],
       "counter": null,
       "error_count": null,
       "error_messages": null,
       "height": null,
       "hide_details": null,
       "item_disabled": null,
       "item_text": null,
       "item_value": null,
       "items": [
        "all",
        "mass",
        "momentum",
        "energy",
        "velocity",
        "pressure",
        "internal energy",
        "mach number"
       ],
       "label": "Fields",
       "layout": "IPY_MODEL_d8f530b66f2d4e9d9b6a0c336b223903",
       "loader_height": null,
       "loading": null,
       "menu_props": null,
       "messages": null,
       "multiple": true,
       "success_messages": null,
       "v_model": [],
       "v_slots": []
      }
     },
     "b4ea69e34e924efdaf3e0a2095e8e7e3": {
      "model_module": "jupyter-vuetify",
      "model_module_version": "^1.6.2",
      "model_name": "RowModel",
      "state": {
       "_events": [],
       "_jupyter_vue": "IPY_MODEL_992e22c5a5104efdb11fafa4575ee530",
       "attributes": {},
       "children": [
        "IPY_MODEL_e63586a9906f410590053c1281d4a3ba",
        "IPY_MODEL_a0ae58cbaba44c8bb32e70e5a948ee89"
       ],
       "layout": "IPY_MODEL_113a6e4f335a4a9cba7b6344852161a7",
       "v_slots": []
      }
     },
     "b580645bae4d4d26b8af5bee6341220a": {
      "model_module": "jupyter-vuetify",
      "model_module_version": "^1.6.2",
      "model_name": "ListItemActionModel",
      "state": {
       "_events": [],
       "_jupyter_vue": "IPY_MODEL_992e22c5a5104efdb11fafa4575ee530",
       "attributes": {},
       "children": [
        "IPY_MODEL_5b19dd2f854d4a51aaf7a0c402673789"
       ],
       "layout": "IPY_MODEL_5fd88713d8b444e4aea6370b635471b2",
       "v_slots": []
      }
     },
     "b5e5b24208604822b12389860b64822a": {
      "model_module": "@jupyter-widgets/base",
      "model_module_version": "1.2.0",
      "model_name": "LayoutModel",
      "state": {}
     },
     "b6efe51a279a42889e955cc1cde44733": {
      "model_module": "jupyter-vuetify",
      "model_module_version": "^1.6.2",
      "model_name": "ListItemActionModel",
      "state": {
       "_events": [],
       "_jupyter_vue": "IPY_MODEL_992e22c5a5104efdb11fafa4575ee530",
       "attributes": {},
       "children": [
        "IPY_MODEL_f61f26143f394d4b9a07831984f51e32"
       ],
       "layout": "IPY_MODEL_5f8b650345634ca59b67b0dea256d8e4",
       "v_slots": []
      }
     },
     "b6f2aef3cfbc48009b5188b51329688f": {
      "model_module": "jupyter-vuetify",
      "model_module_version": "^1.6.2",
      "model_name": "TextFieldModel",
      "state": {
       "_events": [],
       "_jupyter_vue": "IPY_MODEL_992e22c5a5104efdb11fafa4575ee530",
       "attributes": {},
       "children": [],
       "counter": null,
       "error_count": null,
       "error_messages": null,
       "height": null,
       "hide_details": null,
       "label": "Number of steps",
       "layout": "IPY_MODEL_9f95ec10823e40b99014bdae3c68dd76",
       "loader_height": null,
       "loading": null,
       "messages": null,
       "success_messages": null,
       "v_model": 251,
       "v_slots": []
      }
     },
     "b6fbe56a56e24a538c174c8ed87ec2ca": {
      "model_module": "@jupyter-widgets/base",
      "model_module_version": "1.2.0",
      "model_name": "LayoutModel",
      "state": {}
     },
     "b6fef2d5f89a4611b54c6af7d9a1038d": {
      "model_module": "@jupyter-widgets/base",
      "model_module_version": "1.2.0",
      "model_name": "LayoutModel",
      "state": {}
     },
     "b7892e5a79eb467f8c1f42c44e615de5": {
      "model_module": "jupyter-vuetify",
      "model_module_version": "^1.6.2",
      "model_name": "DialogModel",
      "state": {
       "_events": [],
       "_jupyter_vue": "IPY_MODEL_992e22c5a5104efdb11fafa4575ee530",
       "attributes": {},
       "children": [
        "IPY_MODEL_ded275a295964082a73e311c14eaaeb9"
       ],
       "close_delay": null,
       "layout": "IPY_MODEL_8b2f8e4379314c008aebb31a53335acc",
       "max_width": null,
       "open_delay": null,
       "overlay_opacity": null,
       "transition": null,
       "v_model": false,
       "v_slots": [],
       "width": "500"
      }
     },
     "b82c128d5c5145fa963c60df36d13d36": {
      "model_module": "jupyter-vuetify",
      "model_module_version": "^1.6.2",
      "model_name": "TextFieldModel",
      "state": {
       "_events": [],
       "_jupyter_vue": "IPY_MODEL_992e22c5a5104efdb11fafa4575ee530",
       "attributes": {},
       "children": [],
       "counter": null,
       "error_count": null,
       "error_messages": null,
       "height": null,
       "hide_details": null,
       "label": "u_left",
       "layout": "IPY_MODEL_8fef8170027f4c7589ebded53b1d7ed4",
       "loader_height": null,
       "loading": null,
       "messages": null,
       "success_messages": null,
       "v_model": 0,
       "v_slots": []
      }
     },
     "b9361e48b1e342909b3fb6c55fe24f36": {
      "model_module": "@jupyter-widgets/base",
      "model_module_version": "1.2.0",
      "model_name": "LayoutModel",
      "state": {}
     },
     "b9868071dfff481f826d59921ec71b69": {
      "model_module": "@jupyter-widgets/base",
      "model_module_version": "1.2.0",
      "model_name": "LayoutModel",
      "state": {}
     },
     "baa692c27bdf4a9bb325a1789a3099d7": {
      "model_module": "jupyter-vuetify",
      "model_module_version": "^1.6.2",
      "model_name": "ExpansionPanelContentModel",
      "state": {
       "_events": [],
       "_jupyter_vue": "IPY_MODEL_992e22c5a5104efdb11fafa4575ee530",
       "attributes": {},
       "children": [
        "IPY_MODEL_a5cce850d9844a6b977e16d7244d2cef",
        "IPY_MODEL_624836d0e8c24de5860bcdbc31c5ef05",
        "IPY_MODEL_64126f1ce40c4f9faab4b4a1b1c9a67c",
        "IPY_MODEL_0a26af634c924a2aabefb1039cb485f2"
       ],
       "layout": "IPY_MODEL_16b4aa1deaf041dbb0194b8ce9122f58",
       "v_slots": []
      }
     },
     "baac4917118f420e9c683b1d31f2ad59": {
      "model_module": "@jupyter-widgets/base",
      "model_module_version": "1.2.0",
      "model_name": "LayoutModel",
      "state": {}
     },
     "bbf38ccbb8a5437cb15b55b99d4a7171": {
      "model_module": "jupyter-matplotlib",
      "model_module_version": "^0.8.3",
      "model_name": "MPLCanvasModel",
      "state": {
       "_cursor": "default",
       "_figure_label": "Figure 1",
       "_height": 600,
       "_width": 1200,
       "header_visible": false,
       "layout": "IPY_MODEL_5d72868e522b4515a0e14e3d1b1692ff",
       "toolbar": "IPY_MODEL_267ff736e2094a34abdb882f8d2bd7cf",
       "toolbar_position": "left"
      }
     },
     "bc548df55096481687431bf7475d2409": {
      "model_module": "@jupyter-widgets/base",
      "model_module_version": "1.2.0",
      "model_name": "LayoutModel",
      "state": {}
     },
     "bc5f4ffb47a64f83a1c38416d7c1f31b": {
      "model_module": "@jupyter-widgets/base",
      "model_module_version": "1.2.0",
      "model_name": "LayoutModel",
      "state": {}
     },
     "bcda36f943d246138449fd744ef59bd3": {
      "model_module": "@jupyter-widgets/base",
      "model_module_version": "1.2.0",
      "model_name": "LayoutModel",
      "state": {}
     },
     "bd63b92d8f6642cc8b1f47db2e470cd1": {
      "model_module": "jupyter-vuetify",
      "model_module_version": "^1.6.2",
      "model_name": "ColModel",
      "state": {
       "_events": [],
       "_jupyter_vue": "IPY_MODEL_992e22c5a5104efdb11fafa4575ee530",
       "attributes": {},
       "children": [
        "IPY_MODEL_a09346bb7ad54db384e9b1c2f4a4e871"
       ],
       "cols": null,
       "layout": "IPY_MODEL_40910f7463c44514aa75012303b96145",
       "lg": null,
       "md": null,
       "offset": null,
       "offset_lg": null,
       "offset_md": null,
       "offset_sm": null,
       "offset_xl": null,
       "order": null,
       "order_lg": null,
       "order_md": null,
       "order_sm": null,
       "order_xl": null,
       "sm": 5,
       "v_slots": [],
       "xl": null
      }
     },
     "bd6a4b4be396423f976ba90672817127": {
      "model_module": "jupyter-vuetify",
      "model_module_version": "^1.6.2",
      "model_name": "TextFieldModel",
      "state": {
       "_events": [],
       "_jupyter_vue": "IPY_MODEL_992e22c5a5104efdb11fafa4575ee530",
       "attributes": {},
       "children": [],
       "counter": null,
       "error_count": null,
       "error_messages": null,
       "height": null,
       "hide_details": null,
       "label": "Number of points",
       "layout": "IPY_MODEL_a0b4cbd6c4f64328a1b00204617845b9",
       "loader_height": null,
       "loading": null,
       "messages": null,
       "success_messages": null,
       "v_model": 201,
       "v_slots": []
      }
     },
     "bd7fef1d17b0408a880f1de50f531371": {
      "model_module": "jupyter-vuetify",
      "model_module_version": "^1.6.2",
      "model_name": "ImgModel",
      "state": {
       "_events": [],
       "_jupyter_vue": "IPY_MODEL_992e22c5a5104efdb11fafa4575ee530",
       "aspect_ratio": null,
       "attributes": {},
       "children": [],
       "class_": "ma-5",
       "height": null,
       "layout": "IPY_MODEL_d3b08c1176d64c15b3c52920f7ce1d3b",
       "max_height": null,
       "max_width": 250,
       "min_height": null,
       "min_width": null,
       "src": "https://pylbm.readthedocs.io/en/latest/_static/img/pylbm_with_text.svg",
       "transition": null,
       "v_slots": [],
       "width": null
      }
     },
     "be120edb7c0b4a7cbae6d6a2206fae97": {
      "model_module": "@jupyter-widgets/base",
      "model_module_version": "1.2.0",
      "model_name": "LayoutModel",
      "state": {}
     },
     "be9942c4803746b18c0d1b3766f70596": {
      "model_module": "jupyter-vuetify",
      "model_module_version": "^1.6.2",
      "model_name": "CardActionsModel",
      "state": {
       "_events": [],
       "_jupyter_vue": "IPY_MODEL_992e22c5a5104efdb11fafa4575ee530",
       "attributes": {},
       "children": [
        "IPY_MODEL_c7d42c933fd947a4a1dd90d94280e2bf",
        "IPY_MODEL_fe7ed680990740478a294c5de4f1827a"
       ],
       "layout": "IPY_MODEL_e61fe208665e457fadb52af48fccdb2a",
       "v_slots": []
      }
     },
     "bf0561f128514d5991bb061c5fa2f863": {
      "model_module": "jupyter-vuetify",
      "model_module_version": "^1.6.2",
      "model_name": "ListItemContentModel",
      "state": {
       "_events": [],
       "_jupyter_vue": "IPY_MODEL_992e22c5a5104efdb11fafa4575ee530",
       "attributes": {},
       "children": [
        "IPY_MODEL_6e96a347922743338a2f64c784ffaed4"
       ],
       "layout": "IPY_MODEL_3f7a254d8e65456c92b121124bb154f4",
       "v_slots": []
      }
     },
     "bf0eada687a94bd3967222344613b137": {
      "model_module": "@jupyter-widgets/base",
      "model_module_version": "1.2.0",
      "model_name": "LayoutModel",
      "state": {}
     },
     "bf622026f4574828b6fff17d25cd8035": {
      "model_module": "@jupyter-widgets/base",
      "model_module_version": "1.2.0",
      "model_name": "LayoutModel",
      "state": {}
     },
     "bfbd435c5ec2425f8927c62cff5013e5": {
      "model_module": "jupyter-vuetify",
      "model_module_version": "^1.6.2",
      "model_name": "ListItemContentModel",
      "state": {
       "_events": [],
       "_jupyter_vue": "IPY_MODEL_992e22c5a5104efdb11fafa4575ee530",
       "attributes": {},
       "children": [
        "IPY_MODEL_128451a6c6fb4270bdae542d0d070ef5",
        "IPY_MODEL_b7892e5a79eb467f8c1f42c44e615de5"
       ],
       "layout": "IPY_MODEL_12399b7481054af481a76c23d6f5734b",
       "v_slots": []
      }
     },
     "c0214e49448d4db49a7bfb4ffc7dd074": {
      "model_module": "jupyter-vuetify",
      "model_module_version": "^1.6.2",
      "model_name": "ExpansionPanelModel",
      "state": {
       "_events": [],
       "_jupyter_vue": "IPY_MODEL_992e22c5a5104efdb11fafa4575ee530",
       "attributes": {},
       "children": [
        "IPY_MODEL_3e8619f134084bccb54ab6ed209be6fb",
        "IPY_MODEL_d10ff47bf3a044a9b6c72698067ec89b"
       ],
       "layout": "IPY_MODEL_e873cdd948c74d4e9557a19f40293126",
       "v_slots": []
      }
     },
     "c0b3b4f0cba04e4eabf103c89d4fd72e": {
      "model_module": "@jupyter-widgets/base",
      "model_module_version": "1.2.0",
      "model_name": "LayoutModel",
      "state": {}
     },
     "c0dc31788acd48279aedc83947b73495": {
      "model_module": "jupyter-vuetify",
      "model_module_version": "^1.6.2",
      "model_name": "IconModel",
      "state": {
       "_events": [],
       "_jupyter_vue": "IPY_MODEL_992e22c5a5104efdb11fafa4575ee530",
       "attributes": {},
       "children": [
        "mdi-close"
       ],
       "layout": "IPY_MODEL_c6ec9efd3c504aaa87c77d33b14658bb",
       "size": null,
       "v_slots": []
      }
     },
     "c13c70c5fc244186ad3299437a265ac8": {
      "model_module": "jupyter-vuetify",
      "model_module_version": "^1.6.2",
      "model_name": "TextFieldModel",
      "state": {
       "_events": [],
       "_jupyter_vue": "IPY_MODEL_992e22c5a5104efdb11fafa4575ee530",
       "attributes": {},
       "children": [],
       "counter": null,
       "error_count": null,
       "error_messages": null,
       "height": null,
       "hide_details": null,
       "label": "xmin",
       "layout": "IPY_MODEL_e71641a879b64aba9cefa10979d2e0c4",
       "loader_height": null,
       "loading": null,
       "messages": null,
       "success_messages": null,
       "v_model": 0,
       "v_slots": []
      }
     },
     "c1d4236772ef4cc98960b83be5df9b3b": {
      "model_module": "jupyter-vuetify",
      "model_module_version": "^1.6.2",
      "model_name": "ColModel",
      "state": {
       "_events": [],
       "_jupyter_vue": "IPY_MODEL_992e22c5a5104efdb11fafa4575ee530",
       "attributes": {},
       "children": [
        "IPY_MODEL_0f5414d737eb4eb3bf363cf702cf0a15"
       ],
       "cols": null,
       "layout": "IPY_MODEL_069cf87a9fd749c181f4ef89846850f6",
       "lg": null,
       "md": null,
       "offset": null,
       "offset_lg": null,
       "offset_md": null,
       "offset_sm": null,
       "offset_xl": null,
       "order": null,
       "order_lg": null,
       "order_md": null,
       "order_sm": null,
       "order_xl": null,
       "sm": 2,
       "v_slots": [],
       "xl": null
      }
     },
     "c20fa844b3034496a5e96d0996e8324a": {
      "model_module": "@jupyter-widgets/base",
      "model_module_version": "1.2.0",
      "model_name": "LayoutModel",
      "state": {}
     },
     "c222ee337dea43d9b5157803d0c1ed51": {
      "model_module": "jupyter-vuetify",
      "model_module_version": "^1.6.2",
      "model_name": "TextFieldModel",
      "state": {
       "_events": [],
       "_jupyter_vue": "IPY_MODEL_992e22c5a5104efdb11fafa4575ee530",
       "attributes": {},
       "children": [],
       "counter": null,
       "error_count": null,
       "error_messages": null,
       "height": null,
       "hide_details": null,
       "label": "p_left",
       "layout": "IPY_MODEL_7f28bcc56e5c4ebf902874d2e744adb6",
       "loader_height": null,
       "loading": null,
       "messages": null,
       "success_messages": null,
       "v_model": 1,
       "v_slots": []
      }
     },
     "c2a58a22a7c54d51952d9e1d5fbb0df2": {
      "model_module": "jupyter-vuetify",
      "model_module_version": "^1.6.2",
      "model_name": "ListItemModel",
      "state": {
       "_events": [],
       "_jupyter_vue": "IPY_MODEL_992e22c5a5104efdb11fafa4575ee530",
       "attributes": {},
       "children": [
        "IPY_MODEL_6dfffa0b2fb541d8ae585510bc699730"
       ],
       "href": null,
       "layout": "IPY_MODEL_26550adca81d4f8a9c4ee7c33da3765e",
       "ripple": null,
       "to": null,
       "v_slots": []
      }
     },
     "c2ae169bb51e4063a4f5f5b132faca38": {
      "model_module": "jupyter-vuetify",
      "model_module_version": "^1.6.2",
      "model_name": "BtnModel",
      "state": {
       "_events": [
        "click"
       ],
       "_jupyter_vue": "IPY_MODEL_992e22c5a5104efdb11fafa4575ee530",
       "attributes": {},
       "children": [
        "add"
       ],
       "color": "success",
       "elevation": null,
       "height": null,
       "href": null,
       "layout": "IPY_MODEL_964ade126b164ac0ab2db958a1b6af57",
       "max_height": null,
       "max_width": null,
       "min_height": null,
       "min_width": null,
       "ripple": null,
       "to": null,
       "v_slots": [],
       "width": null
      }
     },
     "c2ef2e9b5cae4da8bd72f1614037ef7e": {
      "model_module": "jupyter-vuetify",
      "model_module_version": "^1.6.2",
      "model_name": "ListItemModel",
      "state": {
       "_events": [],
       "_jupyter_vue": "IPY_MODEL_992e22c5a5104efdb11fafa4575ee530",
       "attributes": {},
       "children": [
        "IPY_MODEL_7d2ac1e4a17d4dc985ce877872580130"
       ],
       "href": null,
       "layout": "IPY_MODEL_b316a88b39bc47acb989276209b72e62",
       "ripple": null,
       "to": null,
       "v_slots": []
      }
     },
     "c3a66d0968ec4a07b30a490ef97f81c5": {
      "model_module": "jupyter-vuetify",
      "model_module_version": "^1.6.2",
      "model_name": "TabItemModel",
      "state": {
       "_events": [],
       "_jupyter_vue": "IPY_MODEL_992e22c5a5104efdb11fafa4575ee530",
       "attributes": {},
       "children": [
        "IPY_MODEL_694f414bb8214911a5dbe2096752aae5"
       ],
       "layout": "IPY_MODEL_2441454448dd4b1b8dda60804ed06e9b",
       "reverse_transition": null,
       "transition": null,
       "v_slots": []
      }
     },
     "c3bd5f8951134f80b0650aedc2bf74a8": {
      "model_module": "jupyter-vuetify",
      "model_module_version": "^1.6.2",
      "model_name": "TextFieldModel",
      "state": {
       "_events": [],
       "_jupyter_vue": "IPY_MODEL_992e22c5a5104efdb11fafa4575ee530",
       "attributes": {},
       "children": [],
       "counter": null,
       "error_count": null,
       "error_messages": null,
       "height": null,
       "hide_details": null,
       "label": "E",
       "layout": "IPY_MODEL_02e76a5d74ab4ac8899338d762ba88f1",
       "loader_height": null,
       "loading": null,
       "messages": null,
       "success_messages": null,
       "v_model": 2.5000000000000004,
       "v_slots": []
      }
     },
     "c425a3e483394b69898b5d682344ce2a": {
      "model_module": "jupyter-vuetify",
      "model_module_version": "^1.6.2",
      "model_name": "RowModel",
      "state": {
       "_events": [],
       "_jupyter_vue": "IPY_MODEL_992e22c5a5104efdb11fafa4575ee530",
       "align": "center",
       "attributes": {},
       "children": [
        "IPY_MODEL_1fd15b37a31045cebf6efe6ccc2b2358"
       ],
       "justify": "center",
       "layout": "IPY_MODEL_6f4f3dc7b48145f1bb42b37402f432a4",
       "v_slots": []
      }
     },
     "c459ec0212fd4008ab2720a4d1e33099": {
      "model_module": "@jupyter-widgets/base",
      "model_module_version": "1.2.0",
      "model_name": "LayoutModel",
      "state": {}
     },
     "c4a042f692594aeb9c50e0cccbb413ef": {
      "model_module": "@jupyter-widgets/base",
      "model_module_version": "1.2.0",
      "model_name": "LayoutModel",
      "state": {}
     },
     "c4b1b56689c646a5ad4d2fc21ab3f40a": {
      "model_module": "jupyter-vuetify",
      "model_module_version": "^1.6.2",
      "model_name": "ColModel",
      "state": {
       "_events": [],
       "_jupyter_vue": "IPY_MODEL_992e22c5a5104efdb11fafa4575ee530",
       "attributes": {},
       "children": [
        "IPY_MODEL_7b03d934fd0f47f3be39df06205c2aa2"
       ],
       "cols": null,
       "layout": "IPY_MODEL_d316c03a65a7452cbdd5f4f0eea74657",
       "lg": null,
       "md": null,
       "offset": null,
       "offset_lg": null,
       "offset_md": null,
       "offset_sm": null,
       "offset_xl": null,
       "order": null,
       "order_lg": null,
       "order_md": null,
       "order_sm": null,
       "order_xl": null,
       "sm": null,
       "v_slots": [],
       "xl": null
      }
     },
     "c5071b9d79604f66aab092867f5c2cf4": {
      "model_module": "@jupyter-widgets/base",
      "model_module_version": "1.2.0",
      "model_name": "LayoutModel",
      "state": {}
     },
     "c5373d62f442494d8679af6966f79c0a": {
      "model_module": "@jupyter-widgets/base",
      "model_module_version": "1.2.0",
      "model_name": "LayoutModel",
      "state": {}
     },
     "c5a2a645a7ad4be5b34a842be830b789": {
      "model_module": "jupyter-vuetify",
      "model_module_version": "^1.6.2",
      "model_name": "CardModel",
      "state": {
       "_events": [],
       "_jupyter_vue": "IPY_MODEL_992e22c5a5104efdb11fafa4575ee530",
       "attributes": {},
       "children": [
        "IPY_MODEL_d6dcdd32a14d4458945519485e4c0bb6",
        "IPY_MODEL_856495ce72364f4e8d92ec0f254e8a53",
        "IPY_MODEL_1dc78cf8d4ae48d28f6c0f615d4bfdc6"
       ],
       "elevation": null,
       "height": null,
       "href": null,
       "layout": "IPY_MODEL_54bc536fb5c4496eb7b118a321a87777",
       "loader_height": null,
       "loading": null,
       "max_height": null,
       "max_width": null,
       "min_height": null,
       "min_width": null,
       "ripple": null,
       "to": null,
       "v_slots": [],
       "width": null
      }
     },
     "c5d7e74759fc4adfbc6b2750671a656a": {
      "model_module": "jupyter-vuetify",
      "model_module_version": "^1.6.2",
      "model_name": "ExpansionPanelHeaderModel",
      "state": {
       "_events": [],
       "_jupyter_vue": "IPY_MODEL_992e22c5a5104efdb11fafa4575ee530",
       "attributes": {},
       "children": [
        "Sampling method"
       ],
       "layout": "IPY_MODEL_06ac1e0332aa4fb7ba7d958fc934d70b",
       "ripple": null,
       "v_slots": []
      }
     },
     "c6ec9efd3c504aaa87c77d33b14658bb": {
      "model_module": "@jupyter-widgets/base",
      "model_module_version": "1.2.0",
      "model_name": "LayoutModel",
      "state": {}
     },
     "c73cb70e1c094372af0fa6478ca4689f": {
      "model_module": "jupyter-vuetify",
      "model_module_version": "^1.6.2",
      "model_name": "CardTextModel",
      "state": {
       "_events": [],
       "_jupyter_vue": "IPY_MODEL_992e22c5a5104efdb11fafa4575ee530",
       "attributes": {},
       "children": [
        "IPY_MODEL_b6f2aef3cfbc48009b5188b51329688f",
        "IPY_MODEL_4aa83ae9d6314804aa5b1623b40e77dc"
       ],
       "layout": "IPY_MODEL_c5373d62f442494d8679af6966f79c0a",
       "v_slots": []
      }
     },
     "c7d42c933fd947a4a1dd90d94280e2bf": {
      "model_module": "jupyter-vuetify",
      "model_module_version": "^1.6.2",
      "model_name": "SpacerModel",
      "state": {
       "_events": [],
       "_jupyter_vue": "IPY_MODEL_992e22c5a5104efdb11fafa4575ee530",
       "attributes": {},
       "children": [],
       "layout": "IPY_MODEL_f73f95eaaecb4a8d90c922a508a9bb8f",
       "v_slots": []
      }
     },
     "c8217b599c274949ab03097add034e88": {
      "model_module": "jupyter-vuetify",
      "model_module_version": "^1.6.2",
      "model_name": "LayoutModel",
      "state": {
       "_events": [],
       "_jupyter_vue": "IPY_MODEL_992e22c5a5104efdb11fafa4575ee530",
       "attributes": {},
       "children": [],
       "layout": "IPY_MODEL_53763ee187bd4fd9941f3f0ae27fd3a1",
       "v_slots": []
      }
     },
     "c88d7f3904734f4796fc608cf7d17548": {
      "model_module": "@jupyter-widgets/base",
      "model_module_version": "1.2.0",
      "model_name": "LayoutModel",
      "state": {}
     },
     "c890db47a9bd4ceda70e5c0f67137616": {
      "model_module": "@jupyter-widgets/base",
      "model_module_version": "1.2.0",
      "model_name": "LayoutModel",
      "state": {}
     },
     "c8fa605af74f41edbf88d643bf4ec5c4": {
      "model_module": "@jupyter-widgets/output",
      "model_module_version": "1.0.0",
      "model_name": "OutputModel",
      "state": {
       "layout": "IPY_MODEL_129150fbaa8040b783985a5cb3a74805",
       "outputs": [
        {
         "name": "stderr",
         "output_type": "stream",
         "text": "/home/loic/Work/pylbm/pylbm_ui/schema/exact_solvers/euler_solver.py:154: RuntimeWarning: invalid value encountered in power\n  p_star**exposant2 - p_left**exposant2\n/home/loic/Work/pylbm/pylbm_ui/schema/exact_solvers/euler_solver.py:157: RuntimeWarning: invalid value encountered in power\n  exposant2 * p_star**(exposant2-1)\n/home/loic/Work/pylbm/pylbm_ui/schema/exact_solvers/euler_solver.py:184: RuntimeWarning: invalid value encountered in power\n  p_star**exposant2 - p_right**exposant2\n/home/loic/Work/pylbm/pylbm_ui/schema/exact_solvers/euler_solver.py:187: RuntimeWarning: invalid value encountered in power\n  exposant2 * p_star**(exposant2-1)\n"
        },
        {
         "name": "stdout",
         "output_type": "stream",
         "text": "dafault state {rho: 1.0, q: 0.0, E: 2.5000000000000004}\n"
        }
       ]
      }
     },
     "c9ae5cedf53743a09e5ca15876cfc897": {
      "model_module": "jupyter-vuetify",
      "model_module_version": "^1.6.2",
      "model_name": "TextFieldModel",
      "state": {
       "_events": [],
       "_jupyter_vue": "IPY_MODEL_992e22c5a5104efdb11fafa4575ee530",
       "attributes": {},
       "children": [],
       "counter": null,
       "error_count": null,
       "error_messages": null,
       "height": null,
       "hide_details": null,
       "label": "E",
       "layout": "IPY_MODEL_9b8d0a7ed4c14420a8ebb4d9a98c5bea",
       "loader_height": null,
       "loading": null,
       "messages": null,
       "success_messages": null,
       "v_model": 0.25000000000000006,
       "v_slots": []
      }
     },
     "c9d83321815440989d29fd290f98c20b": {
      "model_module": "jupyter-vuetify",
      "model_module_version": "^1.6.2",
      "model_name": "SelectModel",
      "state": {
       "_events": [],
       "_jupyter_vue": "IPY_MODEL_992e22c5a5104efdb11fafa4575ee530",
       "attributes": {},
       "children": [],
       "counter": null,
       "error_count": null,
       "error_messages": null,
       "height": null,
       "hide_details": null,
       "item_disabled": null,
       "item_text": null,
       "item_value": null,
       "items": [
        "duration",
        "gamma",
        "la",
        "p_left",
        "p_right",
        "relaxation parameters",
        "rho_left",
        "rho_right",
        "u_left",
        "u_right",
        "x_disc",
        "xmax",
        "xmin"
       ],
       "label": "Parameters",
       "layout": "IPY_MODEL_4e81ffcc52da4c04abdf0038d98054e5",
       "loader_height": null,
       "loading": null,
       "menu_props": null,
       "messages": null,
       "success_messages": null,
       "v_model": null,
       "v_slots": []
      }
     },
     "ca88226c7049455eab3932b124d2b07f": {
      "model_module": "jupyter-vuetify",
      "model_module_version": "^1.6.2",
      "model_name": "CardTitleModel",
      "state": {
       "_events": [],
       "_jupyter_vue": "IPY_MODEL_992e22c5a5104efdb11fafa4575ee530",
       "attributes": {},
       "children": [
        "Scheme velocity"
       ],
       "layout": "IPY_MODEL_ac9388ecd5344ab3894616f5631fed25",
       "v_slots": []
      }
     },
     "cacbf3d1f6cc46668637c1f02b2cc7ed": {
      "model_module": "jupyter-vuetify",
      "model_module_version": "^1.6.2",
      "model_name": "CardModel",
      "state": {
       "_events": [],
       "_jupyter_vue": "IPY_MODEL_992e22c5a5104efdb11fafa4575ee530",
       "attributes": {},
       "children": [
        "uncheck"
       ],
       "class_": "pa-2",
       "elevation": null,
       "height": null,
       "href": null,
       "layout": "IPY_MODEL_af966651692f4327abd201cb818f4725",
       "loader_height": null,
       "loading": null,
       "max_height": null,
       "max_width": null,
       "min_height": null,
       "min_width": null,
       "ripple": null,
       "to": null,
       "v_slots": [],
       "width": null
      }
     },
     "cb9fa63927f047d79c49ce07280c19e8": {
      "model_module": "jupyter-vuetify",
      "model_module_version": "^1.6.2",
      "model_name": "FormModel",
      "state": {
       "_events": [],
       "_jupyter_vue": "IPY_MODEL_992e22c5a5104efdb11fafa4575ee530",
       "attributes": {},
       "children": [
        "IPY_MODEL_4f49c519fd6f423fa8aeebfc5c19e71b",
        "IPY_MODEL_e6c237c493074b4bb1ca5f44c2afdd0c",
        "IPY_MODEL_ff85067644504f27a99825da60531c3b"
       ],
       "layout": "IPY_MODEL_f2c4ba0165ce46c19643c381de4c0542",
       "v_model": "valid",
       "v_slots": []
      }
     },
     "cbcb97446ca74b48aa7aac2097972007": {
      "model_module": "jupyter-vuetify",
      "model_module_version": "^1.6.2",
      "model_name": "TabModel",
      "state": {
       "_events": [],
       "_jupyter_vue": "IPY_MODEL_992e22c5a5104efdb11fafa4575ee530",
       "attributes": {},
       "children": [
        "Description"
       ],
       "href": null,
       "layout": "IPY_MODEL_5e49b09649cc457f86336ce9a2b87b3a",
       "ripple": null,
       "to": null,
       "v_slots": []
      }
     },
     "cbe89bcb34124a6c9c8293b3314da703": {
      "model_module": "@jupyter-widgets/base",
      "model_module_version": "1.2.0",
      "model_name": "LayoutModel",
      "state": {}
     },
     "cbf3553917d841ad8f818711e12429c5": {
      "model_module": "@jupyter-widgets/base",
      "model_module_version": "1.2.0",
      "model_name": "LayoutModel",
      "state": {}
     },
     "cc919ef1212c4441a27322abd5e8843b": {
      "model_module": "jupyter-vuetify",
      "model_module_version": "^1.6.2",
      "model_name": "ListItemActionModel",
      "state": {
       "_events": [],
       "_jupyter_vue": "IPY_MODEL_992e22c5a5104efdb11fafa4575ee530",
       "attributes": {},
       "children": [
        "IPY_MODEL_00aa1d355fc94158b65c9d518a069137"
       ],
       "layout": "IPY_MODEL_d8eb29e34c6147ec821091e601907f44",
       "v_slots": []
      }
     },
     "ccb14f81090a46a783218bd788952b77": {
      "model_module": "@jupyter-widgets/base",
      "model_module_version": "1.2.0",
      "model_name": "LayoutModel",
      "state": {}
     },
     "cd69baf69b5b4c5ca5ebd10fa3f48bf5": {
      "model_module": "jupyter-vuetify",
      "model_module_version": "^1.6.2",
      "model_name": "TabModel",
      "state": {
       "_events": [],
       "_jupyter_vue": "IPY_MODEL_992e22c5a5104efdb11fafa4575ee530",
       "attributes": {},
       "children": [
        "Scheme"
       ],
       "href": null,
       "layout": "IPY_MODEL_b128e5a8ecc24671a99a0deff960aa95",
       "ripple": null,
       "to": null,
       "v_slots": []
      }
     },
     "cd9704dedbc14844a0e82e810c41fb26": {
      "model_module": "@jupyter-widgets/base",
      "model_module_version": "1.2.0",
      "model_name": "LayoutModel",
      "state": {}
     },
     "cdb01cde619c4e84921d770c56ec10f1": {
      "model_module": "jupyter-vuetify",
      "model_module_version": "^1.6.2",
      "model_name": "TextFieldModel",
      "state": {
       "_events": [],
       "_jupyter_vue": "IPY_MODEL_992e22c5a5104efdb11fafa4575ee530",
       "attributes": {},
       "children": [],
       "counter": null,
       "error_count": null,
       "error_messages": null,
       "height": null,
       "hide_details": null,
       "label": "Period",
       "layout": "IPY_MODEL_9f20b84b86ef4d85ae33f3df0aab6024",
       "loader_height": null,
       "loading": null,
       "messages": null,
       "success_messages": null,
       "type": "number",
       "v_model": 16,
       "v_slots": []
      }
     },
     "cef7a1ded7224a078c62991287e04cd2": {
      "model_module": "@jupyter-widgets/base",
      "model_module_version": "1.2.0",
      "model_name": "LayoutModel",
      "state": {}
     },
     "cf0ae6b4ddae4c8091ec4ddfbbec7cba": {
      "model_module": "@jupyter-widgets/base",
      "model_module_version": "1.2.0",
      "model_name": "LayoutModel",
      "state": {}
     },
     "cfb97f82543741dc98fbd364e96913ba": {
      "model_module": "jupyter-vuetify",
      "model_module_version": "^1.6.2",
      "model_name": "DialogModel",
      "state": {
       "_events": [],
       "_jupyter_vue": "IPY_MODEL_992e22c5a5104efdb11fafa4575ee530",
       "attributes": {},
       "children": [
        "IPY_MODEL_9d7eb426e6bc475fa638ccff73af4824"
       ],
       "close_delay": null,
       "layout": "IPY_MODEL_081f010344df4e709aebd04aa4464ae9",
       "max_width": null,
       "open_delay": null,
       "overlay_opacity": null,
       "transition": null,
       "v_model": false,
       "v_slots": [],
       "width": "500"
      }
     },
     "d10ff47bf3a044a9b6c72698067ec89b": {
      "model_module": "jupyter-vuetify",
      "model_module_version": "^1.6.2",
      "model_name": "ExpansionPanelContentModel",
      "state": {
       "_events": [],
       "_jupyter_vue": "IPY_MODEL_992e22c5a5104efdb11fafa4575ee530",
       "attributes": {},
       "children": [
        "IPY_MODEL_f7f86d12226742339f3515411b20fbe4"
       ],
       "layout": "IPY_MODEL_7b7c38806ebb4d0a93f493c44ea48e2d",
       "v_slots": []
      }
     },
     "d20b43b849824c289daafc18823fe445": {
      "model_module": "@jupyter-widgets/base",
      "model_module_version": "1.2.0",
      "model_name": "LayoutModel",
      "state": {}
     },
     "d24d988bb58e4471a84e9766741887b7": {
      "model_module": "jupyter-vuetify",
      "model_module_version": "^1.6.2",
      "model_name": "ColModel",
      "state": {
       "_events": [],
       "_jupyter_vue": "IPY_MODEL_992e22c5a5104efdb11fafa4575ee530",
       "attributes": {},
       "children": [
        "IPY_MODEL_cdb01cde619c4e84921d770c56ec10f1"
       ],
       "cols": null,
       "layout": "IPY_MODEL_e6fda3293e3f4587809f81daa4237e5c",
       "lg": null,
       "md": null,
       "offset": null,
       "offset_lg": null,
       "offset_md": null,
       "offset_sm": null,
       "offset_xl": null,
       "order": null,
       "order_lg": null,
       "order_md": null,
       "order_sm": null,
       "order_xl": null,
       "sm": 5,
       "v_slots": [],
       "xl": null
      }
     },
     "d299c426468f4609806be8ac1c688201": {
      "model_module": "jupyter-vuetify",
      "model_module_version": "^1.6.2",
      "model_name": "CardTextModel",
      "state": {
       "_events": [],
       "_jupyter_vue": "IPY_MODEL_992e22c5a5104efdb11fafa4575ee530",
       "attributes": {},
       "children": [
        "IPY_MODEL_4e1b3efac012465bb208b95fa62d7f6d",
        "IPY_MODEL_b3e5a4cc047f4ceeb10f890068d8135d"
       ],
       "layout": "IPY_MODEL_e48cbfbdbf0d4a1f90949e3d8f22b8d9",
       "v_slots": []
      }
     },
     "d316c03a65a7452cbdd5f4f0eea74657": {
      "model_module": "@jupyter-widgets/base",
      "model_module_version": "1.2.0",
      "model_name": "LayoutModel",
      "state": {}
     },
     "d36a766c098741968c1d742b29f40e5b": {
      "model_module": "@jupyter-widgets/base",
      "model_module_version": "1.2.0",
      "model_name": "LayoutModel",
      "state": {}
     },
     "d3b08c1176d64c15b3c52920f7ce1d3b": {
      "model_module": "@jupyter-widgets/base",
      "model_module_version": "1.2.0",
      "model_name": "LayoutModel",
      "state": {}
     },
     "d469959bac6541279a1e606023f5b2d3": {
      "model_module": "@jupyter-widgets/base",
      "model_module_version": "1.2.0",
      "model_name": "LayoutModel",
      "state": {}
     },
     "d4794c9807c04783be91d891612c4441": {
      "model_module": "@jupyter-widgets/base",
      "model_module_version": "1.2.0",
      "model_name": "LayoutModel",
      "state": {}
     },
     "d48cb7436afd49ce94adf4b546241530": {
      "model_module": "jupyter-vuetify",
      "model_module_version": "^1.6.2",
      "model_name": "ListModel",
      "state": {
       "_events": [],
       "_jupyter_vue": "IPY_MODEL_992e22c5a5104efdb11fafa4575ee530",
       "attributes": {},
       "children": [],
       "elevation": null,
       "height": null,
       "layout": "IPY_MODEL_3b8f52d4c390457ead30b969eb558212",
       "max_height": null,
       "max_width": null,
       "min_height": null,
       "min_width": null,
       "v_slots": [],
       "width": null
      }
     },
     "d5073b754024463fb13ff445e2d15c63": {
      "model_module": "@jupyter-widgets/base",
      "model_module_version": "1.2.0",
      "model_name": "LayoutModel",
      "state": {}
     },
     "d670f322dfe6494fbbb49222026986d8": {
      "model_module": "@jupyter-widgets/base",
      "model_module_version": "1.2.0",
      "model_name": "LayoutModel",
      "state": {}
     },
     "d6dcdd32a14d4458945519485e4c0bb6": {
      "model_module": "jupyter-vuetify",
      "model_module_version": "^1.6.2",
      "model_name": "CardTitleModel",
      "state": {
       "_events": [],
       "_jupyter_vue": "IPY_MODEL_992e22c5a5104efdb11fafa4575ee530",
       "attributes": {},
       "children": [
        "Update linear state configuration"
       ],
       "class_": "headline gray lighten-2",
       "layout": "IPY_MODEL_d469959bac6541279a1e606023f5b2d3",
       "v_slots": []
      }
     },
     "d76c352663684e7f9d8f91be83fbbefc": {
      "model_module": "jupyter-vuetify",
      "model_module_version": "^1.6.2",
      "model_name": "TextFieldModel",
      "state": {
       "_events": [],
       "_jupyter_vue": "IPY_MODEL_992e22c5a5104efdb11fafa4575ee530",
       "attributes": {},
       "children": [],
       "counter": null,
       "error_count": null,
       "error_messages": null,
       "height": null,
       "hide_details": null,
       "label": "rho",
       "layout": "IPY_MODEL_f61c4870ce8b44829fe46d83d9f293e2",
       "loader_height": null,
       "loading": null,
       "messages": null,
       "success_messages": null,
       "v_model": 1,
       "v_slots": []
      }
     },
     "d7ee170721e546f8b4eba40be9620435": {
      "model_module": "@jupyter-widgets/base",
      "model_module_version": "1.2.0",
      "model_name": "LayoutModel",
      "state": {}
     },
     "d8aa428ec0874885910dc6b43804e8eb": {
      "model_module": "@jupyter-widgets/base",
      "model_module_version": "1.2.0",
      "model_name": "LayoutModel",
      "state": {}
     },
     "d8c0efc64bef460aa103e0d3259db681": {
      "model_module": "jupyter-vuetify",
      "model_module_version": "^1.6.2",
      "model_name": "CardTextModel",
      "state": {
       "_events": [],
       "_jupyter_vue": "IPY_MODEL_992e22c5a5104efdb11fafa4575ee530",
       "attributes": {},
       "children": [
        "IPY_MODEL_cb9fa63927f047d79c49ce07280c19e8"
       ],
       "layout": "IPY_MODEL_cf0ae6b4ddae4c8091ec4ddfbbec7cba",
       "v_slots": []
      }
     },
     "d8dd7cc3d1824c1bb26ca8eecc395316": {
      "model_module": "@jupyter-widgets/base",
      "model_module_version": "1.2.0",
      "model_name": "LayoutModel",
      "state": {}
     },
     "d8eb29e34c6147ec821091e601907f44": {
      "model_module": "@jupyter-widgets/base",
      "model_module_version": "1.2.0",
      "model_name": "LayoutModel",
      "state": {}
     },
     "d8f530b66f2d4e9d9b6a0c336b223903": {
      "model_module": "@jupyter-widgets/base",
      "model_module_version": "1.2.0",
      "model_name": "LayoutModel",
      "state": {}
     },
     "d910f647a5fa492fab7834f04bed33d5": {
      "model_module": "@jupyter-widgets/base",
      "model_module_version": "1.2.0",
      "model_name": "LayoutModel",
      "state": {}
     },
     "d9cf6fe6f40d4e54b4dd93ccfbc6b862": {
      "model_module": "@jupyter-widgets/base",
      "model_module_version": "1.2.0",
      "model_name": "LayoutModel",
      "state": {}
     },
     "da0c4c4b88404254a2346cd050f81d7a": {
      "model_module": "@jupyter-widgets/base",
      "model_module_version": "1.2.0",
      "model_name": "LayoutModel",
      "state": {}
     },
     "dacadeb89c284e24a9c3051dbed39e55": {
      "model_module": "jupyter-vuetify",
      "model_module_version": "^1.6.2",
      "model_name": "IconModel",
      "state": {
       "_events": [],
       "_jupyter_vue": "IPY_MODEL_992e22c5a5104efdb11fafa4575ee530",
       "attributes": {},
       "children": [
        "mdi-plus"
       ],
       "layout": "IPY_MODEL_cbf3553917d841ad8f818711e12429c5",
       "size": null,
       "v_slots": []
      }
     },
     "dbd08c5961c9455c930b0d85ed301a29": {
      "model_module": "jupyter-vuetify",
      "model_module_version": "^1.6.2",
      "model_name": "TabModel",
      "state": {
       "_events": [],
       "_jupyter_vue": "IPY_MODEL_992e22c5a5104efdb11fafa4575ee530",
       "attributes": {},
       "children": [
        "LBM Simulation"
       ],
       "href": null,
       "layout": "IPY_MODEL_6e7889e7adaf4155b43c7a1f909b3eaa",
       "ripple": null,
       "to": null,
       "v_slots": []
      }
     },
     "dbe3ed27bd19444280641350d2277559": {
      "model_module": "@jupyter-widgets/base",
      "model_module_version": "1.2.0",
      "model_name": "LayoutModel",
      "state": {}
     },
     "dbeecb4461e142bebba3fb1f031ba768": {
      "model_module": "@jupyter-widgets/base",
      "model_module_version": "1.2.0",
      "model_name": "LayoutModel",
      "state": {}
     },
     "dc1c02cb016d41a98c652056c34afe36": {
      "model_module": "@jupyter-widgets/base",
      "model_module_version": "1.2.0",
      "model_name": "LayoutModel",
      "state": {}
     },
     "dc62f05fe59842a0823a1a8d0063108a": {
      "model_module": "@jupyter-widgets/base",
      "model_module_version": "1.2.0",
      "model_name": "LayoutModel",
      "state": {}
     },
     "dca441cf557043d89c7dc4c3a85e54cf": {
      "model_module": "@jupyter-widgets/base",
      "model_module_version": "1.2.0",
      "model_name": "LayoutModel",
      "state": {}
     },
     "dcd43b7386ab4b0e9ffbcf90e747a841": {
      "model_module": "@jupyter-widgets/base",
      "model_module_version": "1.2.0",
      "model_name": "LayoutModel",
      "state": {}
     },
     "de4b14336b43437894e27da2f5c65f56": {
      "model_module": "jupyter-vuetify",
      "model_module_version": "^1.6.2",
      "model_name": "TextFieldModel",
      "state": {
       "_events": [],
       "_jupyter_vue": "IPY_MODEL_992e22c5a5104efdb11fafa4575ee530",
       "attributes": {},
       "children": [],
       "counter": null,
       "error_count": null,
       "error_messages": null,
       "height": null,
       "hide_details": null,
       "label": "when save the fields?",
       "layout": "IPY_MODEL_3bc05dd731f1423aa4beba92a67ae8d1",
       "loader_height": null,
       "loading": null,
       "messages": null,
       "success_messages": null,
       "v_model": null,
       "v_slots": []
      }
     },
     "de759a080f0e4e73bf428c85f2fcbedd": {
      "model_module": "jupyter-vuetify",
      "model_module_version": "^1.6.2",
      "model_name": "SelectModel",
      "state": {
       "_events": [],
       "_jupyter_vue": "IPY_MODEL_992e22c5a5104efdb11fafa4575ee530",
       "attributes": {},
       "children": [],
       "counter": null,
       "error_count": null,
       "error_messages": null,
       "height": null,
       "hide_details": null,
       "item_disabled": null,
       "item_text": null,
       "item_value": null,
       "items": [
        {
         "text": "{rho: 1.0, q: 0.0, E: 2.5000000000000004}",
         "value": 0
        },
        {
         "text": "{rho: 0.125, q: 0.0, E: 0.25000000000000006}",
         "value": 1
        }
       ],
       "label": "States",
       "layout": "IPY_MODEL_be120edb7c0b4a7cbae6d6a2206fae97",
       "loader_height": null,
       "loading": null,
       "menu_props": null,
       "messages": null,
       "success_messages": null,
       "v_model": 0,
       "v_slots": []
      }
     },
     "dea24449ca424fe7981cd82f7b2d02bf": {
      "model_module": "jupyter-vuetify",
      "model_module_version": "^1.6.2",
      "model_name": "TextFieldModel",
      "state": {
       "_events": [],
       "_jupyter_vue": "IPY_MODEL_992e22c5a5104efdb11fafa4575ee530",
       "attributes": {},
       "children": [],
       "counter": null,
       "error_count": null,
       "error_messages": null,
       "height": null,
       "hide_details": null,
       "label": "rho_right",
       "layout": "IPY_MODEL_6a2c9da3799940d79093aeb49cae7093",
       "loader_height": null,
       "loading": null,
       "messages": null,
       "success_messages": null,
       "v_model": 0.125,
       "v_slots": []
      }
     },
     "dea31ea68aa44651a2158258d1769966": {
      "model_module": "@jupyter-widgets/base",
      "model_module_version": "1.2.0",
      "model_name": "LayoutModel",
      "state": {}
     },
     "ded275a295964082a73e311c14eaaeb9": {
      "model_module": "jupyter-vuetify",
      "model_module_version": "^1.6.2",
      "model_name": "CardModel",
      "state": {
       "_events": [],
       "_jupyter_vue": "IPY_MODEL_992e22c5a5104efdb11fafa4575ee530",
       "attributes": {},
       "children": [
        "IPY_MODEL_66c714fedf104ba6a6fbb7aa0c93a2f2",
        "IPY_MODEL_d8c0efc64bef460aa103e0d3259db681",
        "IPY_MODEL_2ac15d0e1fd642afa0c0c585d4088972"
       ],
       "elevation": null,
       "height": null,
       "href": null,
       "layout": "IPY_MODEL_53ab080b78044b4face43da4364a2914",
       "loader_height": null,
       "loading": null,
       "max_height": null,
       "max_width": null,
       "min_height": null,
       "min_width": null,
       "ripple": null,
       "to": null,
       "v_slots": [],
       "width": null
      }
     },
     "df8b5a4d7aaf4fcc8cd695e76c21c27b": {
      "model_module": "jupyter-vuetify",
      "model_module_version": "^1.6.2",
      "model_name": "CardTextModel",
      "state": {
       "_events": [],
       "_jupyter_vue": "IPY_MODEL_992e22c5a5104efdb11fafa4575ee530",
       "attributes": {},
       "children": [
        "IPY_MODEL_53986a0880704f77b9e6eb0245d52b0c"
       ],
       "layout": "IPY_MODEL_576d0751f2974e21b2b798822a8e0a50",
       "v_slots": []
      }
     },
     "e08715be7f174b4e84df25c44b028131": {
      "model_module": "@jupyter-widgets/base",
      "model_module_version": "1.2.0",
      "model_name": "LayoutModel",
      "state": {}
     },
     "e18cf91cd178478f816c8996dc316ee3": {
      "model_module": "@jupyter-widgets/base",
      "model_module_version": "1.2.0",
      "model_name": "LayoutModel",
      "state": {}
     },
     "e1afe458c3c645708f6acb876f31b677": {
      "model_module": "jupyter-vuetify",
      "model_module_version": "^1.6.2",
      "model_name": "ListItemContentModel",
      "state": {
       "_events": [],
       "_jupyter_vue": "IPY_MODEL_992e22c5a5104efdb11fafa4575ee530",
       "attributes": {},
       "children": [
        "IPY_MODEL_029b8ffc2e7646fd8dbe055821ee42c9",
        "IPY_MODEL_3058d0404af0496a87909ec4d652ddef"
       ],
       "layout": "IPY_MODEL_e7181cd3773c48b3ae2c7648bbd6b6b9",
       "v_slots": []
      }
     },
     "e2533baa912149348a69b49bbeb1a82a": {
      "model_module": "@jupyter-widgets/base",
      "model_module_version": "1.2.0",
      "model_name": "LayoutModel",
      "state": {}
     },
     "e2a5b922ca6c48979fdbcf01d6fc95bd": {
      "model_module": "@jupyter-widgets/base",
      "model_module_version": "1.2.0",
      "model_name": "LayoutModel",
      "state": {}
     },
     "e47d019bbc4e4fb1850cc1bffb850f21": {
      "model_module": "@jupyter-widgets/base",
      "model_module_version": "1.2.0",
      "model_name": "LayoutModel",
      "state": {}
     },
     "e48cbfbdbf0d4a1f90949e3d8f22b8d9": {
      "model_module": "@jupyter-widgets/base",
      "model_module_version": "1.2.0",
      "model_name": "LayoutModel",
      "state": {}
     },
     "e4d1e17716754a09a566bd761a778d50": {
      "model_module": "@jupyter-widgets/base",
      "model_module_version": "1.2.0",
      "model_name": "LayoutModel",
      "state": {}
     },
     "e50f63f260384d1a9831bcf30735d693": {
      "model_module": "@jupyter-widgets/base",
      "model_module_version": "1.2.0",
      "model_name": "LayoutModel",
      "state": {}
     },
     "e57314a282e549c6a904624c0a16dbad": {
      "model_module": "@jupyter-widgets/base",
      "model_module_version": "1.2.0",
      "model_name": "LayoutModel",
      "state": {}
     },
     "e5a176190771412a95e946696af2d9bc": {
      "model_module": "@jupyter-widgets/base",
      "model_module_version": "1.2.0",
      "model_name": "LayoutModel",
      "state": {}
     },
     "e61fe208665e457fadb52af48fccdb2a": {
      "model_module": "@jupyter-widgets/base",
      "model_module_version": "1.2.0",
      "model_name": "LayoutModel",
      "state": {}
     },
     "e63586a9906f410590053c1281d4a3ba": {
      "model_module": "jupyter-vuetify",
      "model_module_version": "^1.6.2",
      "model_name": "ColModel",
      "state": {
       "_events": [],
       "_jupyter_vue": "IPY_MODEL_992e22c5a5104efdb11fafa4575ee530",
       "attributes": {},
       "children": [
        "IPY_MODEL_18ee1985a15e4493919250fab0791dfd"
       ],
       "cols": null,
       "layout": "IPY_MODEL_aeb5b091e1644deab10a2166015d3d63",
       "lg": null,
       "md": null,
       "offset": null,
       "offset_lg": null,
       "offset_md": null,
       "offset_sm": null,
       "offset_xl": null,
       "order": null,
       "order_lg": null,
       "order_md": null,
       "order_sm": null,
       "order_xl": null,
       "sm": 3,
       "v_slots": [],
       "xl": null
      }
     },
     "e678f24f63684d33af7febcc3e111f86": {
      "model_module": "jupyter-vuetify",
      "model_module_version": "^1.6.2",
      "model_name": "FormModel",
      "state": {
       "_events": [],
       "_jupyter_vue": "IPY_MODEL_992e22c5a5104efdb11fafa4575ee530",
       "attributes": {},
       "children": [
        "IPY_MODEL_b471584d100a4ce09552ede5a5f6396b",
        "IPY_MODEL_4239f22fe9a042e4b391e444aa56ec7a",
        "IPY_MODEL_de4b14336b43437894e27da2f5c65f56"
       ],
       "layout": "IPY_MODEL_1ec3a9454e6e4edfa571b35da973a25f",
       "v_model": "valid",
       "v_slots": []
      }
     },
     "e6c237c493074b4bb1ca5f44c2afdd0c": {
      "model_module": "jupyter-vuetify",
      "model_module_version": "^1.6.2",
      "model_name": "TextFieldModel",
      "state": {
       "_events": [],
       "_jupyter_vue": "IPY_MODEL_992e22c5a5104efdb11fafa4575ee530",
       "attributes": {},
       "children": [],
       "counter": null,
       "error_count": null,
       "error_messages": null,
       "height": null,
       "hide_details": null,
       "label": "q",
       "layout": "IPY_MODEL_671e732d997544f3b3a4cc89908fe3d3",
       "loader_height": null,
       "loading": null,
       "messages": null,
       "success_messages": null,
       "v_model": 0,
       "v_slots": []
      }
     },
     "e6c47b6fa9de45b7b6221afe88dfb043": {
      "model_module": "@jupyter-widgets/base",
      "model_module_version": "1.2.0",
      "model_name": "LayoutModel",
      "state": {}
     },
     "e6ec6b7b52214cff887acf4132d77baf": {
      "model_module": "jupyter-vuetify",
      "model_module_version": "^1.6.2",
      "model_name": "TextFieldModel",
      "state": {
       "_events": [],
       "_jupyter_vue": "IPY_MODEL_992e22c5a5104efdb11fafa4575ee530",
       "attributes": {},
       "children": [],
       "counter": null,
       "error_count": null,
       "error_messages": null,
       "height": null,
       "hide_details": null,
       "label": "p_right",
       "layout": "IPY_MODEL_e2a5b922ca6c48979fdbcf01d6fc95bd",
       "loader_height": null,
       "loading": null,
       "messages": null,
       "success_messages": null,
       "v_model": 0.1,
       "v_slots": []
      }
     },
     "e6fda3293e3f4587809f81daa4237e5c": {
      "model_module": "@jupyter-widgets/base",
      "model_module_version": "1.2.0",
      "model_name": "LayoutModel",
      "state": {}
     },
     "e71641a879b64aba9cefa10979d2e0c4": {
      "model_module": "@jupyter-widgets/base",
      "model_module_version": "1.2.0",
      "model_name": "LayoutModel",
      "state": {}
     },
     "e7181cd3773c48b3ae2c7648bbd6b6b9": {
      "model_module": "@jupyter-widgets/base",
      "model_module_version": "1.2.0",
      "model_name": "LayoutModel",
      "state": {}
     },
     "e7b0497eda68472b809400a9ba2ebb3c": {
      "model_module": "jupyter-vuetify",
      "model_module_version": "^1.6.2",
      "model_name": "FlexModel",
      "state": {
       "_events": [],
       "_jupyter_vue": "IPY_MODEL_992e22c5a5104efdb11fafa4575ee530",
       "attributes": {},
       "children": [
        "IPY_MODEL_97acd179d37e482b8b7974c88af39685"
       ],
       "layout": "IPY_MODEL_582564695ed34d09aebaaae1293c25cb",
       "v_slots": [],
       "xs12": true
      }
     },
     "e828220512a9490c8d22fe8fc26eae60": {
      "model_module": "@jupyter-widgets/output",
      "model_module_version": "1.0.0",
      "model_name": "OutputModel",
      "state": {
       "layout": "IPY_MODEL_a6f6cab2bdfc49c5839368163c95a119",
       "outputs": [
        {
         "data": {
          "text/html": "<p>The $D_1Q_{222}$ scheme is the smallest vectorial scheme for inviscid flows.</p>\n<p>It involves the following set of parameters:</p>\n<p>Relaxation rates (values must be in $]0,2[$):</p>\n<ul>\n<li>\n<p>$s_{\\rho}$: the relaxation rate for the density equation</p>\n</li>\n<li>\n<p>$s_u$: the relaxation rate for the velocity equation</p>\n</li>\n<li>\n<p>$s_p$: the relaxation rate for the pressure equation</p>\n</li>\n</ul>",
          "text/plain": "<IPython.core.display.HTML object>"
         },
         "metadata": {},
         "output_type": "display_data"
        }
       ]
      }
     },
     "e82ce67791674052b08123d70f34eb1a": {
      "model_module": "@jupyter-widgets/base",
      "model_module_version": "1.2.0",
      "model_name": "LayoutModel",
      "state": {}
     },
     "e873cdd948c74d4e9557a19f40293126": {
      "model_module": "@jupyter-widgets/base",
      "model_module_version": "1.2.0",
      "model_name": "LayoutModel",
      "state": {}
     },
     "e8e840709fc74e089ce980a1bf3ded4d": {
      "model_module": "jupyter-vuetify",
      "model_module_version": "^1.6.2",
      "model_name": "CardTitleModel",
      "state": {
       "_events": [],
       "_jupyter_vue": "IPY_MODEL_992e22c5a5104efdb11fafa4575ee530",
       "attributes": {},
       "children": [
        "New linear state configuration"
       ],
       "class_": "headline gray lighten-2",
       "layout": "IPY_MODEL_6e15f8ff847144fe9101fdeeb9b10044",
       "v_slots": []
      }
     },
     "e970e8989cf44d40bf175b9ea147a74e": {
      "model_module": "@jupyter-widgets/base",
      "model_module_version": "1.2.0",
      "model_name": "LayoutModel",
      "state": {}
     },
     "eb5f4b572a4c47f080143925446d43a9": {
      "model_module": "jupyter-vuetify",
      "model_module_version": "^1.6.2",
      "model_name": "TextFieldModel",
      "state": {
       "_events": [],
       "_jupyter_vue": "IPY_MODEL_992e22c5a5104efdb11fafa4575ee530",
       "attributes": {},
       "children": [],
       "counter": null,
       "error_count": null,
       "error_messages": null,
       "height": null,
       "hide_details": null,
       "label": "rho_left",
       "layout": "IPY_MODEL_20c2a64e848644daba44d94098c7a3ec",
       "loader_height": null,
       "loading": null,
       "messages": null,
       "success_messages": null,
       "v_model": 1,
       "v_slots": []
      }
     },
     "ec2c54bca8a34029b9e12b572f49e538": {
      "model_module": "@jupyter-widgets/base",
      "model_module_version": "1.2.0",
      "model_name": "LayoutModel",
      "state": {}
     },
     "ec4ab14d55314d9c86d174bc6b1dd037": {
      "model_module": "@jupyter-widgets/base",
      "model_module_version": "1.2.0",
      "model_name": "LayoutModel",
      "state": {}
     },
     "ec51955a69be4b47b407d841b85cea85": {
      "model_module": "jupyter-vuetify",
      "model_module_version": "^1.6.2",
      "model_name": "TextFieldModel",
      "state": {
       "_events": [],
       "_jupyter_vue": "IPY_MODEL_992e22c5a5104efdb11fafa4575ee530",
       "attributes": {},
       "children": [],
       "counter": null,
       "error_count": null,
       "error_messages": null,
       "height": null,
       "hide_details": null,
       "label": "Number of samples",
       "layout": "IPY_MODEL_a89d178a46604e57b36066fe17be1ba7",
       "loader_height": null,
       "loading": null,
       "messages": null,
       "success_messages": null,
       "type": "number",
       "v_model": 10,
       "v_slots": []
      }
     },
     "eca9ba84955a4c9a856502032d866fd0": {
      "model_module": "@jupyter-widgets/base",
      "model_module_version": "1.2.0",
      "model_name": "LayoutModel",
      "state": {}
     },
     "ed69a3ddf6c04aeb9932fc8fe77d8e90": {
      "model_module": "jupyter-vuetify",
      "model_module_version": "^1.6.2",
      "model_name": "RowModel",
      "state": {
       "_events": [],
       "_jupyter_vue": "IPY_MODEL_992e22c5a5104efdb11fafa4575ee530",
       "attributes": {},
       "children": [
        "IPY_MODEL_078efc37e59d41678a692aa974d64e51",
        "IPY_MODEL_9056d2fc8a6143a2b2cc3c4ff079745b"
       ],
       "layout": "IPY_MODEL_88d858c286c14a65b06fc655215c32ec",
       "v_slots": []
      }
     },
     "ee8e1a991b7a47848da7fa03cb095765": {
      "model_module": "@jupyter-widgets/base",
      "model_module_version": "1.2.0",
      "model_name": "LayoutModel",
      "state": {}
     },
     "efba83c7ab9e411da09c09a6b4af3b4d": {
      "model_module": "@jupyter-widgets/base",
      "model_module_version": "1.2.0",
      "model_name": "LayoutModel",
      "state": {}
     },
     "f003d41678214172a9b648f053079620": {
      "model_module": "jupyter-vuetify",
      "model_module_version": "^1.6.2",
      "model_name": "CardTextModel",
      "state": {
       "_events": [],
       "_jupyter_vue": "IPY_MODEL_992e22c5a5104efdb11fafa4575ee530",
       "attributes": {},
       "children": [
        "IPY_MODEL_e678f24f63684d33af7febcc3e111f86"
       ],
       "layout": "IPY_MODEL_f67d0bc14e0b4a46ba3b2da7a9c508db",
       "v_slots": []
      }
     },
     "f0b3bdab80654e47b1d753c1a541f222": {
      "model_module": "jupyter-vuetify",
      "model_module_version": "^1.6.2",
      "model_name": "RowModel",
      "state": {
       "_events": [],
       "_jupyter_vue": "IPY_MODEL_992e22c5a5104efdb11fafa4575ee530",
       "attributes": {},
       "children": [
        "IPY_MODEL_03b9eda0a6a5445d93ec9eb7895696eb",
        "IPY_MODEL_c4b1b56689c646a5ad4d2fc21ab3f40a"
       ],
       "layout": "IPY_MODEL_5b5055b3dc354ab599da0a241de0a1d7",
       "v_slots": []
      }
     },
     "f2c4ba0165ce46c19643c381de4c0542": {
      "model_module": "@jupyter-widgets/base",
      "model_module_version": "1.2.0",
      "model_name": "LayoutModel",
      "state": {}
     },
     "f2e7feb7d4fc41d586c5ba2ea5f46951": {
      "model_module": "jupyter-vuetify",
      "model_module_version": "^1.6.2",
      "model_name": "BtnModel",
      "state": {
       "_events": [
        "click"
       ],
       "_jupyter_vue": "IPY_MODEL_992e22c5a5104efdb11fafa4575ee530",
       "attributes": {},
       "children": [
        "Pause"
       ],
       "class_": "ma-2",
       "disabled": true,
       "elevation": null,
       "height": null,
       "href": null,
       "layout": "IPY_MODEL_8a5427f927c846d28162f6082d4465be",
       "max_height": null,
       "max_width": null,
       "min_height": null,
       "min_width": null,
       "ripple": null,
       "style_": "width: 100px",
       "to": null,
       "v_model": false,
       "v_slots": [],
       "width": null
      }
     },
     "f469f9b7792942d5b882a1e4699f2909": {
      "model_module": "jupyter-vuetify",
      "model_module_version": "^1.6.2",
      "model_name": "ListItemModel",
      "state": {
       "_events": [],
       "_jupyter_vue": "IPY_MODEL_992e22c5a5104efdb11fafa4575ee530",
       "attributes": {},
       "children": [
        "IPY_MODEL_712eea0a042e475699a85a5c0dabac95"
       ],
       "href": null,
       "layout": "IPY_MODEL_2b2039ba99144be08c72ec442dcbf852",
       "ripple": null,
       "to": null,
       "v_slots": []
      }
     },
     "f49094afa03a4fca841171359de71272": {
      "model_module": "jupyter-matplotlib",
      "model_module_version": "^0.8.3",
      "model_name": "ToolbarModel",
      "state": {
       "layout": "IPY_MODEL_6912efa43c0544079e8c36f95e3dce58",
       "toolitems": [
        [
         "Home",
         "Reset original view",
         "home",
         "home"
        ],
        [
         "Back",
         "Back to previous view",
         "arrow-left",
         "back"
        ],
        [
         "Forward",
         "Forward to next view",
         "arrow-right",
         "forward"
        ],
        [
         "Pan",
         "Left button pans, Right button zooms\nx/y fixes axis, CTRL fixes aspect",
         "arrows",
         "pan"
        ],
        [
         "Zoom",
         "Zoom to rectangle\nx/y fixes axis, CTRL fixes aspect",
         "square-o",
         "zoom"
        ],
        [
         "Download",
         "Download plot",
         "floppy-o",
         "save_figure"
        ]
       ]
      }
     },
     "f4aa3971626d420397fa54120e4aa991": {
      "model_module": "@jupyter-widgets/base",
      "model_module_version": "1.2.0",
      "model_name": "LayoutModel",
      "state": {}
     },
     "f51554893fef4b0093ca82febc0e4448": {
      "model_module": "@jupyter-widgets/base",
      "model_module_version": "1.2.0",
      "model_name": "LayoutModel",
      "state": {}
     },
     "f61c4870ce8b44829fe46d83d9f293e2": {
      "model_module": "@jupyter-widgets/base",
      "model_module_version": "1.2.0",
      "model_name": "LayoutModel",
      "state": {}
     },
     "f61f26143f394d4b9a07831984f51e32": {
      "model_module": "jupyter-vuetify",
      "model_module_version": "^1.6.2",
      "model_name": "BtnModel",
      "state": {
       "_events": [],
       "_jupyter_vue": "IPY_MODEL_992e22c5a5104efdb11fafa4575ee530",
       "attributes": {},
       "children": [
        "IPY_MODEL_842834f35d404e55820d6490fca2bfa5"
       ],
       "color": "error",
       "dark": true,
       "elevation": null,
       "fab": true,
       "height": null,
       "href": null,
       "layout": "IPY_MODEL_b5e5b24208604822b12389860b64822a",
       "max_height": null,
       "max_width": null,
       "min_height": null,
       "min_width": null,
       "ripple": null,
       "to": null,
       "v_slots": [],
       "width": null,
       "x_small": true
      }
     },
     "f67d0bc14e0b4a46ba3b2da7a9c508db": {
      "model_module": "@jupyter-widgets/base",
      "model_module_version": "1.2.0",
      "model_name": "LayoutModel",
      "state": {}
     },
     "f6cf569f0bf1466bb91bb7e305778b89": {
      "model_module": "jupyter-vuetify",
      "model_module_version": "^1.6.2",
      "model_name": "CardModel",
      "state": {
       "_events": [],
       "_jupyter_vue": "IPY_MODEL_992e22c5a5104efdb11fafa4575ee530",
       "attributes": {},
       "children": [
        "IPY_MODEL_ca88226c7049455eab3932b124d2b07f",
        "IPY_MODEL_0365ff2dd4f64c24afc02fa06c82b16b"
       ],
       "class_": "ma-2",
       "elevation": null,
       "height": null,
       "href": null,
       "layout": "IPY_MODEL_466436bcd6e742248f01d4677faf9cf2",
       "loader_height": null,
       "loading": null,
       "max_height": null,
       "max_width": null,
       "min_height": null,
       "min_width": null,
       "ripple": null,
       "to": null,
       "v_slots": [],
       "width": null
      }
     },
     "f73f95eaaecb4a8d90c922a508a9bb8f": {
      "model_module": "@jupyter-widgets/base",
      "model_module_version": "1.2.0",
      "model_name": "LayoutModel",
      "state": {}
     },
     "f7545df150094498a6b6998994c0f49a": {
      "model_module": "@jupyter-widgets/base",
      "model_module_version": "1.2.0",
      "model_name": "LayoutModel",
      "state": {}
     },
     "f7a4e0d50fa64ef28b4ebe29bf962d84": {
      "model_module": "jupyter-vuetify",
      "model_module_version": "^1.6.2",
      "model_name": "LayoutModel",
      "state": {
       "_events": [],
       "_jupyter_vue": "IPY_MODEL_992e22c5a5104efdb11fafa4575ee530",
       "align_center": true,
       "attributes": {},
       "children": [
        "IPY_MODEL_064f7a7f39294973ba9efcffe1b780f3"
       ],
       "class_": "pa-5 ma-2",
       "layout": "IPY_MODEL_95ac9dca97ce4226a424e69cce177209",
       "row": true,
       "v_slots": []
      }
     },
     "f7f86d12226742339f3515411b20fbe4": {
      "model_module": "jupyter-vuetify",
      "model_module_version": "^1.6.2",
      "model_name": "SelectModel",
      "state": {
       "_events": [],
       "_jupyter_vue": "IPY_MODEL_992e22c5a5104efdb11fafa4575ee530",
       "attributes": {},
       "children": [],
       "counter": null,
       "error_count": null,
       "error_messages": null,
       "height": null,
       "hide_details": null,
       "item_disabled": null,
       "item_text": null,
       "item_value": null,
       "items": [
        "all",
        "linear stability",
        "CFL",
        "plot mass",
        "error on mass",
        "relative error on mass",
        "plot momentum",
        "error on momentum",
        "relative error on momentum",
        "plot energy",
        "error on energy",
        "relative error on energy",
        "plot velocity",
        "error on velocity",
        "relative error on velocity",
        "plot pressure",
        "error on pressure",
        "relative error on pressure",
        "plot internal energy",
        "error on internal energy",
        "relative error on internal energy",
        "plot mach number",
        "error on mach number",
        "relative error on mach number",
        "s_rho",
        "sigma for s_rho",
        "diff for s_rho",
        "diff with dx=1 for s_rho",
        "s_u",
        "sigma for s_u",
        "diff for s_u",
        "diff with dx=1 for s_u",
        "s_p",
        "sigma for s_p",
        "diff for s_p",
        "diff with dx=1 for s_p"
       ],
       "label": "Responses",
       "layout": "IPY_MODEL_9bf6d3300f824df69f72d23929d54765",
       "loader_height": null,
       "loading": null,
       "menu_props": null,
       "messages": null,
       "multiple": true,
       "success_messages": null,
       "v_model": [],
       "v_slots": []
      }
     },
     "f8ae9836c94943408b7dc0fb770f08a6": {
      "model_module": "jupyter-vuetify",
      "model_module_version": "^1.6.2",
      "model_name": "ExpansionPanelModel",
      "state": {
       "_events": [],
       "_jupyter_vue": "IPY_MODEL_992e22c5a5104efdb11fafa4575ee530",
       "attributes": {},
       "children": [
        "IPY_MODEL_c5d7e74759fc4adfbc6b2750671a656a",
        "IPY_MODEL_31f502a57a0841a791c29b5992c0e295"
       ],
       "layout": "IPY_MODEL_fb9033bf6f314e788eabd640f664854a",
       "v_slots": []
      }
     },
     "f8e659de1e884430a54d6c74c3364483": {
      "model_module": "jupyter-vuetify",
      "model_module_version": "^1.6.2",
      "model_name": "CardActionsModel",
      "state": {
       "_events": [],
       "_jupyter_vue": "IPY_MODEL_992e22c5a5104efdb11fafa4575ee530",
       "attributes": {},
       "children": [
        "IPY_MODEL_aade27b2b9894b7ea2278c845d00ab7b",
        "IPY_MODEL_c2ae169bb51e4063a4f5f5b132faca38",
        "IPY_MODEL_f951ebd104aa40dc914eb8fc6c274225"
       ],
       "layout": "IPY_MODEL_5dd94ceb34f14681b6a8ffb6c3053987",
       "v_slots": []
      }
     },
     "f951ebd104aa40dc914eb8fc6c274225": {
      "model_module": "jupyter-vuetify",
      "model_module_version": "^1.6.2",
      "model_name": "BtnModel",
      "state": {
       "_events": [
        "click"
       ],
       "_jupyter_vue": "IPY_MODEL_992e22c5a5104efdb11fafa4575ee530",
       "attributes": {},
       "children": [
        "close"
       ],
       "color": "error",
       "elevation": null,
       "height": null,
       "href": null,
       "layout": "IPY_MODEL_4358c512dfa34397978a042de2f13136",
       "max_height": null,
       "max_width": null,
       "min_height": null,
       "min_width": null,
       "ripple": null,
       "to": null,
       "v_slots": [],
       "width": null
      }
     },
     "fa3c01207557434ebfbd223e888b3b58": {
      "model_module": "@jupyter-widgets/base",
      "model_module_version": "1.2.0",
      "model_name": "LayoutModel",
      "state": {}
     },
     "fa47a2e1e0124c2dbb2f7d856fcdb02c": {
      "model_module": "@jupyter-widgets/base",
      "model_module_version": "1.2.0",
      "model_name": "LayoutModel",
      "state": {}
     },
     "fa5e4c38a4bd475da7ee8d7933593f69": {
      "model_module": "@jupyter-widgets/base",
      "model_module_version": "1.2.0",
      "model_name": "LayoutModel",
      "state": {}
     },
     "fae4674aeae0441f9259d2f558ea6a86": {
      "model_module": "@jupyter-widgets/base",
      "model_module_version": "1.2.0",
      "model_name": "LayoutModel",
      "state": {}
     },
     "fb0a18067cf84b149e436261e9c37cfd": {
      "model_module": "@jupyter-widgets/base",
      "model_module_version": "1.2.0",
      "model_name": "LayoutModel",
      "state": {}
     },
     "fb9033bf6f314e788eabd640f664854a": {
      "model_module": "@jupyter-widgets/base",
      "model_module_version": "1.2.0",
      "model_name": "LayoutModel",
      "state": {}
     },
     "fd04efacac16450fa6c0467916885ae4": {
      "model_module": "jupyter-vuetify",
      "model_module_version": "^1.6.2",
      "model_name": "ListItemActionModel",
      "state": {
       "_events": [],
       "_jupyter_vue": "IPY_MODEL_992e22c5a5104efdb11fafa4575ee530",
       "attributes": {},
       "children": [],
       "layout": "IPY_MODEL_e47d019bbc4e4fb1850cc1bffb850f21",
       "v_slots": []
      }
     },
     "fd728f90b98c48d8814f0acbf602cf96": {
      "model_module": "@jupyter-widgets/base",
      "model_module_version": "1.2.0",
      "model_name": "LayoutModel",
      "state": {}
     },
     "fd7fd6ecfbf7453ca8bbe5c721f83b2d": {
      "model_module": "jupyter-vuetify",
      "model_module_version": "^1.6.2",
      "model_name": "AppModel",
      "state": {
       "_events": [],
       "_jupyter_vue": "IPY_MODEL_992e22c5a5104efdb11fafa4575ee530",
       "attributes": {},
       "children": [
        "IPY_MODEL_463cdaa725cc48c4a4c17350e6612415",
        "IPY_MODEL_957b4c41f10c4bbf9e587c18a1e93037",
        "IPY_MODEL_1e4f6b472ac3465eb6076c363810ad97"
       ],
       "layout": "IPY_MODEL_bc5f4ffb47a64f83a1c38416d7c1f31b",
       "v_slots": []
      }
     },
     "fda8ae586be149c299870443ae4e2b9f": {
      "model_module": "jupyter-vuetify",
      "model_module_version": "^1.6.2",
      "model_name": "CardTextModel",
      "state": {
       "_events": [],
       "_jupyter_vue": "IPY_MODEL_992e22c5a5104efdb11fafa4575ee530",
       "attributes": {},
       "children": [
        "IPY_MODEL_832343a41db2400282e2605ffd4e20a6"
       ],
       "layout": "IPY_MODEL_ccb14f81090a46a783218bd788952b77",
       "v_slots": []
      }
     },
     "fe151f0db6284d78a0bc5239097f72f4": {
      "model_module": "jupyter-vuetify",
      "model_module_version": "^1.6.2",
      "model_name": "LayoutModel",
      "state": {
       "_events": [],
       "_jupyter_vue": "IPY_MODEL_992e22c5a5104efdb11fafa4575ee530",
       "align_center": true,
       "attributes": {},
       "children": [
        "IPY_MODEL_e7b0497eda68472b809400a9ba2ebb3c"
       ],
       "class_": "pa-5 ma-2",
       "layout": "IPY_MODEL_dbe3ed27bd19444280641350d2277559",
       "row": true,
       "v_slots": []
      }
     },
     "fe7ed680990740478a294c5de4f1827a": {
      "model_module": "jupyter-vuetify",
      "model_module_version": "^1.6.2",
      "model_name": "BtnModel",
      "state": {
       "_events": [
        "click"
       ],
       "_jupyter_vue": "IPY_MODEL_992e22c5a5104efdb11fafa4575ee530",
       "attributes": {},
       "children": [
        "IPY_MODEL_dacadeb89c284e24a9c3051dbed39e55",
        "IPY_MODEL_3d09c2b194bf48f98f706a63a3e0b266"
       ],
       "color": "primary",
       "dark": true,
       "elevation": null,
       "fab": true,
       "height": null,
       "href": null,
       "layout": "IPY_MODEL_5a1a920267034c48afe33c299334ab90",
       "max_height": null,
       "max_width": null,
       "min_height": null,
       "min_width": null,
       "ripple": null,
       "small": true,
       "to": null,
       "v_slots": [],
       "width": null
      }
     },
     "ff85067644504f27a99825da60531c3b": {
      "model_module": "jupyter-vuetify",
      "model_module_version": "^1.6.2",
      "model_name": "TextFieldModel",
      "state": {
       "_events": [],
       "_jupyter_vue": "IPY_MODEL_992e22c5a5104efdb11fafa4575ee530",
       "attributes": {},
       "children": [],
       "counter": null,
       "error_count": null,
       "error_messages": null,
       "height": null,
       "hide_details": null,
       "label": "E",
       "layout": "IPY_MODEL_5fc2c8574d6743419671cfb88024507e",
       "loader_height": null,
       "loading": null,
       "messages": null,
       "success_messages": null,
       "v_model": 2.5000000000000004,
       "v_slots": []
      }
     },
     "ffb49cee917e41fe868a9bfd4b7c59b7": {
      "model_module": "@jupyter-widgets/base",
      "model_module_version": "1.2.0",
      "model_name": "LayoutModel",
      "state": {}
     }
    },
    "version_major": 2,
    "version_minor": 0
   }
  }
 },
 "nbformat": 4,
 "nbformat_minor": 5
}
